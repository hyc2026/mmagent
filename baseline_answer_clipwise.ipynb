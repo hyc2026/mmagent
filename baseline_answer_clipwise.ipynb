{
 "cells": [
  {
   "cell_type": "code",
   "execution_count": 3,
   "metadata": {},
   "outputs": [],
   "source": [
    "from utils.general import *\n",
    "from utils.video_processing import *\n",
    "from utils.chat_api import *\n",
    "from prompts import *\n",
    "import tempfile\n",
    "\n",
    "from moviepy import VideoFileClip\n",
    "import base64\n",
    "import os\n",
    "import numpy as np\n",
    "from tqdm import tqdm"
   ]
  },
  {
   "cell_type": "code",
   "execution_count": 5,
   "metadata": {},
   "outputs": [],
   "source": [
    "def answer_question(video_clips, qa, model):\n",
    "    question = qa[\"question\"]\n",
    "    gt = qa[\"answer\"]\n",
    "\n",
    "    inputs = [\n",
    "        [\n",
    "            {\"type\": \"video_base64\", \"content\": clip},\n",
    "            {\"type\": \"text\", \"content\": prompt_baseline_answer_clipwise_extract},\n",
    "            {\"type\": \"text\", \"content\": f\"Question: {question}\"},\n",
    "            {\"type\": \"text\", \"content\": \"Extracted information:\"},\n",
    "        ]\n",
    "        for clip in video_clips\n",
    "    ]\n",
    "    messages = [generate_messages(input) for input in inputs]\n",
    "    responses = parallel_get_response(model, messages)\n",
    "\n",
    "    extracted_information = [\n",
    "        response for response in responses[0] if not response.lower().startswith(\"none\")\n",
    "    ]\n",
    "    qa[\"extracted_information\"] = extracted_information\n",
    "    if len(extracted_information) == 0:\n",
    "        answer = \"Unanswerable.\"\n",
    "    else:\n",
    "        input = [\n",
    "            {\"type\": \"text\", \"content\": prompt_baseline_answer_clipwise_summarize},\n",
    "            {\"type\": \"text\", \"content\": f\"Question: {question}\"},\n",
    "            {\n",
    "                \"type\": \"text\",\n",
    "                \"content\": f\"Extracted information: {extracted_information}\",\n",
    "            },\n",
    "            {\"type\": \"text\", \"content\": \"Answer:\"},\n",
    "        ]\n",
    "        messages = generate_messages(input)\n",
    "        model = \"gpt-4o-2024-11-20\"\n",
    "        response = get_response_with_retry(model, messages)\n",
    "        answer = response[0]\n",
    "\n",
    "    qa[\"answer_baselines\"] = answer\n",
    "    return qa\n",
    "\n",
    "\n",
    "def verify_answers(qas):\n",
    "    inputs = [\n",
    "        [\n",
    "            {\n",
    "                \"type\": \"text\",\n",
    "                \"content\": json.dumps(qa),\n",
    "            },\n",
    "            {\n",
    "                \"type\": \"text\",\n",
    "                \"content\": prompt_benchmark_verify_answer,\n",
    "            },\n",
    "            {\n",
    "                \"type\": \"text\",\n",
    "                \"content\": \"Now answer if the answer from the baseline is correct or not:\",\n",
    "            },\n",
    "        ]\n",
    "        for qa in qas\n",
    "    ]\n",
    "    messages = [generate_messages(input) for input in inputs]\n",
    "    model = \"gpt-4o-2024-11-20\"\n",
    "    responses = parallel_get_response(model, messages)\n",
    "\n",
    "    results = responses[0]\n",
    "\n",
    "    # calculate the accuracy of the answers\n",
    "    correct = 0\n",
    "    for result in results:\n",
    "        if result.lower().startswith(\"yes\"):\n",
    "            correct += 1\n",
    "    accuracy = correct / len(results)\n",
    "\n",
    "    return accuracy, results\n",
    "\n",
    "\n",
    "def process_video(video, interval_seconds):\n",
    "    \"\"\"Process video segments at specified intervals with given fps.\n",
    "\n",
    "    Args:\n",
    "        video_path (str): Path to the video file\n",
    "        interval_seconds (float): Time interval between segments in seconds\n",
    "        fps (float): Frames per second to extract from each segment\n",
    "\n",
    "    Returns:\n",
    "        None\n",
    "    \"\"\"\n",
    "\n",
    "    video_path = video[\"path\"]\n",
    "    qa_list = video[\"qa_list\"]\n",
    "\n",
    "    video_info = get_video_info(video_path)\n",
    "    print(video_info)\n",
    "\n",
    "    clips = []\n",
    "\n",
    "    # Process each interval\n",
    "    for start_time in np.arange(0, video_info[\"duration\"], interval_seconds):\n",
    "        if start_time >= video_info[\"duration\"]:\n",
    "            break\n",
    "\n",
    "        base64_video, _, _ = process_video_clip(\n",
    "            video_path, start_time, interval_seconds\n",
    "        )\n",
    "        clips.append(base64_video)\n",
    "\n",
    "    model = \"gemini-1.5-pro-002\"\n",
    "    qpm = config[model][\"qpm\"]\n",
    "    qa_batch_size = qpm // len(clips)\n",
    "    qa_batches = [\n",
    "        qa_list[i : i + qa_batch_size] for i in range(0, len(qa_list), qa_batch_size)\n",
    "    ]\n",
    "\n",
    "    answered_qa_list = []\n",
    "\n",
    "    for qa_batch in qa_batches:\n",
    "        # parallel question answering with multiple threads\n",
    "        with ThreadPoolExecutor(max_workers=len(qa_batch)) as executor:\n",
    "            futures = [\n",
    "                executor.submit(answer_question, clips, qa, model) for qa in qa_batch\n",
    "            ]\n",
    "            for future in as_completed(futures):\n",
    "                qa = future.result()\n",
    "                answered_qa_list.append(qa)\n",
    "\n",
    "    video[\"qa_list\"] = answered_qa_list\n",
    "    return video"
   ]
  },
  {
   "cell_type": "code",
   "execution_count": 5,
   "metadata": {},
   "outputs": [
    {
     "name": "stderr",
     "output_type": "stream",
     "text": [
      "  0%|          | 0/50 [00:00<?, ?it/s]"
     ]
    },
    {
     "name": "stdout",
     "output_type": "stream",
     "text": [
      "{'fps': 23.976023976023978, 'frames': 41829, 'duration': 1744.617875, 'path': 'data/videos/raw/360p/PnvZZwlN2yk.mp4', 'name': 'PnvZZwlN2yk.mp4', 'width': 640, 'height': 360, 'codec': 808596553.0, 'format': 0.0, 'fourcc': 875967080.0}\n",
      "{'fps': 23.976023976023978, 'frames': 41829, 'duration': 1744.617875, 'path': 'data/videos/raw/360p/PnvZZwlN2yk.mp4', 'name': 'PnvZZwlN2yk.mp4', 'width': 640, 'height': 360, 'codec': 808596553.0, 'format': 0.0, 'fourcc': 875967080.0}\n"
     ]
    },
    {
     "name": "stderr",
     "output_type": "stream",
     "text": [
      "  2%|▏         | 1/50 [03:54<3:11:42, 234.75s/it]"
     ]
    },
    {
     "name": "stdout",
     "output_type": "stream",
     "text": [
      "{'fps': 23.976023976023978, 'frames': 39306, 'duration': 1639.3877499999999, 'path': 'data/videos/raw/360p/n-B_kmAebbQ.mp4', 'name': 'n-B_kmAebbQ.mp4', 'width': 640, 'height': 360, 'codec': 808596553.0, 'format': 0.0, 'fourcc': 875967080.0}\n",
      "{'fps': 23.976023976023978, 'frames': 39306, 'duration': 1639.3877499999999, 'path': 'data/videos/raw/360p/n-B_kmAebbQ.mp4', 'name': 'n-B_kmAebbQ.mp4', 'width': 640, 'height': 360, 'codec': 808596553.0, 'format': 0.0, 'fourcc': 875967080.0}\n"
     ]
    },
    {
     "name": "stderr",
     "output_type": "stream",
     "text": [
      "  4%|▍         | 2/50 [08:25<3:24:56, 256.19s/it]"
     ]
    },
    {
     "name": "stdout",
     "output_type": "stream",
     "text": [
      "{'fps': 23.976023976023978, 'frames': 35913, 'duration': 1497.871375, 'path': 'data/videos/raw/360p/GTIjylkB-TI.mp4', 'name': 'GTIjylkB-TI.mp4', 'width': 640, 'height': 360, 'codec': 808596553.0, 'format': 0.0, 'fourcc': 875967080.0}\n",
      "{'fps': 23.976023976023978, 'frames': 35913, 'duration': 1497.871375, 'path': 'data/videos/raw/360p/GTIjylkB-TI.mp4', 'name': 'GTIjylkB-TI.mp4', 'width': 640, 'height': 360, 'codec': 808596553.0, 'format': 0.0, 'fourcc': 875967080.0}\n"
     ]
    },
    {
     "name": "stderr",
     "output_type": "stream",
     "text": [
      "  6%|▌         | 3/50 [14:43<4:04:15, 311.82s/it]"
     ]
    },
    {
     "name": "stdout",
     "output_type": "stream",
     "text": [
      "{'fps': 29.97002997002997, 'frames': 53880, 'duration': 1797.796, 'path': 'data/videos/raw/360p/jvUX3ocBSCk.mp4', 'name': 'jvUX3ocBSCk.mp4', 'width': 640, 'height': 360, 'codec': 808596553.0, 'format': 0.0, 'fourcc': 875967080.0}\n",
      "{'fps': 29.97002997002997, 'frames': 53880, 'duration': 1797.796, 'path': 'data/videos/raw/360p/jvUX3ocBSCk.mp4', 'name': 'jvUX3ocBSCk.mp4', 'width': 640, 'height': 360, 'codec': 808596553.0, 'format': 0.0, 'fourcc': 875967080.0}\n"
     ]
    },
    {
     "name": "stderr",
     "output_type": "stream",
     "text": [
      "  8%|▊         | 4/50 [20:56<4:17:22, 335.70s/it]"
     ]
    },
    {
     "name": "stdout",
     "output_type": "stream",
     "text": [
      "{'fps': 29.97002997002997, 'frames': 36800, 'duration': 1227.8933333333334, 'path': 'data/videos/raw/360p/UPk8fzT4t8o.mp4', 'name': 'UPk8fzT4t8o.mp4', 'width': 640, 'height': 360, 'codec': 808596553.0, 'format': 0.0, 'fourcc': 875967080.0}\n",
      "{'fps': 29.97002997002997, 'frames': 36800, 'duration': 1227.8933333333334, 'path': 'data/videos/raw/360p/UPk8fzT4t8o.mp4', 'name': 'UPk8fzT4t8o.mp4', 'width': 640, 'height': 360, 'codec': 808596553.0, 'format': 0.0, 'fourcc': 875967080.0}\n"
     ]
    },
    {
     "name": "stderr",
     "output_type": "stream",
     "text": [
      " 10%|█         | 5/50 [25:11<3:50:05, 306.79s/it]"
     ]
    },
    {
     "name": "stdout",
     "output_type": "stream",
     "text": [
      "{'fps': 25.0, 'frames': 38967, 'duration': 1558.68, 'path': 'data/videos/raw/360p/oRapwDWgElQ.mp4', 'name': 'oRapwDWgElQ.mp4', 'width': 640, 'height': 360, 'codec': 808596553.0, 'format': 0.0, 'fourcc': 875967080.0}\n",
      "{'fps': 25.0, 'frames': 38967, 'duration': 1558.68, 'path': 'data/videos/raw/360p/oRapwDWgElQ.mp4', 'name': 'oRapwDWgElQ.mp4', 'width': 640, 'height': 360, 'codec': 808596553.0, 'format': 0.0, 'fourcc': 875967080.0}\n"
     ]
    },
    {
     "name": "stderr",
     "output_type": "stream",
     "text": [
      " 12%|█▏        | 6/50 [29:16<3:29:29, 285.66s/it]"
     ]
    },
    {
     "name": "stdout",
     "output_type": "stream",
     "text": [
      "{'fps': 29.97002997002997, 'frames': 44059, 'duration': 1470.1019666666666, 'path': 'data/videos/raw/360p/8gmxrVMQUb0.mp4', 'name': '8gmxrVMQUb0.mp4', 'width': 640, 'height': 360, 'codec': 808596553.0, 'format': 0.0, 'fourcc': 875967080.0}\n",
      "{'fps': 29.97002997002997, 'frames': 44059, 'duration': 1470.1019666666666, 'path': 'data/videos/raw/360p/8gmxrVMQUb0.mp4', 'name': '8gmxrVMQUb0.mp4', 'width': 640, 'height': 360, 'codec': 808596553.0, 'format': 0.0, 'fourcc': 875967080.0}\n"
     ]
    },
    {
     "name": "stderr",
     "output_type": "stream",
     "text": [
      " 14%|█▍        | 7/50 [33:38<3:19:10, 277.91s/it]"
     ]
    },
    {
     "name": "stdout",
     "output_type": "stream",
     "text": [
      "{'fps': 23.976023976023978, 'frames': 39893, 'duration': 1663.8705416666664, 'path': 'data/videos/raw/360p/6amK2BgjXk8.mp4', 'name': '6amK2BgjXk8.mp4', 'width': 640, 'height': 360, 'codec': 808596553.0, 'format': 0.0, 'fourcc': 875967080.0}\n",
      "{'fps': 23.976023976023978, 'frames': 39893, 'duration': 1663.8705416666664, 'path': 'data/videos/raw/360p/6amK2BgjXk8.mp4', 'name': '6amK2BgjXk8.mp4', 'width': 640, 'height': 360, 'codec': 808596553.0, 'format': 0.0, 'fourcc': 875967080.0}\n"
     ]
    },
    {
     "name": "stderr",
     "output_type": "stream",
     "text": [
      " 16%|█▌        | 8/50 [38:43<3:20:41, 286.71s/it]"
     ]
    },
    {
     "name": "stdout",
     "output_type": "stream",
     "text": [
      "{'fps': 23.976023976023978, 'frames': 36454, 'duration': 1520.4355833333332, 'path': 'data/videos/raw/360p/qmQeskMASA0.mp4', 'name': 'qmQeskMASA0.mp4', 'width': 640, 'height': 360, 'codec': 808596553.0, 'format': 0.0, 'fourcc': 875967080.0}\n",
      "{'fps': 23.976023976023978, 'frames': 36454, 'duration': 1520.4355833333332, 'path': 'data/videos/raw/360p/qmQeskMASA0.mp4', 'name': 'qmQeskMASA0.mp4', 'width': 640, 'height': 360, 'codec': 808596553.0, 'format': 0.0, 'fourcc': 875967080.0}\n"
     ]
    },
    {
     "name": "stderr",
     "output_type": "stream",
     "text": [
      " 18%|█▊        | 9/50 [42:54<3:08:14, 275.47s/it]"
     ]
    },
    {
     "name": "stdout",
     "output_type": "stream",
     "text": [
      "{'fps': 25.0, 'frames': 34468, 'duration': 1378.72, 'path': 'data/videos/raw/360p/rUgUEDTCGSo.mp4', 'name': 'rUgUEDTCGSo.mp4', 'width': 640, 'height': 360, 'codec': 808596553.0, 'format': 0.0, 'fourcc': 875967080.0}\n",
      "{'fps': 25.0, 'frames': 34468, 'duration': 1378.72, 'path': 'data/videos/raw/360p/rUgUEDTCGSo.mp4', 'name': 'rUgUEDTCGSo.mp4', 'width': 640, 'height': 360, 'codec': 808596553.0, 'format': 0.0, 'fourcc': 875967080.0}\n"
     ]
    },
    {
     "name": "stderr",
     "output_type": "stream",
     "text": [
      " 20%|██        | 10/50 [46:49<2:55:13, 262.83s/it]"
     ]
    },
    {
     "name": "stdout",
     "output_type": "stream",
     "text": [
      "{'fps': 30.0, 'frames': 55280, 'duration': 1842.6666666666667, 'path': 'data/videos/raw/360p/3hsECQqpTw4.mp4', 'name': '3hsECQqpTw4.mp4', 'width': 640, 'height': 360, 'codec': 808596553.0, 'format': 0.0, 'fourcc': 875967080.0}\n",
      "{'fps': 30.0, 'frames': 55280, 'duration': 1842.6666666666667, 'path': 'data/videos/raw/360p/3hsECQqpTw4.mp4', 'name': '3hsECQqpTw4.mp4', 'width': 640, 'height': 360, 'codec': 808596553.0, 'format': 0.0, 'fourcc': 875967080.0}\n"
     ]
    },
    {
     "name": "stderr",
     "output_type": "stream",
     "text": [
      " 22%|██▏       | 11/50 [52:10<3:02:33, 280.85s/it]"
     ]
    },
    {
     "name": "stdout",
     "output_type": "stream",
     "text": [
      "{'fps': 23.976023976023978, 'frames': 36129, 'duration': 1506.880375, 'path': 'data/videos/raw/360p/Jqi8CYJ8OEM.mp4', 'name': 'Jqi8CYJ8OEM.mp4', 'width': 640, 'height': 360, 'codec': 808596553.0, 'format': 0.0, 'fourcc': 875967080.0}\n",
      "{'fps': 23.976023976023978, 'frames': 36129, 'duration': 1506.880375, 'path': 'data/videos/raw/360p/Jqi8CYJ8OEM.mp4', 'name': 'Jqi8CYJ8OEM.mp4', 'width': 640, 'height': 360, 'codec': 808596553.0, 'format': 0.0, 'fourcc': 875967080.0}\n"
     ]
    },
    {
     "name": "stderr",
     "output_type": "stream",
     "text": [
      " 24%|██▍       | 12/50 [55:42<2:44:25, 259.62s/it]"
     ]
    },
    {
     "name": "stdout",
     "output_type": "stream",
     "text": [
      "{'fps': 29.97, 'frames': 45934, 'duration': 1532.6659993326662, 'path': 'data/videos/raw/360p/4A8orzGYQRI.mp4', 'name': '4A8orzGYQRI.mp4', 'width': 640, 'height': 360, 'codec': 808596553.0, 'format': 0.0, 'fourcc': 875967080.0}\n",
      "{'fps': 29.97, 'frames': 45934, 'duration': 1532.6659993326662, 'path': 'data/videos/raw/360p/4A8orzGYQRI.mp4', 'name': '4A8orzGYQRI.mp4', 'width': 640, 'height': 360, 'codec': 808596553.0, 'format': 0.0, 'fourcc': 875967080.0}\n"
     ]
    },
    {
     "name": "stderr",
     "output_type": "stream",
     "text": [
      " 26%|██▌       | 13/50 [59:31<2:34:26, 250.45s/it]"
     ]
    },
    {
     "name": "stdout",
     "output_type": "stream",
     "text": [
      "{'fps': 23.976023976023978, 'frames': 53045, 'duration': 2212.4185416666664, 'path': 'data/videos/raw/360p/nhtAkSW8v0M.mp4', 'name': 'nhtAkSW8v0M.mp4', 'width': 640, 'height': 360, 'codec': 808596553.0, 'format': 0.0, 'fourcc': 875967080.0}\n",
      "{'fps': 23.976023976023978, 'frames': 53045, 'duration': 2212.4185416666664, 'path': 'data/videos/raw/360p/nhtAkSW8v0M.mp4', 'name': 'nhtAkSW8v0M.mp4', 'width': 640, 'height': 360, 'codec': 808596553.0, 'format': 0.0, 'fourcc': 875967080.0}\n"
     ]
    },
    {
     "name": "stderr",
     "output_type": "stream",
     "text": [
      " 28%|██▊       | 14/50 [1:05:57<2:54:53, 291.49s/it]"
     ]
    },
    {
     "name": "stdout",
     "output_type": "stream",
     "text": [
      "{'fps': 25.0, 'frames': 39524, 'duration': 1580.96, 'path': 'data/videos/raw/360p/02I8Ad7qkjQ.mp4', 'name': '02I8Ad7qkjQ.mp4', 'width': 640, 'height': 360, 'codec': 808596553.0, 'format': 0.0, 'fourcc': 875967080.0}\n",
      "{'fps': 25.0, 'frames': 39524, 'duration': 1580.96, 'path': 'data/videos/raw/360p/02I8Ad7qkjQ.mp4', 'name': '02I8Ad7qkjQ.mp4', 'width': 640, 'height': 360, 'codec': 808596553.0, 'format': 0.0, 'fourcc': 875967080.0}\n"
     ]
    },
    {
     "name": "stderr",
     "output_type": "stream",
     "text": [
      " 30%|███       | 15/50 [1:11:29<2:57:08, 303.68s/it]"
     ]
    },
    {
     "name": "stdout",
     "output_type": "stream",
     "text": [
      "{'fps': 29.97002997002997, 'frames': 53819, 'duration': 1795.7606333333333, 'path': 'data/videos/raw/360p/FnU5j2sZEBE.mp4', 'name': 'FnU5j2sZEBE.mp4', 'width': 640, 'height': 360, 'codec': 808596553.0, 'format': 0.0, 'fourcc': 875967080.0}\n",
      "{'fps': 29.97002997002997, 'frames': 53819, 'duration': 1795.7606333333333, 'path': 'data/videos/raw/360p/FnU5j2sZEBE.mp4', 'name': 'FnU5j2sZEBE.mp4', 'width': 640, 'height': 360, 'codec': 808596553.0, 'format': 0.0, 'fourcc': 875967080.0}\n"
     ]
    },
    {
     "name": "stderr",
     "output_type": "stream",
     "text": [
      " 32%|███▏      | 16/50 [1:16:34<2:52:22, 304.18s/it]"
     ]
    },
    {
     "name": "stdout",
     "output_type": "stream",
     "text": [
      "{'fps': 29.97002997002997, 'frames': 42412, 'duration': 1415.1470666666667, 'path': 'data/videos/raw/360p/LzAJ2Xdg8qI.mp4', 'name': 'LzAJ2Xdg8qI.mp4', 'width': 640, 'height': 360, 'codec': 808596553.0, 'format': 0.0, 'fourcc': 875967080.0}\n",
      "{'fps': 29.97002997002997, 'frames': 42412, 'duration': 1415.1470666666667, 'path': 'data/videos/raw/360p/LzAJ2Xdg8qI.mp4', 'name': 'LzAJ2Xdg8qI.mp4', 'width': 640, 'height': 360, 'codec': 808596553.0, 'format': 0.0, 'fourcc': 875967080.0}\n"
     ]
    },
    {
     "name": "stderr",
     "output_type": "stream",
     "text": [
      " 34%|███▍      | 17/50 [1:21:15<2:43:23, 297.08s/it]"
     ]
    },
    {
     "name": "stdout",
     "output_type": "stream",
     "text": [
      "{'fps': 23.976023976023978, 'frames': 37799, 'duration': 1576.5332916666666, 'path': 'data/videos/raw/360p/lX6U4nOhm5w.mp4', 'name': 'lX6U4nOhm5w.mp4', 'width': 640, 'height': 360, 'codec': 808596553.0, 'format': 0.0, 'fourcc': 875967080.0}\n",
      "{'fps': 23.976023976023978, 'frames': 37799, 'duration': 1576.5332916666666, 'path': 'data/videos/raw/360p/lX6U4nOhm5w.mp4', 'name': 'lX6U4nOhm5w.mp4', 'width': 640, 'height': 360, 'codec': 808596553.0, 'format': 0.0, 'fourcc': 875967080.0}\n"
     ]
    },
    {
     "name": "stderr",
     "output_type": "stream",
     "text": [
      " 36%|███▌      | 18/50 [1:26:24<2:40:24, 300.78s/it]"
     ]
    },
    {
     "name": "stdout",
     "output_type": "stream",
     "text": [
      "{'fps': 23.976023976023978, 'frames': 40221, 'duration': 1677.550875, 'path': 'data/videos/raw/360p/uow257PdFCE.mp4', 'name': 'uow257PdFCE.mp4', 'width': 640, 'height': 360, 'codec': 808596553.0, 'format': 0.0, 'fourcc': 875967080.0}\n",
      "{'fps': 23.976023976023978, 'frames': 40221, 'duration': 1677.550875, 'path': 'data/videos/raw/360p/uow257PdFCE.mp4', 'name': 'uow257PdFCE.mp4', 'width': 640, 'height': 360, 'codec': 808596553.0, 'format': 0.0, 'fourcc': 875967080.0}\n"
     ]
    },
    {
     "name": "stderr",
     "output_type": "stream",
     "text": [
      " 38%|███▊      | 19/50 [1:30:25<2:25:59, 282.57s/it]"
     ]
    },
    {
     "name": "stdout",
     "output_type": "stream",
     "text": [
      "{'fps': 29.97002997002997, 'frames': 62855, 'duration': 2097.2618333333335, 'path': 'data/videos/raw/360p/JIp3Ce9WtGQ.mp4', 'name': 'JIp3Ce9WtGQ.mp4', 'width': 640, 'height': 360, 'codec': 808596553.0, 'format': 0.0, 'fourcc': 875967080.0}\n",
      "{'fps': 29.97002997002997, 'frames': 62855, 'duration': 2097.2618333333335, 'path': 'data/videos/raw/360p/JIp3Ce9WtGQ.mp4', 'name': 'JIp3Ce9WtGQ.mp4', 'width': 640, 'height': 360, 'codec': 808596553.0, 'format': 0.0, 'fourcc': 875967080.0}\n"
     ]
    },
    {
     "name": "stderr",
     "output_type": "stream",
     "text": [
      " 40%|████      | 20/50 [1:38:37<2:52:47, 345.58s/it]"
     ]
    },
    {
     "name": "stdout",
     "output_type": "stream",
     "text": [
      "{'fps': 23.976023976023978, 'frames': 39549, 'duration': 1649.5228749999999, 'path': 'data/videos/raw/360p/nTG1gfvClYs.mp4', 'name': 'nTG1gfvClYs.mp4', 'width': 640, 'height': 360, 'codec': 808596553.0, 'format': 0.0, 'fourcc': 875967080.0}\n",
      "{'fps': 23.976023976023978, 'frames': 39549, 'duration': 1649.5228749999999, 'path': 'data/videos/raw/360p/nTG1gfvClYs.mp4', 'name': 'nTG1gfvClYs.mp4', 'width': 640, 'height': 360, 'codec': 808596553.0, 'format': 0.0, 'fourcc': 875967080.0}\n"
     ]
    },
    {
     "name": "stderr",
     "output_type": "stream",
     "text": [
      " 42%|████▏     | 21/50 [1:43:55<2:43:04, 337.39s/it]"
     ]
    },
    {
     "name": "stdout",
     "output_type": "stream",
     "text": [
      "{'fps': 29.97, 'frames': 40981, 'duration': 1367.400734067401, 'path': 'data/videos/raw/360p/7KDRMzpvUqw.mp4', 'name': '7KDRMzpvUqw.mp4', 'width': 640, 'height': 360, 'codec': 808596553.0, 'format': 0.0, 'fourcc': 875967080.0}\n",
      "{'fps': 29.97, 'frames': 40981, 'duration': 1367.400734067401, 'path': 'data/videos/raw/360p/7KDRMzpvUqw.mp4', 'name': '7KDRMzpvUqw.mp4', 'width': 640, 'height': 360, 'codec': 808596553.0, 'format': 0.0, 'fourcc': 875967080.0}\n"
     ]
    },
    {
     "name": "stderr",
     "output_type": "stream",
     "text": [
      " 44%|████▍     | 22/50 [1:48:26<2:28:02, 317.23s/it]"
     ]
    },
    {
     "name": "stdout",
     "output_type": "stream",
     "text": [
      "{'fps': 29.97002997002997, 'frames': 45465, 'duration': 1517.0155, 'path': 'data/videos/raw/360p/pNvfLNztmAo.mp4', 'name': 'pNvfLNztmAo.mp4', 'width': 640, 'height': 360, 'codec': 808596553.0, 'format': 0.0, 'fourcc': 875967080.0}\n",
      "{'fps': 29.97002997002997, 'frames': 45465, 'duration': 1517.0155, 'path': 'data/videos/raw/360p/pNvfLNztmAo.mp4', 'name': 'pNvfLNztmAo.mp4', 'width': 640, 'height': 360, 'codec': 808596553.0, 'format': 0.0, 'fourcc': 875967080.0}\n"
     ]
    },
    {
     "name": "stderr",
     "output_type": "stream",
     "text": [
      " 46%|████▌     | 23/50 [1:52:50<2:15:37, 301.39s/it]"
     ]
    },
    {
     "name": "stdout",
     "output_type": "stream",
     "text": [
      "{'fps': 23.976023976023978, 'frames': 45164, 'duration': 1883.7151666666666, 'path': 'data/videos/raw/360p/zF5PO0mHD80.mp4', 'name': 'zF5PO0mHD80.mp4', 'width': 640, 'height': 360, 'codec': 808596553.0, 'format': 0.0, 'fourcc': 875967080.0}\n",
      "{'fps': 23.976023976023978, 'frames': 45164, 'duration': 1883.7151666666666, 'path': 'data/videos/raw/360p/zF5PO0mHD80.mp4', 'name': 'zF5PO0mHD80.mp4', 'width': 640, 'height': 360, 'codec': 808596553.0, 'format': 0.0, 'fourcc': 875967080.0}\n"
     ]
    },
    {
     "name": "stderr",
     "output_type": "stream",
     "text": [
      " 48%|████▊     | 24/50 [1:58:19<2:14:15, 309.82s/it]"
     ]
    },
    {
     "name": "stdout",
     "output_type": "stream",
     "text": [
      "{'fps': 30.0, 'frames': 55281, 'duration': 1842.7, 'path': 'data/videos/raw/360p/Wduah0a5HR8.mp4', 'name': 'Wduah0a5HR8.mp4', 'width': 640, 'height': 360, 'codec': 808596553.0, 'format': 0.0, 'fourcc': 875967080.0}\n",
      "{'fps': 30.0, 'frames': 55281, 'duration': 1842.7, 'path': 'data/videos/raw/360p/Wduah0a5HR8.mp4', 'name': 'Wduah0a5HR8.mp4', 'width': 640, 'height': 360, 'codec': 808596553.0, 'format': 0.0, 'fourcc': 875967080.0}\n"
     ]
    },
    {
     "name": "stderr",
     "output_type": "stream",
     "text": [
      " 50%|█████     | 25/50 [2:05:05<2:21:02, 338.49s/it]"
     ]
    },
    {
     "name": "stdout",
     "output_type": "stream",
     "text": [
      "{'fps': 29.97002997002997, 'frames': 52419, 'duration': 1749.0473, 'path': 'data/videos/raw/360p/Ipe9xJCfuTM.mp4', 'name': 'Ipe9xJCfuTM.mp4', 'width': 640, 'height': 360, 'codec': 808596553.0, 'format': 0.0, 'fourcc': 875967080.0}\n",
      "{'fps': 29.97002997002997, 'frames': 52419, 'duration': 1749.0473, 'path': 'data/videos/raw/360p/Ipe9xJCfuTM.mp4', 'name': 'Ipe9xJCfuTM.mp4', 'width': 640, 'height': 360, 'codec': 808596553.0, 'format': 0.0, 'fourcc': 875967080.0}\n"
     ]
    },
    {
     "name": "stderr",
     "output_type": "stream",
     "text": [
      " 52%|█████▏    | 26/50 [2:10:57<2:17:04, 342.68s/it]"
     ]
    },
    {
     "name": "stdout",
     "output_type": "stream",
     "text": [
      "{'fps': 23.976023976023978, 'frames': 28883, 'duration': 1204.6617916666667, 'path': 'data/videos/raw/360p/CQl9Qp4zA9o.mp4', 'name': 'CQl9Qp4zA9o.mp4', 'width': 640, 'height': 360, 'codec': 808596553.0, 'format': 0.0, 'fourcc': 875967080.0}\n",
      "{'fps': 23.976023976023978, 'frames': 28883, 'duration': 1204.6617916666667, 'path': 'data/videos/raw/360p/CQl9Qp4zA9o.mp4', 'name': 'CQl9Qp4zA9o.mp4', 'width': 640, 'height': 360, 'codec': 808596553.0, 'format': 0.0, 'fourcc': 875967080.0}\n"
     ]
    },
    {
     "name": "stderr",
     "output_type": "stream",
     "text": [
      " 54%|█████▍    | 27/50 [2:14:47<1:58:22, 308.79s/it]"
     ]
    },
    {
     "name": "stdout",
     "output_type": "stream",
     "text": [
      "{'fps': 29.97002997002997, 'frames': 58378, 'duration': 1947.8792666666668, 'path': 'data/videos/raw/360p/Y1AEYUtZo9s.mp4', 'name': 'Y1AEYUtZo9s.mp4', 'width': 640, 'height': 360, 'codec': 808596553.0, 'format': 0.0, 'fourcc': 875967080.0}\n",
      "{'fps': 29.97002997002997, 'frames': 58378, 'duration': 1947.8792666666668, 'path': 'data/videos/raw/360p/Y1AEYUtZo9s.mp4', 'name': 'Y1AEYUtZo9s.mp4', 'width': 640, 'height': 360, 'codec': 808596553.0, 'format': 0.0, 'fourcc': 875967080.0}\n"
     ]
    },
    {
     "name": "stderr",
     "output_type": "stream",
     "text": [
      " 56%|█████▌    | 28/50 [2:21:40<2:04:40, 340.00s/it]"
     ]
    },
    {
     "name": "stdout",
     "output_type": "stream",
     "text": [
      "{'fps': 29.97, 'frames': 51558, 'duration': 1720.3203203203204, 'path': 'data/videos/raw/360p/eeumL7Fz-8M.mp4', 'name': 'eeumL7Fz-8M.mp4', 'width': 640, 'height': 360, 'codec': 808596553.0, 'format': 0.0, 'fourcc': 875967080.0}\n",
      "{'fps': 29.97, 'frames': 51558, 'duration': 1720.3203203203204, 'path': 'data/videos/raw/360p/eeumL7Fz-8M.mp4', 'name': 'eeumL7Fz-8M.mp4', 'width': 640, 'height': 360, 'codec': 808596553.0, 'format': 0.0, 'fourcc': 875967080.0}\n"
     ]
    },
    {
     "name": "stderr",
     "output_type": "stream",
     "text": [
      " 58%|█████▊    | 29/50 [2:25:55<1:50:08, 314.69s/it]"
     ]
    },
    {
     "name": "stdout",
     "output_type": "stream",
     "text": [
      "{'fps': 30.0, 'frames': 36073, 'duration': 1202.4333333333334, 'path': 'data/videos/raw/360p/qLc0-tUDdMU.mp4', 'name': 'qLc0-tUDdMU.mp4', 'width': 640, 'height': 360, 'codec': 808596553.0, 'format': 0.0, 'fourcc': 875967080.0}\n",
      "{'fps': 30.0, 'frames': 36073, 'duration': 1202.4333333333334, 'path': 'data/videos/raw/360p/qLc0-tUDdMU.mp4', 'name': 'qLc0-tUDdMU.mp4', 'width': 640, 'height': 360, 'codec': 808596553.0, 'format': 0.0, 'fourcc': 875967080.0}\n"
     ]
    },
    {
     "name": "stderr",
     "output_type": "stream",
     "text": [
      " 60%|██████    | 30/50 [2:30:07<1:38:35, 295.77s/it]"
     ]
    },
    {
     "name": "stdout",
     "output_type": "stream",
     "text": [
      "{'fps': 29.97002997002997, 'frames': 52238, 'duration': 1743.0079333333333, 'path': 'data/videos/raw/360p/sV__p7P4V6Y.mp4', 'name': 'sV__p7P4V6Y.mp4', 'width': 640, 'height': 360, 'codec': 808596553.0, 'format': 0.0, 'fourcc': 875967080.0}\n",
      "{'fps': 29.97002997002997, 'frames': 52238, 'duration': 1743.0079333333333, 'path': 'data/videos/raw/360p/sV__p7P4V6Y.mp4', 'name': 'sV__p7P4V6Y.mp4', 'width': 640, 'height': 360, 'codec': 808596553.0, 'format': 0.0, 'fourcc': 875967080.0}\n"
     ]
    },
    {
     "name": "stderr",
     "output_type": "stream",
     "text": [
      " 62%|██████▏   | 31/50 [2:35:52<1:38:19, 310.48s/it]"
     ]
    },
    {
     "name": "stdout",
     "output_type": "stream",
     "text": [
      "{'fps': 23.976023976023978, 'frames': 30392, 'duration': 1267.5996666666665, 'path': 'data/videos/raw/360p/EMpaw46kr2w.mp4', 'name': 'EMpaw46kr2w.mp4', 'width': 640, 'height': 360, 'codec': 808596553.0, 'format': 0.0, 'fourcc': 875967080.0}\n",
      "{'fps': 23.976023976023978, 'frames': 30392, 'duration': 1267.5996666666665, 'path': 'data/videos/raw/360p/EMpaw46kr2w.mp4', 'name': 'EMpaw46kr2w.mp4', 'width': 640, 'height': 360, 'codec': 808596553.0, 'format': 0.0, 'fourcc': 875967080.0}\n"
     ]
    },
    {
     "name": "stderr",
     "output_type": "stream",
     "text": [
      " 64%|██████▍   | 32/50 [2:38:34<1:19:45, 265.86s/it]"
     ]
    },
    {
     "name": "stdout",
     "output_type": "stream",
     "text": [
      "{'fps': 29.97002997002997, 'frames': 51819, 'duration': 1729.0273, 'path': 'data/videos/raw/360p/hDBQTFg1YWI.mp4', 'name': 'hDBQTFg1YWI.mp4', 'width': 640, 'height': 360, 'codec': 808596553.0, 'format': 0.0, 'fourcc': 875967080.0}\n",
      "{'fps': 29.97002997002997, 'frames': 51819, 'duration': 1729.0273, 'path': 'data/videos/raw/360p/hDBQTFg1YWI.mp4', 'name': 'hDBQTFg1YWI.mp4', 'width': 640, 'height': 360, 'codec': 808596553.0, 'format': 0.0, 'fourcc': 875967080.0}\n"
     ]
    },
    {
     "name": "stderr",
     "output_type": "stream",
     "text": [
      " 66%|██████▌   | 33/50 [2:42:19<1:11:51, 253.59s/it]"
     ]
    },
    {
     "name": "stdout",
     "output_type": "stream",
     "text": [
      "{'fps': 23.976023976023978, 'frames': 34598, 'duration': 1443.0249166666665, 'path': 'data/videos/raw/360p/FWGeUSoywDk.mp4', 'name': 'FWGeUSoywDk.mp4', 'width': 640, 'height': 360, 'codec': 808596553.0, 'format': 0.0, 'fourcc': 875967080.0}\n",
      "{'fps': 23.976023976023978, 'frames': 34598, 'duration': 1443.0249166666665, 'path': 'data/videos/raw/360p/FWGeUSoywDk.mp4', 'name': 'FWGeUSoywDk.mp4', 'width': 640, 'height': 360, 'codec': 808596553.0, 'format': 0.0, 'fourcc': 875967080.0}\n"
     ]
    },
    {
     "name": "stderr",
     "output_type": "stream",
     "text": [
      " 68%|██████▊   | 34/50 [2:46:11<1:05:54, 247.17s/it]"
     ]
    },
    {
     "name": "stdout",
     "output_type": "stream",
     "text": [
      "{'fps': 30.0, 'frames': 37653, 'duration': 1255.1, 'path': 'data/videos/raw/360p/rVq8mzgzfNo.mp4', 'name': 'rVq8mzgzfNo.mp4', 'width': 640, 'height': 360, 'codec': 808596553.0, 'format': 0.0, 'fourcc': 875967080.0}\n",
      "{'fps': 30.0, 'frames': 37653, 'duration': 1255.1, 'path': 'data/videos/raw/360p/rVq8mzgzfNo.mp4', 'name': 'rVq8mzgzfNo.mp4', 'width': 640, 'height': 360, 'codec': 808596553.0, 'format': 0.0, 'fourcc': 875967080.0}\n"
     ]
    },
    {
     "name": "stderr",
     "output_type": "stream",
     "text": [
      " 70%|███████   | 35/50 [2:50:08<1:01:02, 244.18s/it]"
     ]
    },
    {
     "name": "stdout",
     "output_type": "stream",
     "text": [
      "{'fps': 24.0, 'frames': 31631, 'duration': 1317.9583333333333, 'path': 'data/videos/raw/360p/nfrgOeb1AHY.mp4', 'name': 'nfrgOeb1AHY.mp4', 'width': 640, 'height': 360, 'codec': 808596553.0, 'format': 0.0, 'fourcc': 875967080.0}\n",
      "{'fps': 24.0, 'frames': 31631, 'duration': 1317.9583333333333, 'path': 'data/videos/raw/360p/nfrgOeb1AHY.mp4', 'name': 'nfrgOeb1AHY.mp4', 'width': 640, 'height': 360, 'codec': 808596553.0, 'format': 0.0, 'fourcc': 875967080.0}\n"
     ]
    },
    {
     "name": "stderr",
     "output_type": "stream",
     "text": [
      " 72%|███████▏  | 36/50 [2:55:44<1:03:25, 271.82s/it]"
     ]
    },
    {
     "name": "stdout",
     "output_type": "stream",
     "text": [
      "{'fps': 29.97002997002997, 'frames': 58813, 'duration': 1962.3937666666668, 'path': 'data/videos/raw/360p/SCwD715_c24.mp4', 'name': 'SCwD715_c24.mp4', 'width': 640, 'height': 360, 'codec': 808596553.0, 'format': 0.0, 'fourcc': 875967080.0}\n",
      "{'fps': 29.97002997002997, 'frames': 58813, 'duration': 1962.3937666666668, 'path': 'data/videos/raw/360p/SCwD715_c24.mp4', 'name': 'SCwD715_c24.mp4', 'width': 640, 'height': 360, 'codec': 808596553.0, 'format': 0.0, 'fourcc': 875967080.0}\n"
     ]
    },
    {
     "name": "stderr",
     "output_type": "stream",
     "text": [
      " 74%|███████▍  | 37/50 [3:00:41<1:00:30, 279.28s/it]"
     ]
    },
    {
     "name": "stdout",
     "output_type": "stream",
     "text": [
      "{'fps': 25.0, 'frames': 30048, 'duration': 1201.92, 'path': 'data/videos/raw/360p/aO-wNDaRBkk.mp4', 'name': 'aO-wNDaRBkk.mp4', 'width': 640, 'height': 360, 'codec': 808596553.0, 'format': 0.0, 'fourcc': 875967080.0}\n",
      "{'fps': 25.0, 'frames': 30048, 'duration': 1201.92, 'path': 'data/videos/raw/360p/aO-wNDaRBkk.mp4', 'name': 'aO-wNDaRBkk.mp4', 'width': 640, 'height': 360, 'codec': 808596553.0, 'format': 0.0, 'fourcc': 875967080.0}\n"
     ]
    },
    {
     "name": "stderr",
     "output_type": "stream",
     "text": [
      " 76%|███████▌  | 38/50 [3:03:51<50:29, 252.42s/it]  "
     ]
    },
    {
     "name": "stdout",
     "output_type": "stream",
     "text": [
      "{'fps': 30.0, 'frames': 45592, 'duration': 1519.7333333333333, 'path': 'data/videos/raw/360p/p78K12jx_o4.mp4', 'name': 'p78K12jx_o4.mp4', 'width': 640, 'height': 360, 'codec': 808596553.0, 'format': 0.0, 'fourcc': 875967080.0}\n",
      "{'fps': 30.0, 'frames': 45592, 'duration': 1519.7333333333333, 'path': 'data/videos/raw/360p/p78K12jx_o4.mp4', 'name': 'p78K12jx_o4.mp4', 'width': 640, 'height': 360, 'codec': 808596553.0, 'format': 0.0, 'fourcc': 875967080.0}\n"
     ]
    },
    {
     "name": "stderr",
     "output_type": "stream",
     "text": [
      " 78%|███████▊  | 39/50 [3:07:06<43:08, 235.35s/it]"
     ]
    },
    {
     "name": "stdout",
     "output_type": "stream",
     "text": [
      "{'fps': 23.976023976023978, 'frames': 39460, 'duration': 1645.8108333333332, 'path': 'data/videos/raw/360p/0CSaXIue9aI.mp4', 'name': '0CSaXIue9aI.mp4', 'width': 640, 'height': 360, 'codec': 808596553.0, 'format': 0.0, 'fourcc': 875967080.0}\n",
      "{'fps': 23.976023976023978, 'frames': 39460, 'duration': 1645.8108333333332, 'path': 'data/videos/raw/360p/0CSaXIue9aI.mp4', 'name': '0CSaXIue9aI.mp4', 'width': 640, 'height': 360, 'codec': 808596553.0, 'format': 0.0, 'fourcc': 875967080.0}\n"
     ]
    },
    {
     "name": "stderr",
     "output_type": "stream",
     "text": [
      " 80%|████████  | 40/50 [3:14:46<50:26, 302.60s/it]"
     ]
    },
    {
     "name": "stdout",
     "output_type": "stream",
     "text": [
      "{'fps': 23.976023976023978, 'frames': 44566, 'duration': 1858.7735833333331, 'path': 'data/videos/raw/360p/VzrB0Ns6bYo.mp4', 'name': 'VzrB0Ns6bYo.mp4', 'width': 640, 'height': 360, 'codec': 808596553.0, 'format': 0.0, 'fourcc': 875967080.0}\n",
      "{'fps': 23.976023976023978, 'frames': 44566, 'duration': 1858.7735833333331, 'path': 'data/videos/raw/360p/VzrB0Ns6bYo.mp4', 'name': 'VzrB0Ns6bYo.mp4', 'width': 640, 'height': 360, 'codec': 808596553.0, 'format': 0.0, 'fourcc': 875967080.0}\n"
     ]
    },
    {
     "name": "stderr",
     "output_type": "stream",
     "text": [
      " 82%|████████▏ | 41/50 [3:18:28<41:45, 278.44s/it]"
     ]
    },
    {
     "name": "stdout",
     "output_type": "stream",
     "text": [
      "{'fps': 29.755, 'frames': 59889, 'duration': 2012.7373550663754, 'path': 'data/videos/raw/360p/-UhacNNM_HU.mp4', 'name': '-UhacNNM_HU.mp4', 'width': 640, 'height': 356, 'codec': 808596553.0, 'format': 0.0, 'fourcc': 875967080.0}\n",
      "{'fps': 29.755, 'frames': 59889, 'duration': 2012.7373550663754, 'path': 'data/videos/raw/360p/-UhacNNM_HU.mp4', 'name': '-UhacNNM_HU.mp4', 'width': 640, 'height': 356, 'codec': 808596553.0, 'format': 0.0, 'fourcc': 875967080.0}\n"
     ]
    },
    {
     "name": "stderr",
     "output_type": "stream",
     "text": [
      " 84%|████████▍ | 42/50 [3:23:15<37:29, 281.17s/it]"
     ]
    },
    {
     "name": "stdout",
     "output_type": "stream",
     "text": [
      "{'fps': 30.0, 'frames': 51105, 'duration': 1703.5, 'path': 'data/videos/raw/360p/K-MV98UrnWg.mp4', 'name': 'K-MV98UrnWg.mp4', 'width': 640, 'height': 360, 'codec': 808596553.0, 'format': 0.0, 'fourcc': 875967080.0}\n",
      "{'fps': 30.0, 'frames': 51105, 'duration': 1703.5, 'path': 'data/videos/raw/360p/K-MV98UrnWg.mp4', 'name': 'K-MV98UrnWg.mp4', 'width': 640, 'height': 360, 'codec': 808596553.0, 'format': 0.0, 'fourcc': 875967080.0}\n"
     ]
    },
    {
     "name": "stderr",
     "output_type": "stream",
     "text": [
      " 86%|████████▌ | 43/50 [3:27:04<30:57, 265.41s/it]"
     ]
    },
    {
     "name": "stdout",
     "output_type": "stream",
     "text": [
      "{'fps': 23.976023976023978, 'frames': 37701, 'duration': 1572.445875, 'path': 'data/videos/raw/360p/9y2WezKYgo4.mp4', 'name': '9y2WezKYgo4.mp4', 'width': 640, 'height': 360, 'codec': 808596553.0, 'format': 0.0, 'fourcc': 875967080.0}\n",
      "{'fps': 23.976023976023978, 'frames': 37701, 'duration': 1572.445875, 'path': 'data/videos/raw/360p/9y2WezKYgo4.mp4', 'name': '9y2WezKYgo4.mp4', 'width': 640, 'height': 360, 'codec': 808596553.0, 'format': 0.0, 'fourcc': 875967080.0}\n"
     ]
    },
    {
     "name": "stderr",
     "output_type": "stream",
     "text": [
      " 88%|████████▊ | 44/50 [3:30:29<24:43, 247.32s/it]"
     ]
    },
    {
     "name": "stdout",
     "output_type": "stream",
     "text": [
      "{'fps': 30.0, 'frames': 53226, 'duration': 1774.2, 'path': 'data/videos/raw/360p/NwicwABhmiQ.mp4', 'name': 'NwicwABhmiQ.mp4', 'width': 640, 'height': 360, 'codec': 808596553.0, 'format': 0.0, 'fourcc': 875967080.0}\n",
      "{'fps': 30.0, 'frames': 53226, 'duration': 1774.2, 'path': 'data/videos/raw/360p/NwicwABhmiQ.mp4', 'name': 'NwicwABhmiQ.mp4', 'width': 640, 'height': 360, 'codec': 808596553.0, 'format': 0.0, 'fourcc': 875967080.0}\n"
     ]
    },
    {
     "name": "stderr",
     "output_type": "stream",
     "text": [
      " 90%|█████████ | 45/50 [3:36:10<22:56, 275.39s/it]"
     ]
    },
    {
     "name": "stdout",
     "output_type": "stream",
     "text": [
      "{'fps': 29.97, 'frames': 54228, 'duration': 1809.4094094094096, 'path': 'data/videos/raw/360p/EodRBU-HVEI.mp4', 'name': 'EodRBU-HVEI.mp4', 'width': 640, 'height': 360, 'codec': 808596553.0, 'format': 0.0, 'fourcc': 875967080.0}\n",
      "{'fps': 29.97, 'frames': 54228, 'duration': 1809.4094094094096, 'path': 'data/videos/raw/360p/EodRBU-HVEI.mp4', 'name': 'EodRBU-HVEI.mp4', 'width': 640, 'height': 360, 'codec': 808596553.0, 'format': 0.0, 'fourcc': 875967080.0}\n"
     ]
    },
    {
     "name": "stderr",
     "output_type": "stream",
     "text": [
      " 92%|█████████▏| 46/50 [3:42:29<20:26, 306.55s/it]"
     ]
    },
    {
     "name": "stdout",
     "output_type": "stream",
     "text": [
      "{'fps': 30.0, 'frames': 53162, 'duration': 1772.0666666666666, 'path': 'data/videos/raw/360p/eHi4DnCv1II.mp4', 'name': 'eHi4DnCv1II.mp4', 'width': 640, 'height': 360, 'codec': 808596553.0, 'format': 0.0, 'fourcc': 875967080.0}\n",
      "{'fps': 30.0, 'frames': 53162, 'duration': 1772.0666666666666, 'path': 'data/videos/raw/360p/eHi4DnCv1II.mp4', 'name': 'eHi4DnCv1II.mp4', 'width': 640, 'height': 360, 'codec': 808596553.0, 'format': 0.0, 'fourcc': 875967080.0}\n"
     ]
    },
    {
     "name": "stderr",
     "output_type": "stream",
     "text": [
      " 94%|█████████▍| 47/50 [3:47:17<15:02, 300.77s/it]"
     ]
    },
    {
     "name": "stdout",
     "output_type": "stream",
     "text": [
      "{'fps': 23.976023976023978, 'frames': 37832, 'duration': 1577.9096666666665, 'path': 'data/videos/raw/360p/1KUAO2hfdBE.mp4', 'name': '1KUAO2hfdBE.mp4', 'width': 640, 'height': 360, 'codec': 808596553.0, 'format': 0.0, 'fourcc': 875967080.0}\n",
      "{'fps': 23.976023976023978, 'frames': 37832, 'duration': 1577.9096666666665, 'path': 'data/videos/raw/360p/1KUAO2hfdBE.mp4', 'name': '1KUAO2hfdBE.mp4', 'width': 640, 'height': 360, 'codec': 808596553.0, 'format': 0.0, 'fourcc': 875967080.0}\n"
     ]
    },
    {
     "name": "stderr",
     "output_type": "stream",
     "text": [
      " 96%|█████████▌| 48/50 [3:51:08<09:19, 279.94s/it]"
     ]
    },
    {
     "name": "stdout",
     "output_type": "stream",
     "text": [
      "{'fps': 25.0, 'frames': 36424, 'duration': 1456.96, 'path': 'data/videos/raw/360p/oTzSzfZGV2E.mp4', 'name': 'oTzSzfZGV2E.mp4', 'width': 640, 'height': 360, 'codec': 808596553.0, 'format': 0.0, 'fourcc': 875967080.0}\n",
      "{'fps': 25.0, 'frames': 36424, 'duration': 1456.96, 'path': 'data/videos/raw/360p/oTzSzfZGV2E.mp4', 'name': 'oTzSzfZGV2E.mp4', 'width': 640, 'height': 360, 'codec': 808596553.0, 'format': 0.0, 'fourcc': 875967080.0}\n"
     ]
    },
    {
     "name": "stderr",
     "output_type": "stream",
     "text": [
      " 98%|█████████▊| 49/50 [3:55:54<04:41, 281.68s/it]"
     ]
    },
    {
     "name": "stdout",
     "output_type": "stream",
     "text": [
      "{'fps': 23.976024029573885, 'frames': 29819, 'duration': 1243.700788888889, 'path': 'data/videos/raw/360p/DNu4WiQaVTI.mp4', 'name': 'DNu4WiQaVTI.mp4', 'width': 640, 'height': 360, 'codec': 808596553.0, 'format': 0.0, 'fourcc': 875967080.0}\n",
      "{'fps': 23.976024029573885, 'frames': 29819, 'duration': 1243.700788888889, 'path': 'data/videos/raw/360p/DNu4WiQaVTI.mp4', 'name': 'DNu4WiQaVTI.mp4', 'width': 640, 'height': 360, 'codec': 808596553.0, 'format': 0.0, 'fourcc': 875967080.0}\n"
     ]
    },
    {
     "name": "stderr",
     "output_type": "stream",
     "text": [
      "100%|██████████| 50/50 [3:59:14<00:00, 287.10s/it]\n"
     ]
    }
   ],
   "source": [
    "import json\n",
    "\n",
    "with open(\"data/annotations/video_list_CZ_modified.json\", \"r\") as f:\n",
    "    data = json.load(f)\n",
    "\n",
    "for video in tqdm(data):\n",
    "    # print(video)\n",
    "    video = process_video(video, 180)\n",
    "    with open(\"data/annotations/video_list_CZ_answer_clipwise_0320.json\", \"w\") as f:\n",
    "        json.dump(data, f, indent=4)"
   ]
  },
  {
   "cell_type": "code",
   "execution_count": 6,
   "metadata": {},
   "outputs": [
    {
     "name": "stdout",
     "output_type": "stream",
     "text": [
      "Retry 0 times, exception: Error code: 429 - {'error': {'message': 'qpm limit, you can apply for expansion on the platform (https://gpt.bytedance.net/gpt_openapi/model)', 'code': '-2001'}}\n",
      "Retry 0 times, exception: Error code: 429 - {'error': {'message': 'qpm limit, you can apply for expansion on the platform (https://gpt.bytedance.net/gpt_openapi/model)', 'code': '-2001'}}\n",
      "Retry 0 times, exception: Error code: 429 - {'error': {'message': 'qpm limit, you can apply for expansion on the platform (https://gpt.bytedance.net/gpt_openapi/model)', 'code': '-2001'}}\n",
      "Retry 0 times, exception: Error code: 429 - {'error': {'message': 'qpm limit, you can apply for expansion on the platform (https://gpt.bytedance.net/gpt_openapi/model)', 'code': '-2001'}}\n",
      "Retry 0 times, exception: Error code: 429 - {'error': {'message': 'qpm limit, you can apply for expansion on the platform (https://gpt.bytedance.net/gpt_openapi/model)', 'code': '-2001'}}\n",
      "Retry 0 times, exception: Error code: 429 - {'error': {'message': 'qpm limit, you can apply for expansion on the platform (https://gpt.bytedance.net/gpt_openapi/model)', 'code': '-2001'}}\n",
      "Retry 0 times, exception: Error code: 429 - {'error': {'message': 'qpm limit, you can apply for expansion on the platform (https://gpt.bytedance.net/gpt_openapi/model)', 'code': '-2001'}}\n",
      "Retry 0 times, exception: Error code: 429 - {'error': {'message': 'qpm limit, you can apply for expansion on the platform (https://gpt.bytedance.net/gpt_openapi/model)', 'code': '-2001'}}\n",
      "Retry 0 times, exception: Error code: 429 - {'error': {'message': 'qpm limit, you can apply for expansion on the platform (https://gpt.bytedance.net/gpt_openapi/model)', 'code': '-2001'}}\n",
      "Retry 0 times, exception: Error code: 429 - {'error': {'message': 'qpm limit, you can apply for expansion on the platform (https://gpt.bytedance.net/gpt_openapi/model)', 'code': '-2001'}}\n",
      "Retry 0 times, exception: Error code: 429 - {'error': {'message': 'qpm limit, you can apply for expansion on the platform (https://gpt.bytedance.net/gpt_openapi/model)', 'code': '-2001'}}\n",
      "Retry 0 times, exception: Error code: 429 - {'error': {'message': 'qpm limit, you can apply for expansion on the platform (https://gpt.bytedance.net/gpt_openapi/model)', 'code': '-2001'}}\n",
      "Retry 0 times, exception: Error code: 429 - {'error': {'message': 'qpm limit, you can apply for expansion on the platform (https://gpt.bytedance.net/gpt_openapi/model)', 'code': '-2001'}}\n",
      "Retry 0 times, exception: Error code: 429 - {'error': {'message': 'qpm limit, you can apply for expansion on the platform (https://gpt.bytedance.net/gpt_openapi/model)', 'code': '-2001'}}\n",
      "Retry 0 times, exception: Error code: 429 - {'error': {'message': 'qpm limit, you can apply for expansion on the platform (https://gpt.bytedance.net/gpt_openapi/model)', 'code': '-2001'}}\n",
      "Retry 0 times, exception: Error code: 429 - {'error': {'message': 'qpm limit, you can apply for expansion on the platform (https://gpt.bytedance.net/gpt_openapi/model)', 'code': '-2001'}}\n",
      "Retry 0 times, exception: Error code: 429 - {'error': {'message': 'qpm limit, you can apply for expansion on the platform (https://gpt.bytedance.net/gpt_openapi/model)', 'code': '-2001'}}\n",
      "Retry 0 times, exception: Error code: 429 - {'error': {'message': 'qpm limit, you can apply for expansion on the platform (https://gpt.bytedance.net/gpt_openapi/model)', 'code': '-2001'}}\n",
      "Retry 0 times, exception: Error code: 429 - {'error': {'message': 'qpm limit, you can apply for expansion on the platform (https://gpt.bytedance.net/gpt_openapi/model)', 'code': '-2001'}}\n",
      "Retry 0 times, exception: Error code: 429 - {'error': {'message': 'qpm limit, you can apply for expansion on the platform (https://gpt.bytedance.net/gpt_openapi/model)', 'code': '-2001'}}\n",
      "Retry 0 times, exception: Error code: 429 - {'error': {'message': 'qpm limit, you can apply for expansion on the platform (https://gpt.bytedance.net/gpt_openapi/model)', 'code': '-2001'}}\n",
      "Retry 0 times, exception: Error code: 429 - {'error': {'message': 'qpm limit, you can apply for expansion on the platform (https://gpt.bytedance.net/gpt_openapi/model)', 'code': '-2001'}}\n",
      "Retry 0 times, exception: Error code: 429 - {'error': {'message': 'qpm limit, you can apply for expansion on the platform (https://gpt.bytedance.net/gpt_openapi/model)', 'code': '-2001'}}\n",
      "Retry 0 times, exception: Error code: 429 - {'error': {'message': 'qpm limit, you can apply for expansion on the platform (https://gpt.bytedance.net/gpt_openapi/model)', 'code': '-2001'}}\n",
      "Retry 0 times, exception: Error code: 429 - {'error': {'message': 'qpm limit, you can apply for expansion on the platform (https://gpt.bytedance.net/gpt_openapi/model)', 'code': '-2001'}}\n",
      "Retry 0 times, exception: Error code: 429 - {'error': {'message': 'qpm limit, you can apply for expansion on the platform (https://gpt.bytedance.net/gpt_openapi/model)', 'code': '-2001'}}\n",
      "Retry 0 times, exception: Error code: 429 - {'error': {'message': 'qpm limit, you can apply for expansion on the platform (https://gpt.bytedance.net/gpt_openapi/model)', 'code': '-2001'}}\n",
      "Retry 0 times, exception: Error code: 429 - {'error': {'message': 'qpm limit, you can apply for expansion on the platform (https://gpt.bytedance.net/gpt_openapi/model)', 'code': '-2001'}}\n",
      "Retry 0 times, exception: Error code: 429 - {'error': {'message': 'qpm limit, you can apply for expansion on the platform (https://gpt.bytedance.net/gpt_openapi/model)', 'code': '-2001'}}\n",
      "Retry 0 times, exception: Error code: 429 - {'error': {'message': 'qpm limit, you can apply for expansion on the platform (https://gpt.bytedance.net/gpt_openapi/model)', 'code': '-2001'}}\n",
      "Retry 0 times, exception: Error code: 429 - {'error': {'message': 'qpm limit, you can apply for expansion on the platform (https://gpt.bytedance.net/gpt_openapi/model)', 'code': '-2001'}}\n",
      "Retry 0 times, exception: Error code: 429 - {'error': {'message': 'qpm limit, you can apply for expansion on the platform (https://gpt.bytedance.net/gpt_openapi/model)', 'code': '-2001'}}\n",
      "Retry 0 times, exception: Error code: 429 - {'error': {'message': 'qpm limit, you can apply for expansion on the platform (https://gpt.bytedance.net/gpt_openapi/model)', 'code': '-2001'}}\n",
      "Retry 0 times, exception: Error code: 429 - {'error': {'message': 'qpm limit, you can apply for expansion on the platform (https://gpt.bytedance.net/gpt_openapi/model)', 'code': '-2001'}}\n",
      "Retry 0 times, exception: Error code: 429 - {'error': {'message': 'qpm limit, you can apply for expansion on the platform (https://gpt.bytedance.net/gpt_openapi/model)', 'code': '-2001'}}\n",
      "Retry 0 times, exception: Error code: 429 - {'error': {'message': 'qpm limit, you can apply for expansion on the platform (https://gpt.bytedance.net/gpt_openapi/model)', 'code': '-2001'}}\n",
      "Retry 0 times, exception: Error code: 429 - {'error': {'message': 'qpm limit, you can apply for expansion on the platform (https://gpt.bytedance.net/gpt_openapi/model)', 'code': '-2001'}}\n",
      "Retry 0 times, exception: Error code: 429 - {'error': {'message': 'qpm limit, you can apply for expansion on the platform (https://gpt.bytedance.net/gpt_openapi/model)', 'code': '-2001'}}\n",
      "Retry 0 times, exception: Error code: 429 - {'error': {'message': 'qpm limit, you can apply for expansion on the platform (https://gpt.bytedance.net/gpt_openapi/model)', 'code': '-2001'}}\n",
      "Retry 0 times, exception: Error code: 429 - {'error': {'message': 'qpm limit, you can apply for expansion on the platform (https://gpt.bytedance.net/gpt_openapi/model)', 'code': '-2001'}}\n",
      "Retry 0 times, exception: Error code: 429 - {'error': {'message': 'qpm limit, you can apply for expansion on the platform (https://gpt.bytedance.net/gpt_openapi/model)', 'code': '-2001'}}\n",
      "Retry 0 times, exception: Error code: 429 - {'error': {'message': 'qpm limit, you can apply for expansion on the platform (https://gpt.bytedance.net/gpt_openapi/model)', 'code': '-2001'}}\n",
      "Retry 0 times, exception: Error code: 429 - {'error': {'message': 'qpm limit, you can apply for expansion on the platform (https://gpt.bytedance.net/gpt_openapi/model)', 'code': '-2001'}}\n",
      "Retry 0 times, exception: Error code: 429 - {'error': {'message': 'qpm limit, you can apply for expansion on the platform (https://gpt.bytedance.net/gpt_openapi/model)', 'code': '-2001'}}\n",
      "Retry 0 times, exception: Error code: 429 - {'error': {'message': 'qpm limit, you can apply for expansion on the platform (https://gpt.bytedance.net/gpt_openapi/model)', 'code': '-2001'}}\n",
      "Retry 0 times, exception: Error code: 429 - {'error': {'message': 'qpm limit, you can apply for expansion on the platform (https://gpt.bytedance.net/gpt_openapi/model)', 'code': '-2001'}}\n",
      "Retry 0 times, exception: Error code: 429 - {'error': {'message': 'qpm limit, you can apply for expansion on the platform (https://gpt.bytedance.net/gpt_openapi/model)', 'code': '-2001'}}\n",
      "Retry 0 times, exception: Error code: 429 - {'error': {'message': 'qpm limit, you can apply for expansion on the platform (https://gpt.bytedance.net/gpt_openapi/model)', 'code': '-2001'}}\n",
      "Retry 0 times, exception: Error code: 429 - {'error': {'message': 'qpm limit, you can apply for expansion on the platform (https://gpt.bytedance.net/gpt_openapi/model)', 'code': '-2001'}}\n",
      "Retry 0 times, exception: Error code: 429 - {'error': {'message': 'qpm limit, you can apply for expansion on the platform (https://gpt.bytedance.net/gpt_openapi/model)', 'code': '-2001'}}\n",
      "Retry 0 times, exception: Error code: 429 - {'error': {'message': 'qpm limit, you can apply for expansion on the platform (https://gpt.bytedance.net/gpt_openapi/model)', 'code': '-2001'}}\n",
      "Retry 0 times, exception: Error code: 429 - {'error': {'message': 'qpm limit, you can apply for expansion on the platform (https://gpt.bytedance.net/gpt_openapi/model)', 'code': '-2001'}}\n",
      "Retry 0 times, exception: Error code: 429 - {'error': {'message': 'qpm limit, you can apply for expansion on the platform (https://gpt.bytedance.net/gpt_openapi/model)', 'code': '-2001'}}\n",
      "Retry 0 times, exception: Error code: 429 - {'error': {'message': 'qpm limit, you can apply for expansion on the platform (https://gpt.bytedance.net/gpt_openapi/model)', 'code': '-2001'}}\n",
      "Retry 0 times, exception: Error code: 429 - {'error': {'message': 'qpm limit, you can apply for expansion on the platform (https://gpt.bytedance.net/gpt_openapi/model)', 'code': '-2001'}}\n",
      "Retry 0 times, exception: Error code: 429 - {'error': {'message': 'qpm limit, you can apply for expansion on the platform (https://gpt.bytedance.net/gpt_openapi/model)', 'code': '-2001'}}\n",
      "Retry 0 times, exception: Error code: 429 - {'error': {'message': 'qpm limit, you can apply for expansion on the platform (https://gpt.bytedance.net/gpt_openapi/model)', 'code': '-2001'}}\n",
      "Retry 0 times, exception: Error code: 429 - {'error': {'message': 'qpm limit, you can apply for expansion on the platform (https://gpt.bytedance.net/gpt_openapi/model)', 'code': '-2001'}}\n",
      "Retry 0 times, exception: Error code: 429 - {'error': {'message': 'qpm limit, you can apply for expansion on the platform (https://gpt.bytedance.net/gpt_openapi/model)', 'code': '-2001'}}\n",
      "Retry 0 times, exception: Error code: 429 - {'error': {'message': 'qpm limit, you can apply for expansion on the platform (https://gpt.bytedance.net/gpt_openapi/model)', 'code': '-2001'}}\n",
      "Retry 0 times, exception: Error code: 429 - {'error': {'message': 'qpm limit, you can apply for expansion on the platform (https://gpt.bytedance.net/gpt_openapi/model)', 'code': '-2001'}}\n",
      "Retry 0 times, exception: Error code: 429 - {'error': {'message': 'qpm limit, you can apply for expansion on the platform (https://gpt.bytedance.net/gpt_openapi/model)', 'code': '-2001'}}\n",
      "Retry 0 times, exception: Error code: 429 - {'error': {'message': 'qpm limit, you can apply for expansion on the platform (https://gpt.bytedance.net/gpt_openapi/model)', 'code': '-2001'}}\n",
      "Retry 0 times, exception: Error code: 429 - {'error': {'message': 'qpm limit, you can apply for expansion on the platform (https://gpt.bytedance.net/gpt_openapi/model)', 'code': '-2001'}}\n",
      "Retry 0 times, exception: Error code: 429 - {'error': {'message': 'qpm limit, you can apply for expansion on the platform (https://gpt.bytedance.net/gpt_openapi/model)', 'code': '-2001'}}\n",
      "Retry 0 times, exception: Error code: 429 - {'error': {'message': 'qpm limit, you can apply for expansion on the platform (https://gpt.bytedance.net/gpt_openapi/model)', 'code': '-2001'}}\n",
      "Retry 0 times, exception: Error code: 429 - {'error': {'message': 'qpm limit, you can apply for expansion on the platform (https://gpt.bytedance.net/gpt_openapi/model)', 'code': '-2001'}}\n",
      "Retry 0 times, exception: Error code: 429 - {'error': {'message': 'qpm limit, you can apply for expansion on the platform (https://gpt.bytedance.net/gpt_openapi/model)', 'code': '-2001'}}\n",
      "Retry 0 times, exception: Error code: 429 - {'error': {'message': 'qpm limit, you can apply for expansion on the platform (https://gpt.bytedance.net/gpt_openapi/model)', 'code': '-2001'}}\n",
      "Retry 0 times, exception: Error code: 429 - {'error': {'message': 'qpm limit, you can apply for expansion on the platform (https://gpt.bytedance.net/gpt_openapi/model)', 'code': '-2001'}}\n",
      "Retry 0 times, exception: Error code: 429 - {'error': {'message': 'qpm limit, you can apply for expansion on the platform (https://gpt.bytedance.net/gpt_openapi/model)', 'code': '-2001'}}\n",
      "Retry 0 times, exception: Error code: 429 - {'error': {'message': 'qpm limit, you can apply for expansion on the platform (https://gpt.bytedance.net/gpt_openapi/model)', 'code': '-2001'}}\n",
      "Retry 0 times, exception: Error code: 429 - {'error': {'message': 'qpm limit, you can apply for expansion on the platform (https://gpt.bytedance.net/gpt_openapi/model)', 'code': '-2001'}}\n",
      "Retry 0 times, exception: Error code: 429 - {'error': {'message': 'qpm limit, you can apply for expansion on the platform (https://gpt.bytedance.net/gpt_openapi/model)', 'code': '-2001'}}\n",
      "Retry 0 times, exception: Error code: 429 - {'error': {'message': 'qpm limit, you can apply for expansion on the platform (https://gpt.bytedance.net/gpt_openapi/model)', 'code': '-2001'}}\n",
      "Retry 0 times, exception: Error code: 429 - {'error': {'message': 'qpm limit, you can apply for expansion on the platform (https://gpt.bytedance.net/gpt_openapi/model)', 'code': '-2001'}}\n",
      "Retry 0 times, exception: Error code: 429 - {'error': {'message': 'qpm limit, you can apply for expansion on the platform (https://gpt.bytedance.net/gpt_openapi/model)', 'code': '-2001'}}\n",
      "Retry 0 times, exception: Error code: 429 - {'error': {'message': 'qpm limit, you can apply for expansion on the platform (https://gpt.bytedance.net/gpt_openapi/model)', 'code': '-2001'}}\n",
      "Retry 0 times, exception: Error code: 429 - {'error': {'message': 'qpm limit, you can apply for expansion on the platform (https://gpt.bytedance.net/gpt_openapi/model)', 'code': '-2001'}}\n",
      "Retry 0 times, exception: Error code: 429 - {'error': {'message': 'qpm limit, you can apply for expansion on the platform (https://gpt.bytedance.net/gpt_openapi/model)', 'code': '-2001'}}\n",
      "Retry 0 times, exception: Error code: 429 - {'error': {'message': 'qpm limit, you can apply for expansion on the platform (https://gpt.bytedance.net/gpt_openapi/model)', 'code': '-2001'}}\n",
      "Retry 0 times, exception: Error code: 429 - {'error': {'message': 'qpm limit, you can apply for expansion on the platform (https://gpt.bytedance.net/gpt_openapi/model)', 'code': '-2001'}}\n",
      "Retry 0 times, exception: Error code: 429 - {'error': {'message': 'qpm limit, you can apply for expansion on the platform (https://gpt.bytedance.net/gpt_openapi/model)', 'code': '-2001'}}\n",
      "Retry 0 times, exception: Error code: 429 - {'error': {'message': 'qpm limit, you can apply for expansion on the platform (https://gpt.bytedance.net/gpt_openapi/model)', 'code': '-2001'}}\n",
      "Retry 0 times, exception: Error code: 429 - {'error': {'message': 'qpm limit, you can apply for expansion on the platform (https://gpt.bytedance.net/gpt_openapi/model)', 'code': '-2001'}}\n",
      "Retry 0 times, exception: Error code: 429 - {'error': {'message': 'qpm limit, you can apply for expansion on the platform (https://gpt.bytedance.net/gpt_openapi/model)', 'code': '-2001'}}\n",
      "Retry 0 times, exception: Error code: 429 - {'error': {'message': 'qpm limit, you can apply for expansion on the platform (https://gpt.bytedance.net/gpt_openapi/model)', 'code': '-2001'}}\n",
      "Retry 0 times, exception: Error code: 429 - {'error': {'message': 'qpm limit, you can apply for expansion on the platform (https://gpt.bytedance.net/gpt_openapi/model)', 'code': '-2001'}}\n",
      "Retry 0 times, exception: Error code: 429 - {'error': {'message': 'qpm limit, you can apply for expansion on the platform (https://gpt.bytedance.net/gpt_openapi/model)', 'code': '-2001'}}\n",
      "Retry 0 times, exception: Error code: 429 - {'error': {'message': 'qpm limit, you can apply for expansion on the platform (https://gpt.bytedance.net/gpt_openapi/model)', 'code': '-2001'}}\n",
      "Retry 0 times, exception: Error code: 429 - {'error': {'message': 'qpm limit, you can apply for expansion on the platform (https://gpt.bytedance.net/gpt_openapi/model)', 'code': '-2001'}}\n",
      "Retry 0 times, exception: Error code: 429 - {'error': {'message': 'qpm limit, you can apply for expansion on the platform (https://gpt.bytedance.net/gpt_openapi/model)', 'code': '-2001'}}\n",
      "Retry 0 times, exception: Error code: 429 - {'error': {'message': 'qpm limit, you can apply for expansion on the platform (https://gpt.bytedance.net/gpt_openapi/model)', 'code': '-2001'}}\n",
      "Retry 0 times, exception: Error code: 429 - {'error': {'message': 'qpm limit, you can apply for expansion on the platform (https://gpt.bytedance.net/gpt_openapi/model)', 'code': '-2001'}}\n",
      "Retry 0 times, exception: Error code: 429 - {'error': {'message': 'qpm limit, you can apply for expansion on the platform (https://gpt.bytedance.net/gpt_openapi/model)', 'code': '-2001'}}\n",
      "Retry 0 times, exception: Error code: 429 - {'error': {'message': 'qpm limit, you can apply for expansion on the platform (https://gpt.bytedance.net/gpt_openapi/model)', 'code': '-2001'}}\n",
      "Retry 0 times, exception: Error code: 429 - {'error': {'message': 'qpm limit, you can apply for expansion on the platform (https://gpt.bytedance.net/gpt_openapi/model)', 'code': '-2001'}}\n",
      "Retry 0 times, exception: Error code: 429 - {'error': {'message': 'qpm limit, you can apply for expansion on the platform (https://gpt.bytedance.net/gpt_openapi/model)', 'code': '-2001'}}\n",
      "Retry 0 times, exception: Error code: 429 - {'error': {'message': 'qpm limit, you can apply for expansion on the platform (https://gpt.bytedance.net/gpt_openapi/model)', 'code': '-2001'}}\n",
      "Retry 0 times, exception: Error code: 429 - {'error': {'message': 'qpm limit, you can apply for expansion on the platform (https://gpt.bytedance.net/gpt_openapi/model)', 'code': '-2001'}}\n",
      "Retry 1 times, exception: Error code: 429 - {'error': {'message': 'qpm limit, you can apply for expansion on the platform (https://gpt.bytedance.net/gpt_openapi/model)', 'code': '-2001'}}\n",
      "Retry 1 times, exception: Error code: 429 - {'error': {'message': 'qpm limit, you can apply for expansion on the platform (https://gpt.bytedance.net/gpt_openapi/model)', 'code': '-2001'}}\n",
      "Retry 1 times, exception: Error code: 429 - {'error': {'message': 'qpm limit, you can apply for expansion on the platform (https://gpt.bytedance.net/gpt_openapi/model)', 'code': '-2001'}}\n",
      "Retry 1 times, exception: Error code: 429 - {'error': {'message': 'qpm limit, you can apply for expansion on the platform (https://gpt.bytedance.net/gpt_openapi/model)', 'code': '-2001'}}\n",
      "Retry 1 times, exception: Error code: 429 - {'error': {'message': 'qpm limit, you can apply for expansion on the platform (https://gpt.bytedance.net/gpt_openapi/model)', 'code': '-2001'}}\n",
      "Retry 1 times, exception: Error code: 429 - {'error': {'message': 'qpm limit, you can apply for expansion on the platform (https://gpt.bytedance.net/gpt_openapi/model)', 'code': '-2001'}}\n",
      "Retry 1 times, exception: Error code: 429 - {'error': {'message': 'qpm limit, you can apply for expansion on the platform (https://gpt.bytedance.net/gpt_openapi/model)', 'code': '-2001'}}\n",
      "Retry 1 times, exception: Error code: 429 - {'error': {'message': 'qpm limit, you can apply for expansion on the platform (https://gpt.bytedance.net/gpt_openapi/model)', 'code': '-2001'}}\n",
      "Retry 1 times, exception: Error code: 429 - {'error': {'message': 'qpm limit, you can apply for expansion on the platform (https://gpt.bytedance.net/gpt_openapi/model)', 'code': '-2001'}}\n",
      "Retry 1 times, exception: Error code: 429 - {'error': {'message': 'qpm limit, you can apply for expansion on the platform (https://gpt.bytedance.net/gpt_openapi/model)', 'code': '-2001'}}\n",
      "Retry 1 times, exception: Error code: 429 - {'error': {'message': 'qpm limit, you can apply for expansion on the platform (https://gpt.bytedance.net/gpt_openapi/model)', 'code': '-2001'}}\n",
      "Retry 1 times, exception: Error code: 429 - {'error': {'message': 'qpm limit, you can apply for expansion on the platform (https://gpt.bytedance.net/gpt_openapi/model)', 'code': '-2001'}}\n",
      "Retry 1 times, exception: Error code: 429 - {'error': {'message': 'qpm limit, you can apply for expansion on the platform (https://gpt.bytedance.net/gpt_openapi/model)', 'code': '-2001'}}\n",
      "Retry 1 times, exception: Error code: 429 - {'error': {'message': 'qpm limit, you can apply for expansion on the platform (https://gpt.bytedance.net/gpt_openapi/model)', 'code': '-2001'}}\n",
      "Retry 1 times, exception: Error code: 429 - {'error': {'message': 'qpm limit, you can apply for expansion on the platform (https://gpt.bytedance.net/gpt_openapi/model)', 'code': '-2001'}}\n",
      "Retry 1 times, exception: Error code: 429 - {'error': {'message': 'qpm limit, you can apply for expansion on the platform (https://gpt.bytedance.net/gpt_openapi/model)', 'code': '-2001'}}\n",
      "Retry 1 times, exception: Error code: 429 - {'error': {'message': 'qpm limit, you can apply for expansion on the platform (https://gpt.bytedance.net/gpt_openapi/model)', 'code': '-2001'}}\n",
      "Retry 1 times, exception: Error code: 429 - {'error': {'message': 'qpm limit, you can apply for expansion on the platform (https://gpt.bytedance.net/gpt_openapi/model)', 'code': '-2001'}}\n",
      "Retry 1 times, exception: Error code: 429 - {'error': {'message': 'qpm limit, you can apply for expansion on the platform (https://gpt.bytedance.net/gpt_openapi/model)', 'code': '-2001'}}\n",
      "Retry 1 times, exception: Error code: 429 - {'error': {'message': 'qpm limit, you can apply for expansion on the platform (https://gpt.bytedance.net/gpt_openapi/model)', 'code': '-2001'}}\n",
      "Retry 1 times, exception: Error code: 429 - {'error': {'message': 'qpm limit, you can apply for expansion on the platform (https://gpt.bytedance.net/gpt_openapi/model)', 'code': '-2001'}}\n",
      "Retry 1 times, exception: Error code: 429 - {'error': {'message': 'qpm limit, you can apply for expansion on the platform (https://gpt.bytedance.net/gpt_openapi/model)', 'code': '-2001'}}\n",
      "Retry 1 times, exception: Error code: 429 - {'error': {'message': 'qpm limit, you can apply for expansion on the platform (https://gpt.bytedance.net/gpt_openapi/model)', 'code': '-2001'}}\n",
      "Retry 1 times, exception: Error code: 429 - {'error': {'message': 'qpm limit, you can apply for expansion on the platform (https://gpt.bytedance.net/gpt_openapi/model)', 'code': '-2001'}}\n",
      "Retry 1 times, exception: Error code: 429 - {'error': {'message': 'qpm limit, you can apply for expansion on the platform (https://gpt.bytedance.net/gpt_openapi/model)', 'code': '-2001'}}\n",
      "Retry 1 times, exception: Error code: 429 - {'error': {'message': 'qpm limit, you can apply for expansion on the platform (https://gpt.bytedance.net/gpt_openapi/model)', 'code': '-2001'}}\n",
      "Retry 1 times, exception: Error code: 429 - {'error': {'message': 'qpm limit, you can apply for expansion on the platform (https://gpt.bytedance.net/gpt_openapi/model)', 'code': '-2001'}}\n",
      "Retry 1 times, exception: Error code: 429 - {'error': {'message': 'qpm limit, you can apply for expansion on the platform (https://gpt.bytedance.net/gpt_openapi/model)', 'code': '-2001'}}\n",
      "Retry 1 times, exception: Error code: 429 - {'error': {'message': 'qpm limit, you can apply for expansion on the platform (https://gpt.bytedance.net/gpt_openapi/model)', 'code': '-2001'}}\n",
      "Retry 1 times, exception: Error code: 429 - {'error': {'message': 'qpm limit, you can apply for expansion on the platform (https://gpt.bytedance.net/gpt_openapi/model)', 'code': '-2001'}}\n",
      "Retry 1 times, exception: Error code: 429 - {'error': {'message': 'qpm limit, you can apply for expansion on the platform (https://gpt.bytedance.net/gpt_openapi/model)', 'code': '-2001'}}\n",
      "Retry 1 times, exception: Error code: 429 - {'error': {'message': 'qpm limit, you can apply for expansion on the platform (https://gpt.bytedance.net/gpt_openapi/model)', 'code': '-2001'}}\n",
      "Retry 1 times, exception: Error code: 429 - {'error': {'message': 'qpm limit, you can apply for expansion on the platform (https://gpt.bytedance.net/gpt_openapi/model)', 'code': '-2001'}}\n",
      "Retry 1 times, exception: Error code: 429 - {'error': {'message': 'qpm limit, you can apply for expansion on the platform (https://gpt.bytedance.net/gpt_openapi/model)', 'code': '-2001'}}\n",
      "Retry 1 times, exception: Error code: 429 - {'error': {'message': 'qpm limit, you can apply for expansion on the platform (https://gpt.bytedance.net/gpt_openapi/model)', 'code': '-2001'}}\n",
      "Retry 1 times, exception: Error code: 429 - {'error': {'message': 'qpm limit, you can apply for expansion on the platform (https://gpt.bytedance.net/gpt_openapi/model)', 'code': '-2001'}}\n",
      "Retry 1 times, exception: Error code: 429 - {'error': {'message': 'qpm limit, you can apply for expansion on the platform (https://gpt.bytedance.net/gpt_openapi/model)', 'code': '-2001'}}\n",
      "Retry 1 times, exception: Error code: 429 - {'error': {'message': 'qpm limit, you can apply for expansion on the platform (https://gpt.bytedance.net/gpt_openapi/model)', 'code': '-2001'}}\n",
      "Retry 1 times, exception: Error code: 429 - {'error': {'message': 'qpm limit, you can apply for expansion on the platform (https://gpt.bytedance.net/gpt_openapi/model)', 'code': '-2001'}}\n",
      "Retry 1 times, exception: Error code: 429 - {'error': {'message': 'qpm limit, you can apply for expansion on the platform (https://gpt.bytedance.net/gpt_openapi/model)', 'code': '-2001'}}\n",
      "Retry 1 times, exception: Error code: 429 - {'error': {'message': 'qpm limit, you can apply for expansion on the platform (https://gpt.bytedance.net/gpt_openapi/model)', 'code': '-2001'}}\n",
      "Retry 1 times, exception: Error code: 429 - {'error': {'message': 'qpm limit, you can apply for expansion on the platform (https://gpt.bytedance.net/gpt_openapi/model)', 'code': '-2001'}}\n",
      "Retry 1 times, exception: Error code: 429 - {'error': {'message': 'qpm limit, you can apply for expansion on the platform (https://gpt.bytedance.net/gpt_openapi/model)', 'code': '-2001'}}\n",
      "Retry 1 times, exception: Error code: 429 - {'error': {'message': 'qpm limit, you can apply for expansion on the platform (https://gpt.bytedance.net/gpt_openapi/model)', 'code': '-2001'}}\n",
      "Retry 1 times, exception: Error code: 429 - {'error': {'message': 'qpm limit, you can apply for expansion on the platform (https://gpt.bytedance.net/gpt_openapi/model)', 'code': '-2001'}}\n",
      "Retry 1 times, exception: Error code: 429 - {'error': {'message': 'qpm limit, you can apply for expansion on the platform (https://gpt.bytedance.net/gpt_openapi/model)', 'code': '-2001'}}\n",
      "Retry 1 times, exception: Error code: 429 - {'error': {'message': 'qpm limit, you can apply for expansion on the platform (https://gpt.bytedance.net/gpt_openapi/model)', 'code': '-2001'}}\n",
      "Retry 1 times, exception: Error code: 429 - {'error': {'message': 'qpm limit, you can apply for expansion on the platform (https://gpt.bytedance.net/gpt_openapi/model)', 'code': '-2001'}}\n",
      "Retry 1 times, exception: Error code: 429 - {'error': {'message': 'qpm limit, you can apply for expansion on the platform (https://gpt.bytedance.net/gpt_openapi/model)', 'code': '-2001'}}\n",
      "Retry 1 times, exception: Error code: 429 - {'error': {'message': 'qpm limit, you can apply for expansion on the platform (https://gpt.bytedance.net/gpt_openapi/model)', 'code': '-2001'}}\n",
      "Retry 1 times, exception: Error code: 429 - {'error': {'message': 'qpm limit, you can apply for expansion on the platform (https://gpt.bytedance.net/gpt_openapi/model)', 'code': '-2001'}}\n",
      "Retry 1 times, exception: Error code: 429 - {'error': {'message': 'qpm limit, you can apply for expansion on the platform (https://gpt.bytedance.net/gpt_openapi/model)', 'code': '-2001'}}\n",
      "Retry 1 times, exception: Error code: 429 - {'error': {'message': 'qpm limit, you can apply for expansion on the platform (https://gpt.bytedance.net/gpt_openapi/model)', 'code': '-2001'}}\n",
      "Retry 1 times, exception: Error code: 429 - {'error': {'message': 'qpm limit, you can apply for expansion on the platform (https://gpt.bytedance.net/gpt_openapi/model)', 'code': '-2001'}}\n",
      "Retry 1 times, exception: Error code: 429 - {'error': {'message': 'qpm limit, you can apply for expansion on the platform (https://gpt.bytedance.net/gpt_openapi/model)', 'code': '-2001'}}\n",
      "Retry 0 times, exception: Error code: 429 - {'error': {'message': 'qpm limit, you can apply for expansion on the platform (https://gpt.bytedance.net/gpt_openapi/model)', 'code': '-2001'}}\n",
      "Retry 1 times, exception: Error code: 429 - {'error': {'message': 'qpm limit, you can apply for expansion on the platform (https://gpt.bytedance.net/gpt_openapi/model)', 'code': '-2001'}}\n",
      "Retry 1 times, exception: Error code: 429 - {'error': {'message': 'qpm limit, you can apply for expansion on the platform (https://gpt.bytedance.net/gpt_openapi/model)', 'code': '-2001'}}\n",
      "Retry 1 times, exception: Error code: 429 - {'error': {'message': 'qpm limit, you can apply for expansion on the platform (https://gpt.bytedance.net/gpt_openapi/model)', 'code': '-2001'}}\n",
      "Retry 1 times, exception: Error code: 429 - {'error': {'message': 'qpm limit, you can apply for expansion on the platform (https://gpt.bytedance.net/gpt_openapi/model)', 'code': '-2001'}}\n",
      "Retry 1 times, exception: Error code: 429 - {'error': {'message': 'qpm limit, you can apply for expansion on the platform (https://gpt.bytedance.net/gpt_openapi/model)', 'code': '-2001'}}\n",
      "Retry 1 times, exception: Error code: 429 - {'error': {'message': 'qpm limit, you can apply for expansion on the platform (https://gpt.bytedance.net/gpt_openapi/model)', 'code': '-2001'}}\n",
      "Retry 1 times, exception: Error code: 429 - {'error': {'message': 'qpm limit, you can apply for expansion on the platform (https://gpt.bytedance.net/gpt_openapi/model)', 'code': '-2001'}}\n",
      "Retry 1 times, exception: Error code: 429 - {'error': {'message': 'qpm limit, you can apply for expansion on the platform (https://gpt.bytedance.net/gpt_openapi/model)', 'code': '-2001'}}\n",
      "Retry 1 times, exception: Error code: 429 - {'error': {'message': 'qpm limit, you can apply for expansion on the platform (https://gpt.bytedance.net/gpt_openapi/model)', 'code': '-2001'}}\n",
      "Retry 1 times, exception: Error code: 429 - {'error': {'message': 'qpm limit, you can apply for expansion on the platform (https://gpt.bytedance.net/gpt_openapi/model)', 'code': '-2001'}}\n",
      "Retry 1 times, exception: Error code: 429 - {'error': {'message': 'qpm limit, you can apply for expansion on the platform (https://gpt.bytedance.net/gpt_openapi/model)', 'code': '-2001'}}\n",
      "Retry 1 times, exception: Error code: 429 - {'error': {'message': 'qpm limit, you can apply for expansion on the platform (https://gpt.bytedance.net/gpt_openapi/model)', 'code': '-2001'}}\n",
      "Retry 1 times, exception: Error code: 429 - {'error': {'message': 'qpm limit, you can apply for expansion on the platform (https://gpt.bytedance.net/gpt_openapi/model)', 'code': '-2001'}}\n",
      "Retry 1 times, exception: Error code: 429 - {'error': {'message': 'qpm limit, you can apply for expansion on the platform (https://gpt.bytedance.net/gpt_openapi/model)', 'code': '-2001'}}\n",
      "Retry 1 times, exception: Error code: 429 - {'error': {'message': 'qpm limit, you can apply for expansion on the platform (https://gpt.bytedance.net/gpt_openapi/model)', 'code': '-2001'}}\n",
      "Retry 1 times, exception: Error code: 429 - {'error': {'message': 'qpm limit, you can apply for expansion on the platform (https://gpt.bytedance.net/gpt_openapi/model)', 'code': '-2001'}}\n",
      "Retry 1 times, exception: Error code: 429 - {'error': {'message': 'qpm limit, you can apply for expansion on the platform (https://gpt.bytedance.net/gpt_openapi/model)', 'code': '-2001'}}\n",
      "Retry 1 times, exception: Error code: 429 - {'error': {'message': 'qpm limit, you can apply for expansion on the platform (https://gpt.bytedance.net/gpt_openapi/model)', 'code': '-2001'}}\n",
      "Retry 1 times, exception: Error code: 429 - {'error': {'message': 'qpm limit, you can apply for expansion on the platform (https://gpt.bytedance.net/gpt_openapi/model)', 'code': '-2001'}}\n",
      "Retry 1 times, exception: Error code: 429 - {'error': {'message': 'qpm limit, you can apply for expansion on the platform (https://gpt.bytedance.net/gpt_openapi/model)', 'code': '-2001'}}\n",
      "Retry 1 times, exception: Error code: 429 - {'error': {'message': 'qpm limit, you can apply for expansion on the platform (https://gpt.bytedance.net/gpt_openapi/model)', 'code': '-2001'}}\n",
      "Retry 1 times, exception: Error code: 429 - {'error': {'message': 'qpm limit, you can apply for expansion on the platform (https://gpt.bytedance.net/gpt_openapi/model)', 'code': '-2001'}}\n",
      "Retry 1 times, exception: Error code: 429 - {'error': {'message': 'qpm limit, you can apply for expansion on the platform (https://gpt.bytedance.net/gpt_openapi/model)', 'code': '-2001'}}\n",
      "Retry 1 times, exception: Error code: 429 - {'error': {'message': 'qpm limit, you can apply for expansion on the platform (https://gpt.bytedance.net/gpt_openapi/model)', 'code': '-2001'}}\n",
      "Retry 1 times, exception: Error code: 429 - {'error': {'message': 'qpm limit, you can apply for expansion on the platform (https://gpt.bytedance.net/gpt_openapi/model)', 'code': '-2001'}}\n",
      "Retry 1 times, exception: Error code: 429 - {'error': {'message': 'qpm limit, you can apply for expansion on the platform (https://gpt.bytedance.net/gpt_openapi/model)', 'code': '-2001'}}\n",
      "Retry 1 times, exception: Error code: 429 - {'error': {'message': 'qpm limit, you can apply for expansion on the platform (https://gpt.bytedance.net/gpt_openapi/model)', 'code': '-2001'}}\n",
      "Retry 1 times, exception: Error code: 429 - {'error': {'message': 'qpm limit, you can apply for expansion on the platform (https://gpt.bytedance.net/gpt_openapi/model)', 'code': '-2001'}}\n",
      "Retry 1 times, exception: Error code: 429 - {'error': {'message': 'qpm limit, you can apply for expansion on the platform (https://gpt.bytedance.net/gpt_openapi/model)', 'code': '-2001'}}\n",
      "Retry 1 times, exception: Error code: 429 - {'error': {'message': 'qpm limit, you can apply for expansion on the platform (https://gpt.bytedance.net/gpt_openapi/model)', 'code': '-2001'}}\n",
      "Retry 1 times, exception: Error code: 429 - {'error': {'message': 'qpm limit, you can apply for expansion on the platform (https://gpt.bytedance.net/gpt_openapi/model)', 'code': '-2001'}}\n",
      "Retry 1 times, exception: Error code: 429 - {'error': {'message': 'qpm limit, you can apply for expansion on the platform (https://gpt.bytedance.net/gpt_openapi/model)', 'code': '-2001'}}\n",
      "Retry 1 times, exception: Error code: 429 - {'error': {'message': 'qpm limit, you can apply for expansion on the platform (https://gpt.bytedance.net/gpt_openapi/model)', 'code': '-2001'}}\n",
      "Retry 1 times, exception: Error code: 429 - {'error': {'message': 'qpm limit, you can apply for expansion on the platform (https://gpt.bytedance.net/gpt_openapi/model)', 'code': '-2001'}}\n",
      "Retry 1 times, exception: Error code: 429 - {'error': {'message': 'qpm limit, you can apply for expansion on the platform (https://gpt.bytedance.net/gpt_openapi/model)', 'code': '-2001'}}\n",
      "Retry 1 times, exception: Error code: 429 - {'error': {'message': 'qpm limit, you can apply for expansion on the platform (https://gpt.bytedance.net/gpt_openapi/model)', 'code': '-2001'}}\n",
      "Retry 1 times, exception: Error code: 429 - {'error': {'message': 'qpm limit, you can apply for expansion on the platform (https://gpt.bytedance.net/gpt_openapi/model)', 'code': '-2001'}}\n",
      "Retry 1 times, exception: Error code: 429 - {'error': {'message': 'qpm limit, you can apply for expansion on the platform (https://gpt.bytedance.net/gpt_openapi/model)', 'code': '-2001'}}\n",
      "Retry 1 times, exception: Error code: 429 - {'error': {'message': 'qpm limit, you can apply for expansion on the platform (https://gpt.bytedance.net/gpt_openapi/model)', 'code': '-2001'}}\n",
      "Retry 1 times, exception: Error code: 429 - {'error': {'message': 'qpm limit, you can apply for expansion on the platform (https://gpt.bytedance.net/gpt_openapi/model)', 'code': '-2001'}}\n",
      "Retry 1 times, exception: Error code: 429 - {'error': {'message': 'qpm limit, you can apply for expansion on the platform (https://gpt.bytedance.net/gpt_openapi/model)', 'code': '-2001'}}\n",
      "Retry 0 times, exception: Error code: 429 - {'error': {'message': 'qpm limit, you can apply for expansion on the platform (https://gpt.bytedance.net/gpt_openapi/model)', 'code': '-2001'}}\n",
      "Retry 2 times, exception: Error code: 429 - {'error': {'message': 'qpm limit, you can apply for expansion on the platform (https://gpt.bytedance.net/gpt_openapi/model)', 'code': '-2001'}}\n",
      "Retry 2 times, exception: Error code: 429 - {'error': {'message': 'qpm limit, you can apply for expansion on the platform (https://gpt.bytedance.net/gpt_openapi/model)', 'code': '-2001'}}\n",
      "Retry 2 times, exception: Error code: 429 - {'error': {'message': 'qpm limit, you can apply for expansion on the platform (https://gpt.bytedance.net/gpt_openapi/model)', 'code': '-2001'}}\n",
      "Retry 2 times, exception: Error code: 429 - {'error': {'message': 'qpm limit, you can apply for expansion on the platform (https://gpt.bytedance.net/gpt_openapi/model)', 'code': '-2001'}}\n",
      "Retry 2 times, exception: Error code: 429 - {'error': {'message': 'qpm limit, you can apply for expansion on the platform (https://gpt.bytedance.net/gpt_openapi/model)', 'code': '-2001'}}\n",
      "Retry 2 times, exception: Error code: 429 - {'error': {'message': 'qpm limit, you can apply for expansion on the platform (https://gpt.bytedance.net/gpt_openapi/model)', 'code': '-2001'}}\n",
      "Retry 2 times, exception: Error code: 429 - {'error': {'message': 'qpm limit, you can apply for expansion on the platform (https://gpt.bytedance.net/gpt_openapi/model)', 'code': '-2001'}}\n",
      "Retry 2 times, exception: Error code: 429 - {'error': {'message': 'qpm limit, you can apply for expansion on the platform (https://gpt.bytedance.net/gpt_openapi/model)', 'code': '-2001'}}\n",
      "Retry 2 times, exception: Error code: 429 - {'error': {'message': 'qpm limit, you can apply for expansion on the platform (https://gpt.bytedance.net/gpt_openapi/model)', 'code': '-2001'}}\n",
      "Retry 2 times, exception: Error code: 429 - {'error': {'message': 'qpm limit, you can apply for expansion on the platform (https://gpt.bytedance.net/gpt_openapi/model)', 'code': '-2001'}}\n",
      "Retry 2 times, exception: Error code: 429 - {'error': {'message': 'qpm limit, you can apply for expansion on the platform (https://gpt.bytedance.net/gpt_openapi/model)', 'code': '-2001'}}\n",
      "Retry 2 times, exception: Error code: 429 - {'error': {'message': 'qpm limit, you can apply for expansion on the platform (https://gpt.bytedance.net/gpt_openapi/model)', 'code': '-2001'}}\n",
      "Retry 2 times, exception: Error code: 429 - {'error': {'message': 'qpm limit, you can apply for expansion on the platform (https://gpt.bytedance.net/gpt_openapi/model)', 'code': '-2001'}}\n",
      "Retry 2 times, exception: Error code: 429 - {'error': {'message': 'qpm limit, you can apply for expansion on the platform (https://gpt.bytedance.net/gpt_openapi/model)', 'code': '-2001'}}\n",
      "Retry 2 times, exception: Error code: 429 - {'error': {'message': 'qpm limit, you can apply for expansion on the platform (https://gpt.bytedance.net/gpt_openapi/model)', 'code': '-2001'}}\n",
      "Retry 2 times, exception: Error code: 429 - {'error': {'message': 'qpm limit, you can apply for expansion on the platform (https://gpt.bytedance.net/gpt_openapi/model)', 'code': '-2001'}}\n",
      "Retry 2 times, exception: Error code: 429 - {'error': {'message': 'qpm limit, you can apply for expansion on the platform (https://gpt.bytedance.net/gpt_openapi/model)', 'code': '-2001'}}\n",
      "Retry 2 times, exception: Error code: 429 - {'error': {'message': 'qpm limit, you can apply for expansion on the platform (https://gpt.bytedance.net/gpt_openapi/model)', 'code': '-2001'}}\n",
      "Retry 2 times, exception: Error code: 429 - {'error': {'message': 'qpm limit, you can apply for expansion on the platform (https://gpt.bytedance.net/gpt_openapi/model)', 'code': '-2001'}}\n",
      "Retry 2 times, exception: Error code: 429 - {'error': {'message': 'qpm limit, you can apply for expansion on the platform (https://gpt.bytedance.net/gpt_openapi/model)', 'code': '-2001'}}\n",
      "Retry 2 times, exception: Error code: 429 - {'error': {'message': 'qpm limit, you can apply for expansion on the platform (https://gpt.bytedance.net/gpt_openapi/model)', 'code': '-2001'}}\n",
      "Retry 2 times, exception: Error code: 429 - {'error': {'message': 'qpm limit, you can apply for expansion on the platform (https://gpt.bytedance.net/gpt_openapi/model)', 'code': '-2001'}}\n",
      "Retry 2 times, exception: Error code: 429 - {'error': {'message': 'qpm limit, you can apply for expansion on the platform (https://gpt.bytedance.net/gpt_openapi/model)', 'code': '-2001'}}\n",
      "Retry 2 times, exception: Error code: 429 - {'error': {'message': 'qpm limit, you can apply for expansion on the platform (https://gpt.bytedance.net/gpt_openapi/model)', 'code': '-2001'}}\n",
      "Retry 2 times, exception: Error code: 429 - {'error': {'message': 'qpm limit, you can apply for expansion on the platform (https://gpt.bytedance.net/gpt_openapi/model)', 'code': '-2001'}}\n",
      "Retry 2 times, exception: Error code: 429 - {'error': {'message': 'qpm limit, you can apply for expansion on the platform (https://gpt.bytedance.net/gpt_openapi/model)', 'code': '-2001'}}\n",
      "Retry 2 times, exception: Error code: 429 - {'error': {'message': 'qpm limit, you can apply for expansion on the platform (https://gpt.bytedance.net/gpt_openapi/model)', 'code': '-2001'}}\n",
      "Retry 2 times, exception: Error code: 429 - {'error': {'message': 'qpm limit, you can apply for expansion on the platform (https://gpt.bytedance.net/gpt_openapi/model)', 'code': '-2001'}}\n",
      "Retry 2 times, exception: Error code: 429 - {'error': {'message': 'qpm limit, you can apply for expansion on the platform (https://gpt.bytedance.net/gpt_openapi/model)', 'code': '-2001'}}\n",
      "Retry 2 times, exception: Error code: 429 - {'error': {'message': 'qpm limit, you can apply for expansion on the platform (https://gpt.bytedance.net/gpt_openapi/model)', 'code': '-2001'}}\n",
      "Retry 2 times, exception: Error code: 429 - {'error': {'message': 'qpm limit, you can apply for expansion on the platform (https://gpt.bytedance.net/gpt_openapi/model)', 'code': '-2001'}}\n",
      "Retry 2 times, exception: Error code: 429 - {'error': {'message': 'qpm limit, you can apply for expansion on the platform (https://gpt.bytedance.net/gpt_openapi/model)', 'code': '-2001'}}\n",
      "Retry 2 times, exception: Error code: 429 - {'error': {'message': 'qpm limit, you can apply for expansion on the platform (https://gpt.bytedance.net/gpt_openapi/model)', 'code': '-2001'}}\n",
      "Retry 2 times, exception: Error code: 429 - {'error': {'message': 'qpm limit, you can apply for expansion on the platform (https://gpt.bytedance.net/gpt_openapi/model)', 'code': '-2001'}}\n",
      "Retry 2 times, exception: Error code: 429 - {'error': {'message': 'qpm limit, you can apply for expansion on the platform (https://gpt.bytedance.net/gpt_openapi/model)', 'code': '-2001'}}\n",
      "Retry 2 times, exception: Error code: 429 - {'error': {'message': 'qpm limit, you can apply for expansion on the platform (https://gpt.bytedance.net/gpt_openapi/model)', 'code': '-2001'}}\n",
      "Retry 2 times, exception: Error code: 429 - {'error': {'message': 'qpm limit, you can apply for expansion on the platform (https://gpt.bytedance.net/gpt_openapi/model)', 'code': '-2001'}}\n",
      "Retry 2 times, exception: Error code: 429 - {'error': {'message': 'qpm limit, you can apply for expansion on the platform (https://gpt.bytedance.net/gpt_openapi/model)', 'code': '-2001'}}\n",
      "Retry 2 times, exception: Error code: 429 - {'error': {'message': 'qpm limit, you can apply for expansion on the platform (https://gpt.bytedance.net/gpt_openapi/model)', 'code': '-2001'}}\n",
      "Retry 2 times, exception: Error code: 429 - {'error': {'message': 'qpm limit, you can apply for expansion on the platform (https://gpt.bytedance.net/gpt_openapi/model)', 'code': '-2001'}}\n",
      "Retry 2 times, exception: Error code: 429 - {'error': {'message': 'qpm limit, you can apply for expansion on the platform (https://gpt.bytedance.net/gpt_openapi/model)', 'code': '-2001'}}\n",
      "Retry 2 times, exception: Error code: 429 - {'error': {'message': 'qpm limit, you can apply for expansion on the platform (https://gpt.bytedance.net/gpt_openapi/model)', 'code': '-2001'}}\n",
      "Retry 2 times, exception: Error code: 429 - {'error': {'message': 'qpm limit, you can apply for expansion on the platform (https://gpt.bytedance.net/gpt_openapi/model)', 'code': '-2001'}}\n",
      "Retry 2 times, exception: Error code: 429 - {'error': {'message': 'qpm limit, you can apply for expansion on the platform (https://gpt.bytedance.net/gpt_openapi/model)', 'code': '-2001'}}\n",
      "Retry 2 times, exception: Error code: 429 - {'error': {'message': 'qpm limit, you can apply for expansion on the platform (https://gpt.bytedance.net/gpt_openapi/model)', 'code': '-2001'}}\n",
      "Retry 2 times, exception: Error code: 429 - {'error': {'message': 'qpm limit, you can apply for expansion on the platform (https://gpt.bytedance.net/gpt_openapi/model)', 'code': '-2001'}}\n",
      "Retry 2 times, exception: Error code: 429 - {'error': {'message': 'qpm limit, you can apply for expansion on the platform (https://gpt.bytedance.net/gpt_openapi/model)', 'code': '-2001'}}\n",
      "Retry 2 times, exception: Error code: 429 - {'error': {'message': 'qpm limit, you can apply for expansion on the platform (https://gpt.bytedance.net/gpt_openapi/model)', 'code': '-2001'}}\n",
      "Retry 2 times, exception: Error code: 429 - {'error': {'message': 'qpm limit, you can apply for expansion on the platform (https://gpt.bytedance.net/gpt_openapi/model)', 'code': '-2001'}}\n",
      "Retry 2 times, exception: Error code: 429 - {'error': {'message': 'qpm limit, you can apply for expansion on the platform (https://gpt.bytedance.net/gpt_openapi/model)', 'code': '-2001'}}\n",
      "Retry 2 times, exception: Error code: 429 - {'error': {'message': 'qpm limit, you can apply for expansion on the platform (https://gpt.bytedance.net/gpt_openapi/model)', 'code': '-2001'}}\n",
      "Retry 2 times, exception: Error code: 429 - {'error': {'message': 'qpm limit, you can apply for expansion on the platform (https://gpt.bytedance.net/gpt_openapi/model)', 'code': '-2001'}}\n",
      "Retry 2 times, exception: Error code: 429 - {'error': {'message': 'qpm limit, you can apply for expansion on the platform (https://gpt.bytedance.net/gpt_openapi/model)', 'code': '-2001'}}\n",
      "Retry 2 times, exception: Error code: 429 - {'error': {'message': 'qpm limit, you can apply for expansion on the platform (https://gpt.bytedance.net/gpt_openapi/model)', 'code': '-2001'}}\n",
      "Retry 2 times, exception: Error code: 429 - {'error': {'message': 'qpm limit, you can apply for expansion on the platform (https://gpt.bytedance.net/gpt_openapi/model)', 'code': '-2001'}}\n",
      "Retry 2 times, exception: Error code: 429 - {'error': {'message': 'qpm limit, you can apply for expansion on the platform (https://gpt.bytedance.net/gpt_openapi/model)', 'code': '-2001'}}\n",
      "Retry 2 times, exception: Error code: 429 - {'error': {'message': 'qpm limit, you can apply for expansion on the platform (https://gpt.bytedance.net/gpt_openapi/model)', 'code': '-2001'}}\n",
      "Retry 2 times, exception: Error code: 429 - {'error': {'message': 'qpm limit, you can apply for expansion on the platform (https://gpt.bytedance.net/gpt_openapi/model)', 'code': '-2001'}}\n",
      "Retry 2 times, exception: Error code: 429 - {'error': {'message': 'qpm limit, you can apply for expansion on the platform (https://gpt.bytedance.net/gpt_openapi/model)', 'code': '-2001'}}\n",
      "Retry 2 times, exception: Error code: 429 - {'error': {'message': 'qpm limit, you can apply for expansion on the platform (https://gpt.bytedance.net/gpt_openapi/model)', 'code': '-2001'}}\n",
      "Retry 2 times, exception: Error code: 429 - {'error': {'message': 'qpm limit, you can apply for expansion on the platform (https://gpt.bytedance.net/gpt_openapi/model)', 'code': '-2001'}}\n",
      "Retry 2 times, exception: Error code: 429 - {'error': {'message': 'qpm limit, you can apply for expansion on the platform (https://gpt.bytedance.net/gpt_openapi/model)', 'code': '-2001'}}\n",
      "Retry 2 times, exception: Error code: 429 - {'error': {'message': 'qpm limit, you can apply for expansion on the platform (https://gpt.bytedance.net/gpt_openapi/model)', 'code': '-2001'}}\n",
      "Retry 2 times, exception: Error code: 429 - {'error': {'message': 'qpm limit, you can apply for expansion on the platform (https://gpt.bytedance.net/gpt_openapi/model)', 'code': '-2001'}}\n",
      "Retry 2 times, exception: Error code: 429 - {'error': {'message': 'qpm limit, you can apply for expansion on the platform (https://gpt.bytedance.net/gpt_openapi/model)', 'code': '-2001'}}\n",
      "Retry 2 times, exception: Error code: 429 - {'error': {'message': 'qpm limit, you can apply for expansion on the platform (https://gpt.bytedance.net/gpt_openapi/model)', 'code': '-2001'}}\n",
      "Retry 2 times, exception: Error code: 429 - {'error': {'message': 'qpm limit, you can apply for expansion on the platform (https://gpt.bytedance.net/gpt_openapi/model)', 'code': '-2001'}}\n",
      "Retry 2 times, exception: Error code: 429 - {'error': {'message': 'qpm limit, you can apply for expansion on the platform (https://gpt.bytedance.net/gpt_openapi/model)', 'code': '-2001'}}\n",
      "Retry 2 times, exception: Error code: 429 - {'error': {'message': 'qpm limit, you can apply for expansion on the platform (https://gpt.bytedance.net/gpt_openapi/model)', 'code': '-2001'}}\n",
      "Retry 1 times, exception: Error code: 429 - {'error': {'message': 'qpm limit, you can apply for expansion on the platform (https://gpt.bytedance.net/gpt_openapi/model)', 'code': '-2001'}}\n",
      "Retry 2 times, exception: Error code: 429 - {'error': {'message': 'qpm limit, you can apply for expansion on the platform (https://gpt.bytedance.net/gpt_openapi/model)', 'code': '-2001'}}\n",
      "Retry 2 times, exception: Error code: 429 - {'error': {'message': 'qpm limit, you can apply for expansion on the platform (https://gpt.bytedance.net/gpt_openapi/model)', 'code': '-2001'}}\n",
      "Retry 2 times, exception: Error code: 429 - {'error': {'message': 'qpm limit, you can apply for expansion on the platform (https://gpt.bytedance.net/gpt_openapi/model)', 'code': '-2001'}}\n",
      "Retry 2 times, exception: Error code: 429 - {'error': {'message': 'qpm limit, you can apply for expansion on the platform (https://gpt.bytedance.net/gpt_openapi/model)', 'code': '-2001'}}\n",
      "Retry 1 times, exception: Error code: 429 - {'error': {'message': 'qpm limit, you can apply for expansion on the platform (https://gpt.bytedance.net/gpt_openapi/model)', 'code': '-2001'}}\n",
      "Retry 3 times, exception: Error code: 429 - {'error': {'message': 'qpm limit, you can apply for expansion on the platform (https://gpt.bytedance.net/gpt_openapi/model)', 'code': '-2001'}}\n",
      "Retry 3 times, exception: Error code: 429 - {'error': {'message': 'qpm limit, you can apply for expansion on the platform (https://gpt.bytedance.net/gpt_openapi/model)', 'code': '-2001'}}\n",
      "Retry 3 times, exception: Error code: 429 - {'error': {'message': 'qpm limit, you can apply for expansion on the platform (https://gpt.bytedance.net/gpt_openapi/model)', 'code': '-2001'}}\n",
      "Retry 3 times, exception: Error code: 429 - {'error': {'message': 'qpm limit, you can apply for expansion on the platform (https://gpt.bytedance.net/gpt_openapi/model)', 'code': '-2001'}}\n",
      "Retry 3 times, exception: Error code: 429 - {'error': {'message': 'qpm limit, you can apply for expansion on the platform (https://gpt.bytedance.net/gpt_openapi/model)', 'code': '-2001'}}\n",
      "Retry 3 times, exception: Error code: 429 - {'error': {'message': 'qpm limit, you can apply for expansion on the platform (https://gpt.bytedance.net/gpt_openapi/model)', 'code': '-2001'}}\n",
      "Retry 3 times, exception: Error code: 429 - {'error': {'message': 'qpm limit, you can apply for expansion on the platform (https://gpt.bytedance.net/gpt_openapi/model)', 'code': '-2001'}}\n",
      "Retry 3 times, exception: Error code: 429 - {'error': {'message': 'qpm limit, you can apply for expansion on the platform (https://gpt.bytedance.net/gpt_openapi/model)', 'code': '-2001'}}\n",
      "Retry 3 times, exception: Error code: 429 - {'error': {'message': 'qpm limit, you can apply for expansion on the platform (https://gpt.bytedance.net/gpt_openapi/model)', 'code': '-2001'}}\n",
      "Retry 3 times, exception: Error code: 429 - {'error': {'message': 'qpm limit, you can apply for expansion on the platform (https://gpt.bytedance.net/gpt_openapi/model)', 'code': '-2001'}}\n",
      "Retry 3 times, exception: Error code: 429 - {'error': {'message': 'qpm limit, you can apply for expansion on the platform (https://gpt.bytedance.net/gpt_openapi/model)', 'code': '-2001'}}\n",
      "Retry 3 times, exception: Error code: 429 - {'error': {'message': 'qpm limit, you can apply for expansion on the platform (https://gpt.bytedance.net/gpt_openapi/model)', 'code': '-2001'}}\n",
      "Retry 2 times, exception: Error code: 429 - {'error': {'message': 'qpm limit, you can apply for expansion on the platform (https://gpt.bytedance.net/gpt_openapi/model)', 'code': '-2001'}}\n",
      "Retry 3 times, exception: Error code: 429 - {'error': {'message': 'qpm limit, you can apply for expansion on the platform (https://gpt.bytedance.net/gpt_openapi/model)', 'code': '-2001'}}\n",
      "Retry 3 times, exception: Error code: 429 - {'error': {'message': 'qpm limit, you can apply for expansion on the platform (https://gpt.bytedance.net/gpt_openapi/model)', 'code': '-2001'}}\n",
      "Retry 3 times, exception: Error code: 429 - {'error': {'message': 'qpm limit, you can apply for expansion on the platform (https://gpt.bytedance.net/gpt_openapi/model)', 'code': '-2001'}}\n",
      "Retry 3 times, exception: Error code: 429 - {'error': {'message': 'qpm limit, you can apply for expansion on the platform (https://gpt.bytedance.net/gpt_openapi/model)', 'code': '-2001'}}\n",
      "Retry 3 times, exception: Error code: 429 - {'error': {'message': 'qpm limit, you can apply for expansion on the platform (https://gpt.bytedance.net/gpt_openapi/model)', 'code': '-2001'}}\n",
      "Retry 3 times, exception: Error code: 429 - {'error': {'message': 'qpm limit, you can apply for expansion on the platform (https://gpt.bytedance.net/gpt_openapi/model)', 'code': '-2001'}}\n",
      "Retry 3 times, exception: Error code: 429 - {'error': {'message': 'qpm limit, you can apply for expansion on the platform (https://gpt.bytedance.net/gpt_openapi/model)', 'code': '-2001'}}\n",
      "Retry 3 times, exception: Error code: 429 - {'error': {'message': 'qpm limit, you can apply for expansion on the platform (https://gpt.bytedance.net/gpt_openapi/model)', 'code': '-2001'}}\n",
      "Retry 3 times, exception: Error code: 429 - {'error': {'message': 'qpm limit, you can apply for expansion on the platform (https://gpt.bytedance.net/gpt_openapi/model)', 'code': '-2001'}}\n",
      "Retry 2 times, exception: Error code: 429 - {'error': {'message': 'qpm limit, you can apply for expansion on the platform (https://gpt.bytedance.net/gpt_openapi/model)', 'code': '-2001'}}\n",
      "Retry 3 times, exception: Error code: 429 - {'error': {'message': 'qpm limit, you can apply for expansion on the platform (https://gpt.bytedance.net/gpt_openapi/model)', 'code': '-2001'}}\n",
      "0.6086956521739131\n"
     ]
    }
   ],
   "source": [
    "with open(\"data/annotations/video_list_CZ_answer_clipwise_0320.json\", \"r\") as f:\n",
    "    video_list = json.load(f)\n",
    "\n",
    "qas = []\n",
    "for video in video_list:\n",
    "    qa_list = [\n",
    "        {\n",
    "            \"question\": qa[\"question\"],\n",
    "            \"ground truth answer\": qa[\"answer\"],\n",
    "            \"baseline answer\": qa[\"answer_baselines\"],\n",
    "        }\n",
    "        for qa in video[\"qa_list\"]\n",
    "    ]\n",
    "    qas.extend(qa_list)\n",
    "\n",
    "acc, results = verify_answers(qas)\n",
    "\n",
    "print(acc)\n",
    "\n",
    "idx = 0\n",
    "for video in video_list:\n",
    "    for qa in video[\"qa_list\"]:\n",
    "        qa[\"correct\"] = results[idx]\n",
    "        idx += 1\n",
    "\n",
    "with open(\n",
    "    \"data/annotations/video_list_CZ_answer_clipwise_verified_0320.json\", \"w\"\n",
    ") as f:\n",
    "    json.dump(video_list, f, indent=4)"
   ]
  },
  {
   "cell_type": "code",
   "execution_count": 5,
   "metadata": {},
   "outputs": [
    {
     "name": "stdout",
     "output_type": "stream",
     "text": [
      "['Yes', 'No', 'No', 'Yes', 'Yes', 'No', 'Yes', 'No', 'Yes', 'Yes', 'Yes', 'No', 'Yes', 'Yes', 'Yes', 'No', 'Yes', 'Yes', 'Yes', 'No', 'Yes', 'Yes', 'No', 'Yes', 'Yes', 'Yes', 'Yes', 'No', 'No', 'No', 'Yes', 'Yes', 'Yes', 'Yes', 'Yes', 'Yes', 'No', 'Yes', 'Yes', 'Yes', 'No', 'Yes', 'No', 'Yes', 'Yes', 'Yes', 'Yes', 'Yes', 'Yes', 'No', 'No', 'No', 'No', 'Yes', 'Yes', 'Yes', 'Yes', 'No', 'No', 'Yes', 'No', 'Yes', 'Yes', 'No', 'No', 'Yes', 'No', 'No', 'No', 'Yes', 'Yes', 'Yes', 'Yes', 'Yes', 'Yes', 'Yes', 'No', 'No', 'Yes', 'Yes', 'Yes', 'No', 'No', 'Yes', 'Yes', 'Yes', 'No', 'No', 'No', 'Yes', 'Yes', 'No', 'Yes', 'No', 'No', 'Yes', 'No', 'No', 'No', 'Yes', 'Yes', 'Yes', 'No', 'Yes', 'No', 'Yes', 'No', 'No', 'Yes', 'No', 'Yes', 'No', 'Yes', 'Yes', 'Yes', 'No', 'Yes', 'Yes', 'Yes', 'Yes', 'No', 'No', 'Yes', 'No', 'No', 'Yes', 'Yes', 'Yes', 'No', 'No', 'No', 'Yes', 'Yes', 'Yes', 'Yes', 'Yes', 'Yes', 'Yes', 'Yes', 'Yes', 'Yes', 'Yes', 'No', 'Yes', 'Yes', 'No', 'Yes', 'No', 'Yes', 'Yes', 'No', 'Yes', 'No', 'Yes', 'Yes', 'Yes', 'No', 'Yes', 'No', 'Yes', 'Yes', 'No', 'Yes', 'Yes', 'Yes', 'Yes', 'Yes', 'Yes', 'No', 'No', 'No', 'No', 'No', 'Yes', 'Yes', 'No', 'No', 'No', 'Yes', 'No', 'No', 'No', 'No', 'Yes', 'Yes', 'No', 'Yes', 'Yes', 'No', 'Yes', 'No', 'Yes', 'Yes', 'Yes', 'Yes', 'No', 'No', 'Yes', 'Yes', 'Yes', 'No', 'Yes', 'No', 'No', 'No', 'Yes', 'No', 'Yes', 'Yes', 'Yes', 'Yes', 'Yes', 'Yes', 'No', 'Yes', 'Yes', 'Yes', 'Yes', 'Yes', 'Yes', 'Yes', 'Yes', 'No', 'Yes', 'Yes', 'Yes', 'No', 'Yes', 'Yes', 'Yes', 'No', 'No', 'Yes', 'No', 'Yes', 'No', 'Yes', 'Yes', 'Yes', 'Yes', 'Yes', 'No', 'No', 'Yes', 'No', 'Yes', 'Yes', 'No', 'Yes', 'Yes', 'No', 'Yes', 'Yes']\n"
     ]
    }
   ],
   "source": [
    "print(results)"
   ]
  }
 ],
 "metadata": {
  "fileId": "4faf4e4b-e68a-4913-a9ce-7ac46ea17634",
  "filePath": "/mnt/bn/videonasi18n/longlin.kylin/mmagent/baseline_answer_clipwise.ipynb",
  "kernelspec": {
   "display_name": "vlm_agent",
   "language": "python",
   "name": "python3"
  },
  "language_info": {
   "codemirror_mode": {
    "name": "ipython",
    "version": 3
   },
   "file_extension": ".py",
   "mimetype": "text/x-python",
   "name": "python",
   "nbconvert_exporter": "python",
   "pygments_lexer": "ipython3",
   "version": "3.11.11"
  }
 },
 "nbformat": 4,
 "nbformat_minor": 2
}
