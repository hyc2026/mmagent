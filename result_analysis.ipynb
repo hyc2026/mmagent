{
 "cells": [
  {
   "cell_type": "code",
   "execution_count": 2,
   "metadata": {},
   "outputs": [],
   "source": [
    "import json\n",
    "import os\n",
    "from qa_processing import verify_qa_list"
   ]
  },
  {
   "cell_type": "code",
   "execution_count": null,
   "metadata": {},
   "outputs": [],
   "source": [
    "qa_list = []\n",
    "dataset_with_agent_answer = \"\"\n",
    "dataset_with_agent_answer_verified = dataset_with_agent_answer.replace(\n",
    "    \"_with_agent_answer\", \"_with_agent_answer_verified\"\n",
    ")\n",
    "\n",
    "with open(dataset_with_agent_answer, \"r\") as f:\n",
    "    for line in f:\n",
    "        qa = json.loads(line)\n",
    "        if os.path.exists(qa[\"mem_path\"]):\n",
    "            qa_list.append(qa)\n",
    "\n",
    "qa_list = verify_qa_list(qa_list)\n",
    "\n",
    "with open(dataset_with_agent_answer_verified, \"w\") as f:\n",
    "    for qa in qa_list:\n",
    "        f.write(json.dumps(qa) + \"\\n\")"
   ]
  },
  {
   "cell_type": "code",
   "execution_count": 3,
   "metadata": {},
   "outputs": [
    {
     "name": "stdout",
     "output_type": "stream",
     "text": [
      "Accuracy: 0.5496031746031746\n"
     ]
    }
   ],
   "source": [
    "# calculate accuracy\n",
    "dataset_with_agent_answer_verified = \"data/annotations/results/small_test_with_agent_answer_verified_0.jsonl\"\n",
    "total = 0\n",
    "correct = 0\n",
    "\n",
    "with open(dataset_with_agent_answer_verified, \"r\") as f:\n",
    "    for line in f:\n",
    "        qa = json.loads(line)\n",
    "        total += 1\n",
    "        if qa[\"verify_result\"].lower().startswith(\"yes\"):\n",
    "            correct += 1\n",
    "\n",
    "print(f\"Accuracy: {correct / total}\")"
   ]
  },
  {
   "cell_type": "code",
   "execution_count": 10,
   "metadata": {},
   "outputs": [
    {
     "name": "stdout",
     "output_type": "stream",
     "text": [
      "Pass@4: 0.6944444444444444\n"
     ]
    }
   ],
   "source": [
    "# calculate pass@k\n",
    "k = 4\n",
    "\n",
    "dataset_with_agent_answer_verified = (\n",
    "    \"data/annotations/results/small_test_with_agent_answer_verified_{round}.jsonl\"\n",
    ")\n",
    "\n",
    "results = [dataset_with_agent_answer_verified.format(round=i) for i in range(k)]\n",
    "result_files = [open(result, \"r\") for result in results]\n",
    "\n",
    "total = 0\n",
    "correct = 0\n",
    "\n",
    "# Read all QA pairs line by line across k files\n",
    "while True:\n",
    "    qa_attempts = []\n",
    "    # Try to read next line from each file\n",
    "    for f in result_files:\n",
    "        line = f.readline()\n",
    "        if line:\n",
    "            qa = json.loads(line)\n",
    "            qa_attempts.append(qa[\"verify_result\"].lower().startswith(\"yes\"))\n",
    "\n",
    "    # If we've reached end of files, break\n",
    "    if not qa_attempts:\n",
    "        break\n",
    "\n",
    "    # Count as correct if any attempt was successful\n",
    "    total += 1\n",
    "    if any(qa_attempts):\n",
    "        correct += 1\n",
    "\n",
    "# Close all files\n",
    "for f in result_files:\n",
    "    f.close()\n",
    "\n",
    "print(f\"Pass@{k}: {correct / total}\")"
   ]
  },
  {
   "cell_type": "code",
   "execution_count": null,
   "metadata": {},
   "outputs": [],
   "source": []
  }
 ],
 "metadata": {
  "kernelspec": {
   "display_name": "vlm_agent",
   "language": "python",
   "name": "python3"
  },
  "language_info": {
   "codemirror_mode": {
    "name": "ipython",
    "version": 3
   },
   "file_extension": ".py",
   "mimetype": "text/x-python",
   "name": "python",
   "nbconvert_exporter": "python",
   "pygments_lexer": "ipython3",
   "version": "3.9.2"
  }
 },
 "nbformat": 4,
 "nbformat_minor": 2
}
