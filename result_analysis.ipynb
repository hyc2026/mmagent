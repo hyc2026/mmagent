{
 "cells": [
  {
   "cell_type": "code",
   "execution_count": null,
   "metadata": {},
   "outputs": [],
   "source": [
    "import json\n",
    "import os\n",
    "from prompts import *\n",
    "from utils.chat_api import *"
   ]
  },
  {
   "cell_type": "code",
   "execution_count": null,
   "metadata": {},
   "outputs": [],
   "source": [
    "def verify_qa_list(qa_list, dataset_with_agent_answer_verified):\n",
    "    bs = 100\n",
    "    try:\n",
    "        with open(dataset_with_agent_answer_verified, \"r\") as f:\n",
    "            sample_count = len(f.readlines())\n",
    "    except Exception as e:\n",
    "        print(f\"Error reading dataset_with_agent_answer_verified: {dataset_with_agent_answer_verified}\")\n",
    "        print(e)\n",
    "        sample_count = 0\n",
    "    for i in range(sample_count, len(qa_list), bs):\n",
    "        qa_list_batch = qa_list[i:i+bs]\n",
    "        inputs = [\n",
    "            [\n",
    "                {\n",
    "                    \"type\": \"text\",\n",
    "                    \"content\": json.dumps({\n",
    "                        \"question\": qa[\"question\"],\n",
    "                        \"ground_truth_answer\": qa[\"answer\"],\n",
    "                        \"agent_answer\": qa[\"agent_answer\"],\n",
    "                    }),\n",
    "                },\n",
    "                {\n",
    "                    \"type\": \"text\",\n",
    "                    \"content\": prompt_agent_verify_answer,\n",
    "                },\n",
    "                {\n",
    "                    \"type\": \"text\",\n",
    "                    \"content\": \"Now answer if the answer from the baseline is correct or not:\",\n",
    "                },            \n",
    "            ] for qa in qa_list_batch\n",
    "        ]\n",
    "        messages = [generate_messages(input) for input in inputs]\n",
    "        model = \"gpt-4o-2024-08-06\"\n",
    "        responses = parallel_get_response(model, messages)\n",
    "\n",
    "        verify_results = responses[0]\n",
    "        for qa, verify_result in zip(qa_list_batch, verify_results):\n",
    "            qa[\"verify_result\"] = verify_result\n",
    "        \n",
    "        with open(dataset_with_agent_answer_verified, \"a\") as f:\n",
    "            for qa in qa_list_batch:\n",
    "                f.write(json.dumps(qa) + \"\\n\")"
   ]
  },
  {
   "cell_type": "code",
   "execution_count": null,
   "metadata": {},
   "outputs": [],
   "source": [
    "qa_list = []\n",
    "dataset_with_agent_answer = \"data/annotations/results/0416/baseline_blindly_answers.jsonl\"\n",
    "dataset_with_agent_answer_verified = \"data/annotations/results/0416/baseline_blindly_answers_verified.jsonl\"\n",
    "\n",
    "with open(dataset_with_agent_answer, \"r\") as f:\n",
    "    for line in f:\n",
    "        qa = json.loads(line)\n",
    "        qa_list.append(qa)\n",
    "\n",
    "qa_list = verify_qa_list(qa_list, dataset_with_agent_answer_verified)"
   ]
  },
  {
   "cell_type": "code",
   "execution_count": 7,
   "metadata": {},
   "outputs": [
    {
     "name": "stdout",
     "output_type": "stream",
     "text": [
      "Accuracy: 0.22420634920634921\n"
     ]
    }
   ],
   "source": [
    "# calculate accuracy\n",
    "dataset_with_agent_answer_verified = \"data/annotations/results/0416/baseline_blindly_answers_verified.jsonl\"\n",
    "total = 0\n",
    "correct = 0\n",
    "\n",
    "with open(dataset_with_agent_answer_verified, \"r\") as f:\n",
    "    for line in f:\n",
    "        qa = json.loads(line)\n",
    "        total += 1\n",
    "        if qa[\"verify_result\"].lower().startswith(\"yes\"):\n",
    "            correct += 1\n",
    "\n",
    "print(f\"Accuracy: {correct / total}\")"
   ]
  },
  {
   "cell_type": "code",
   "execution_count": 23,
   "metadata": {},
   "outputs": [
    {
     "name": "stdout",
     "output_type": "stream",
     "text": [
      "113\n",
      "Pass@1: 0.7168141592920354\n"
     ]
    }
   ],
   "source": [
    "# calculate pass@k\n",
    "k = 1\n",
    "\n",
    "filtered_questions = []\n",
    "with open(\"data/annotations/results/0416/baseline_blindly_answers_verified.jsonl\", \"r\") as f:\n",
    "    for line in f:\n",
    "        sample = json.loads(line)\n",
    "        if sample[\"verify_result\"].lower().startswith(\"yes\"):\n",
    "            filtered_questions.append(sample[\"question\"])\n",
    "\n",
    "print(len(filtered_questions))\n",
    "\n",
    "dataset_with_agent_answer_verified = (\n",
    "    \"data/annotations/results/0415/small_test_with_agent_answer_verified_{round}.jsonl\"\n",
    ")\n",
    "\n",
    "results = [dataset_with_agent_answer_verified.format(round=i) for i in range(k)]\n",
    "result_files = [open(result, \"r\") for result in results]\n",
    "\n",
    "total = 0\n",
    "correct = 0\n",
    "\n",
    "# Read all QA pairs line by line across k files\n",
    "while True:\n",
    "    qa_attempts = []\n",
    "    # Try to read next line from each file\n",
    "    for f in result_files:\n",
    "        line = f.readline()\n",
    "        if line:\n",
    "            qa = json.loads(line)\n",
    "            question = qa[\"question\"]\n",
    "            qa_attempts.append(qa[\"verify_result\"].lower().startswith(\"yes\"))\n",
    "\n",
    "    # If we've reached end of files, break\n",
    "    if not qa_attempts:\n",
    "        break\n",
    "\n",
    "    # Count as correct if any attempt was successful\n",
    "    if question in filtered_questions:\n",
    "        total += 1\n",
    "        if any(qa_attempts):\n",
    "            correct += 1\n",
    "\n",
    "# Close all files\n",
    "for f in result_files:\n",
    "    f.close()\n",
    "\n",
    "print(f\"Pass@{k}: {correct / total}\")"
   ]
  },
  {
   "cell_type": "code",
   "execution_count": 24,
   "metadata": {},
   "outputs": [
    {
     "name": "stdout",
     "output_type": "stream",
     "text": [
      "0.8230088495575221\n"
     ]
    }
   ],
   "source": [
    "with open(\"data/annotations/results/0416/gemini_eval.json\", \"r\") as f:\n",
    "    videos = json.load(f)\n",
    "\n",
    "total = 0\n",
    "correct = 0\n",
    "\n",
    "for video in videos[\"video_results\"]:\n",
    "    qas = video[\"qa_results\"]\n",
    "    for qa in qas:\n",
    "        if qa[\"question\"] in filtered_questions:\n",
    "            total += 1\n",
    "            if qa[\"is_correct\"]:\n",
    "                correct += 1\n",
    "\n",
    "print(correct/total)"
   ]
  },
  {
   "cell_type": "code",
   "execution_count": null,
   "metadata": {},
   "outputs": [],
   "source": []
  }
 ],
 "metadata": {
  "kernelspec": {
   "display_name": "vlm_agent",
   "language": "python",
   "name": "python3"
  },
  "language_info": {
   "codemirror_mode": {
    "name": "ipython",
    "version": 3
   },
   "file_extension": ".py",
   "mimetype": "text/x-python",
   "name": "python",
   "nbconvert_exporter": "python",
   "pygments_lexer": "ipython3",
   "version": "3.9.2"
  }
 },
 "nbformat": 4,
 "nbformat_minor": 2
}
