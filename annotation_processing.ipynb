{
 "cells": [
  {
   "cell_type": "code",
   "execution_count": 2,
   "metadata": {},
   "outputs": [
    {
     "name": "stdout",
     "output_type": "stream",
     "text": [
      "50\n",
      "{'video_id': 'CZ_2_1', 'video_url': 'https://www.youtube.com/watch?v=PnvZZwlN2yk', 'video_duration': '29:04', 'video_type': '综艺 - 游戏', 'qa_list': [{'question': 'Is Stewart Thompson a person who pursues a high-quality life?', 'answer': 'Yes.', 'question_type': '多线索推理,人物属性建模', 'knowledge': None, 'reasoning': '从Stewart讲述自己旅行方式倾向于商务舱可以判断。'}, {'question': 'What decade of age is J.F. Harris approximately in?', 'answer': 'He is approximately in his forties.', 'question_type': '多线索推理,人物属性建模', 'knowledge': None, 'reasoning': 'J.F. Harris提到过自己2003年曾经在芝加哥，后来又说20岁左右在芝加哥，综合推理得知现在J.F. Harris现在大概四十多岁。'}, {'question': 'Who had a different opinion from the others when voting out the person who was not a millionaire in the first round?', 'answer': 'Aaron.', 'question_type': '多跳推理,多模态/多语言推理', 'knowledge': None, 'reasoning': '首先需要定位到第一轮投票这个片段，再结合视觉听觉对五个人的发言判断。'}, {'question': 'What economic conditions do the families of children who have a trust fund usually come from?', 'answer': 'The family possesses substantial family wealth.', 'question_type': '通用知识推理', 'knowledge': 'Tori claimed that she had a trust fund and still worked hard, but she was suspected of not being a millionaire. ', 'reasoning': 'Tori称自己有trust fund，并且拥有自己的事业努力工作，其中一位主持人不相信，表示自己没见过有trust fund的孩子还努力工作的，说明拥有trust fund的孩子的家庭一般都拥有巨大财富。'}, {'question': \"Is Ralph's a chain grocery store or an individually-operated grocery store? \", 'answer': 'A chain grocery store.', 'question_type': '通用知识推理', 'knowledge': \"Tori said that she liked going to Ralph's because it could be found everywhere. \", 'reasoning': \"在主持人问Tori平常多久去一次grocery花费多少钱的时候，Tori说自己喜欢去Ralph's，因为它到处都有，配送费很高，说明Ralph's是一家连锁超市。\"}]}\n"
     ]
    }
   ],
   "source": [
    "import pandas as pd\n",
    "import numpy as np\n",
    "import json\n",
    "\n",
    "marker = \"CZ_2\"\n",
    "csv_path = \"/Users/bytedance/Documents/code/data/【网络视频 - CZ】交付-验收数据 - 第二批 50条 3.12（打回重标）.csv\"\n",
    "\n",
    "df = pd.read_csv(csv_path)\n",
    "# modify the column name\n",
    "for col in df.columns:\n",
    "    df = df.rename(columns={col: col.strip().strip(\"\\\\n\")})\n",
    "\n",
    "# replace nan with None\n",
    "df = df.replace(np.nan, None)\n",
    "\n",
    "video = None\n",
    "video_list = []\n",
    "\n",
    "for row in df.iterrows():\n",
    "    row = row[1]\n",
    "    if row[\"视频序号\"]:\n",
    "        if video:\n",
    "            video_list.append(video)\n",
    "        video = {}\n",
    "        video[\"video_id\"] = marker + \"_\" + str(int(row[\"视频序号\"]))\n",
    "        video[\"video_url\"] = row[\"视频_url\"]\n",
    "        video[\"video_duration\"] = row[\"视频长度（min）\"]\n",
    "        video[\"video_type\"] = row[\"视频类型\"]\n",
    "        video[\"qa_list\"] = []\n",
    "    qa = {\n",
    "        \"question\": row[\"问题\"],\n",
    "        \"answer\": row[\"答案\"],\n",
    "        \"question_type\": row[\"问题类型\"],\n",
    "        \"knowledge\": row[\"若涉及通用知识推理，则写出推理步骤（知识点）\"],\n",
    "        \"reasoning\": row[\"依据（解题思路）\"],\n",
    "    }\n",
    "    video[\"qa_list\"].append(qa)\n",
    "\n",
    "video_list.append(video)\n",
    "\n",
    "print(len(video_list))\n",
    "print(video_list[0])\n",
    "\n",
    "# save the video_list to a json file\n",
    "with open(f\"data/annotations/{marker}.json\", \"w\") as f:\n",
    "    json.dump(video_list, f, ensure_ascii=False, indent=4)"
   ]
  },
  {
   "cell_type": "code",
   "execution_count": null,
   "metadata": {},
   "outputs": [],
   "source": [
    "annotaions_path = \"data/annotations/CZ_2.json\"\n",
    "marker = annotaions_path.split(\"/\")[-1].split(\".\")[0]\n",
    "with open(annotaions_path, \"r\") as f:\n",
    "    data = json.load(f)\n",
    "\n",
    "count = 0\n",
    "\n",
    "for video in data:\n",
    "    url = video[\"video_url\"]\n",
    "    if not url.startswith(\"https://www.youtube.com/\"):\n",
    "        count += 1\n",
    "        with open(f\"data/annotations/{marker}_error_video_url.txt\", \"a\") as f:\n",
    "            f.write(url + \"\\n\")\n",
    "\n",
    "print(f\"Total error video urls: {count}\")"
   ]
  },
  {
   "cell_type": "code",
   "execution_count": null,
   "metadata": {},
   "outputs": [],
   "source": []
  }
 ],
 "metadata": {
  "kernelspec": {
   "display_name": "vlm_agent",
   "language": "python",
   "name": "python3"
  },
  "language_info": {
   "codemirror_mode": {
    "name": "ipython",
    "version": 3
   },
   "file_extension": ".py",
   "mimetype": "text/x-python",
   "name": "python",
   "nbconvert_exporter": "python",
   "pygments_lexer": "ipython3",
   "version": "3.11.11"
  }
 },
 "nbformat": 4,
 "nbformat_minor": 2
}
