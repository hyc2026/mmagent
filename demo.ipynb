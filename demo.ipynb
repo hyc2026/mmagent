{
 "cells": [
  {
   "cell_type": "code",
   "execution_count": 4,
   "metadata": {},
   "outputs": [],
   "source": [
    "import numpy as np\n",
    "from tqdm import tqdm\n",
    "import os\n",
    "import json\n",
    "\n",
    "from videograph import VideoGraph\n",
    "from utils.general import *\n",
    "from utils.video_processing import *\n",
    "from utils.chat_api import *\n",
    "from prompts import *\n",
    "\n",
    "from face_processing import process_faces\n",
    "from voice_processing import process_voices\n",
    "from memory_processing import (\n",
    "    process_captions,\n",
    "    generate_captions_and_thinkings_with_ids,\n",
    ")\n",
    "from retrieve import answer_with_retrieval\n",
    "\n",
    "processing_config = json.load(open(\"configs/processing_config.json\"))\n",
    "memory_config = json.load(open(\"configs/memory_config.json\"))"
   ]
  },
  {
   "cell_type": "code",
   "execution_count": 5,
   "metadata": {},
   "outputs": [],
   "source": [
    "def process_segment(video_graph, base64_video, base64_frames, base64_audio):\n",
    "\n",
    "    id2voices = process_voices(video_graph, base64_audio, base64_video)\n",
    "    print(\"Finish processing voices\")\n",
    "\n",
    "    print(f\"processing {len(base64_frames)} frames...\")\n",
    "\n",
    "    id2faces = process_faces(video_graph, base64_frames)\n",
    "    # print(id2faces.keys())\n",
    "    print(\"Finish processing faces\")\n",
    "\n",
    "    episodic_captions, semantic_captions = generate_captions_and_thinkings_with_ids(\n",
    "        video_graph,\n",
    "        base64_video,\n",
    "        base64_frames,\n",
    "        base64_audio,\n",
    "        id2faces,\n",
    "        id2voices,\n",
    "    )\n",
    "\n",
    "    process_captions(video_graph, episodic_captions, type=\"episodic\")\n",
    "    process_captions(video_graph, semantic_captions, type=\"semantic\")\n",
    "\n",
    "    print(\"Finish processing segment\")\n",
    "\n",
    "\n",
    "def streaming_process_video(\n",
    "    video_graph, video_path, interval_seconds, fps, segment_limit=None\n",
    "):\n",
    "    \"\"\"Process video segments at specified intervals with given fps.\n",
    "\n",
    "    Args:\n",
    "        video_graph (VideoGraph): Graph object to store video information\n",
    "        video_path (str): Path to the video file or directory containing clips\n",
    "        interval_seconds (float): Time interval between segments in seconds\n",
    "        fps (float): Frames per second to extract from each segment\n",
    "\n",
    "    Returns:\n",
    "        None: Updates video_graph in place with processed segments\n",
    "    \"\"\"\n",
    "    if os.path.isfile(video_path):\n",
    "        # Process single video file\n",
    "        video_info = get_video_info(video_path)\n",
    "        print(video_info)\n",
    "\n",
    "        # Process each interval\n",
    "        count = 0\n",
    "        for start_time in np.arange(0, video_info[\"duration\"], interval_seconds):\n",
    "            if start_time + interval_seconds > video_info[\"duration\"]:\n",
    "                break\n",
    "\n",
    "            print(\"=\" * 20)\n",
    "            count += 1\n",
    "\n",
    "            print(f\"Loading {count}-th clip starting at {start_time} seconds...\")\n",
    "            base64_video, base64_frames, base64_audio = process_video_clip(\n",
    "                video_path, start_time, interval_seconds, fps, audio_format=\"wav\"\n",
    "            )\n",
    "\n",
    "            # check dtype\n",
    "            # print(type(base64_video), type(base64_frames[0]), type(base64_audio))\n",
    "\n",
    "            # Process frames for this interval\n",
    "            if base64_frames:\n",
    "                print(\n",
    "                    f\"Starting processing {count}-th clip starting at {start_time} seconds...\"\n",
    "                )\n",
    "                process_segment(\n",
    "                    video_graph,\n",
    "                    base64_video,\n",
    "                    base64_frames,\n",
    "                    base64_audio,\n",
    "                )\n",
    "\n",
    "            if segment_limit is not None and count >= segment_limit:\n",
    "                break\n",
    "\n",
    "    elif os.path.isdir(video_path):\n",
    "        # Process directory of numbered clips\n",
    "        files = os.listdir(video_path)\n",
    "        # Filter for video files and sort by numeric value in filename\n",
    "        video_files = [\n",
    "            f for f in files if any(f.endswith(ext) for ext in [\".mp4\", \".avi\", \".mov\"])\n",
    "        ]\n",
    "        video_files.sort(key=lambda x: int(\"\".join(filter(str.isdigit, x))))\n",
    "\n",
    "        for count, video_file in enumerate(video_files, 1):\n",
    "            print(\"=\" * 20)\n",
    "            full_path = os.path.join(video_path, video_file)\n",
    "            print(f\"Processing clip {count}: {full_path}\")\n",
    "\n",
    "            base64_video, base64_frames, base64_audio = process_video_clip(\n",
    "                full_path, 0, None, fps, audio_format=\"wav\"\n",
    "            )\n",
    "\n",
    "            if base64_frames:\n",
    "                process_segment(\n",
    "                    video_graph,\n",
    "                    base64_video,\n",
    "                    base64_frames,\n",
    "                    base64_audio,\n",
    "                )\n",
    "\n",
    "            if segment_limit is not None and count >= segment_limit:\n",
    "                break"
   ]
  },
  {
   "cell_type": "code",
   "execution_count": 6,
   "metadata": {},
   "outputs": [
    {
     "name": "stdout",
     "output_type": "stream",
     "text": [
      "====================\n",
      "Processing clip 1: data/videos/clipped/5 Poor People vs 1 Secret Millionaire/1.mp4\n",
      "{'video_found': True, 'audio_found': True, 'metadata': {'major_brand': 'isom', 'minor_version': '512', 'compatible_brands': 'isomiso2avc1mp41', 'encoder': 'Lavf61.1.100'}, 'inputs': [{'streams': [{'input_number': 0, 'stream_number': 0, 'stream_type': 'video', 'language': None, 'default': True, 'size': [1280, 720], 'bitrate': 1044, 'fps': 23.976023976023978, 'codec_name': 'h264', 'profile': '(High)', 'metadata': {'Metadata': '', 'handler_name': 'VideoHandler', 'vendor_id': '[0][0][0][0]', 'encoder': 'Lavc61.3.100 libx264'}}, {'input_number': 0, 'stream_number': 1, 'stream_type': 'audio', 'language': None, 'default': True, 'fps': 44100, 'bitrate': 129, 'metadata': {'Metadata': '', 'handler_name': 'SoundHandler', 'vendor_id': '[0][0][0][0]'}}], 'input_number': 0}], 'duration': 30.0, 'bitrate': 1179, 'start': 0.0, 'default_video_input_number': 0, 'default_video_stream_number': 0, 'video_codec_name': 'h264', 'video_profile': '(High)', 'video_size': [1280, 720], 'video_bitrate': 1044, 'video_fps': 23.976023976023978, 'default_audio_input_number': 0, 'default_audio_stream_number': 1, 'audio_fps': 44100, 'audio_bitrate': 129, 'video_duration': 30.0, 'video_n_frames': 719}\n",
      "/usr/local/lib/python3.9/dist-packages/imageio_ffmpeg/binaries/ffmpeg-linux-x86_64-v7.0.2 -i data/videos/clipped/5 Poor People vs 1 Secret Millionaire/1.mp4 -loglevel error -f image2pipe -vf scale=1280:720 -sws_flags bicubic -pix_fmt rgb24 -vcodec rawvideo -\n",
      "{'video_found': True, 'audio_found': True, 'metadata': {'major_brand': 'isom', 'minor_version': '512', 'compatible_brands': 'isomiso2avc1mp41', 'encoder': 'Lavf61.1.100'}, 'inputs': [{'streams': [{'input_number': 0, 'stream_number': 0, 'stream_type': 'video', 'language': None, 'default': True, 'size': [1280, 720], 'bitrate': 1044, 'fps': 23.976023976023978, 'codec_name': 'h264', 'profile': '(High)', 'metadata': {'Metadata': '', 'handler_name': 'VideoHandler', 'vendor_id': '[0][0][0][0]', 'encoder': 'Lavc61.3.100 libx264'}}, {'input_number': 0, 'stream_number': 1, 'stream_type': 'audio', 'language': None, 'default': True, 'fps': 44100, 'bitrate': 129, 'metadata': {'Metadata': '', 'handler_name': 'SoundHandler', 'vendor_id': '[0][0][0][0]'}}], 'input_number': 0}], 'duration': 30.0, 'bitrate': 1179, 'start': 0.0, 'default_video_input_number': 0, 'default_video_stream_number': 0, 'video_codec_name': 'h264', 'video_profile': '(High)', 'video_size': [1280, 720], 'video_bitrate': 1044, 'video_fps': 23.976023976023978, 'default_audio_input_number': 0, 'default_audio_stream_number': 1, 'audio_fps': 44100, 'audio_bitrate': 129, 'video_duration': 30.0, 'video_n_frames': 719}\n",
      "/usr/local/lib/python3.9/dist-packages/imageio_ffmpeg/binaries/ffmpeg-linux-x86_64-v7.0.2 -i data/videos/clipped/5 Poor People vs 1 Secret Millionaire/1.mp4 -loglevel error -f image2pipe -vf scale=1280:720 -sws_flags bicubic -pix_fmt rgb24 -vcodec rawvideo -\n",
      "Diarizing audio 0 times\n"
     ]
    },
    {
     "name": "stderr",
     "output_type": "stream",
     "text": [
      "2025-03-31 09:34:22,366 - httpx - INFO - HTTP Request: POST https://search-va.byteintl.net/gpt/openapi/online/multimodal/crawl/openai/deployments/gemini-1.5-pro-002/chat/completions?api-version=2024-03-01-preview \"HTTP/1.1 200 OK\"\n"
     ]
    },
    {
     "name": "stdout",
     "output_type": "stream",
     "text": [
      "Voice node added with ID 0\n",
      "Voice node added with ID 1\n",
      "Voice node added with ID 2\n",
      "Voice node added with ID 3\n",
      "Node 3 updated with 1 embeddings\n",
      "Node 0 updated with 1 embeddings\n",
      "Finish processing voices\n",
      "processing 150 frames...\n"
     ]
    },
    {
     "name": "stderr",
     "output_type": "stream",
     "text": [
      "100%|██████████| 38/38 [00:10<00:00,  3.53it/s]\n"
     ]
    },
    {
     "name": "stdout",
     "output_type": "stream",
     "text": [
      "Image node added with ID 4\n",
      "Image node added with ID 5\n",
      "Image node added with ID 6\n",
      "Image node added with ID 7\n",
      "Image node added with ID 8\n",
      "Image node added with ID 9\n",
      "Image node added with ID 10\n",
      "Image node added with ID 11\n",
      "Finish processing faces\n",
      "8 faces detected\n",
      "Generating captions 0 times\n"
     ]
    },
    {
     "name": "stderr",
     "output_type": "stream",
     "text": [
      "2025-03-31 09:34:43,724 - httpx - INFO - HTTP Request: POST https://search-va.byteintl.net/gpt/openapi/online/multimodal/crawl/openai/deployments/gemini-1.5-pro-002/chat/completions?api-version=2024-03-01-preview \"HTTP/1.1 200 OK\"\n"
     ]
    },
    {
     "name": "stdout",
     "output_type": "stream",
     "text": [
      "Generating thinkings 0 times\n"
     ]
    },
    {
     "name": "stderr",
     "output_type": "stream",
     "text": [
      "2025-03-31 09:34:50,588 - httpx - INFO - HTTP Request: POST https://search-va.byteintl.net/gpt/openapi/online/multimodal/crawl/openai/deployments/gemini-1.5-pro-002/chat/completions?api-version=2024-03-01-preview \"HTTP/1.1 200 OK\"\n"
     ]
    },
    {
     "name": "stdout",
     "output_type": "stream",
     "text": [
      "Text node of type episodic added with ID 12 and contents: [\"In a brightly lit studio setting, four individuals, <face_4>, <face_7>, <face_6>, and <face_5>, are seated at a black table covered with a black tablecloth. They face five other individuals, <face_10>, <face_8>, <face_9>, <face_11>. On the table, there's an 'ON AIR' sign, water bottles, paper cups, markers, and paper.\"]\n",
      "Edge added between 12 and 4\n",
      "Edge added between 12 and 7\n",
      "Edge added between 12 and 6\n",
      "Edge added between 12 and 5\n",
      "Edge added between 12 and 10\n",
      "Edge added between 12 and 8\n",
      "Edge added between 12 and 9\n",
      "Edge added between 12 and 11\n",
      "Text node of type episodic added with ID 13 and contents: ['<voice_0> introduces the individuals seated at the table as Denny, Herm, Aaron, and JC, and then introduces the other five, stating that they claim to be millionaires but only one actually is.']\n",
      "Edge added between 13 and 0\n",
      "Text node of type episodic added with ID 14 and contents: ['<face_10> wears a black bomber jacket with a plaid shirt underneath and jeans. <face_8> wears a purple velvet blazer and black pants. <face_9> wears a white long-sleeved shirt and khaki pants. <face_11> wears a blue button-down shirt, gray pants, and a camo jacket. All individuals are standing and facing the seated commentators.']\n",
      "Edge added between 14 and 10\n",
      "Edge added between 14 and 8\n",
      "Edge added between 14 and 9\n",
      "Edge added between 14 and 11\n",
      "Text node of type episodic added with ID 15 and contents: [\"<face_4> addresses the group, stating that the first person he speaks to is 'broke,' and <face_10> responds with laughter. <face_6>, wearing a blue jacket, gestures to <face_10>, prompting laughter from some of the individuals at the table.\"]\n",
      "Edge added between 15 and 4\n",
      "Edge added between 15 and 10\n",
      "Edge added between 15 and 6\n",
      "Edge added between 15 and 10\n",
      "Text node of type episodic added with ID 16 and contents: [\"<face_4> later comments on <face_11>'s shoes, observing that they are 'elite.' <face_11> is wearing black loafers.\"]\n",
      "Edge added between 16 and 4\n",
      "Edge added between 16 and 11\n",
      "Edge added between 16 and 11\n",
      "Text node of type episodic added with ID 17 and contents: ['<face_4> comments that a white man not wearing socks indicates he is very comfortable.']\n",
      "Edge added between 17 and 4\n",
      "Text node of type semantic added with ID 18 and contents: ['Equivalence: <face_4>, <voice_3>']\n",
      "Edge added between 18 and 4\n",
      "Edge added between 18 and 3\n",
      "Text node of type semantic added with ID 19 and contents: ['Equivalence: <face_10>, <voice_1>']\n",
      "Edge added between 19 and 10\n",
      "Edge added between 19 and 1\n",
      "Text node of type semantic added with ID 20 and contents: [\"<face_4> is perceptive and observant, as demonstrated by his comment about <face_11>'s shoes and the lack of socks.\"]\n",
      "Edge added between 20 and 4\n",
      "Edge added between 20 and 11\n",
      "Text node of type semantic added with ID 21 and contents: ['<face_4> may be fashion-conscious, given his attention to footwear details.']\n",
      "Edge added between 21 and 4\n",
      "Text node of type semantic added with ID 22 and contents: [\"<face_10> has a good sense of humor, indicated by his laughter at <face_4>'s comments.\"]\n",
      "Edge added between 22 and 10\n",
      "Edge added between 22 and 4\n",
      "Text node of type semantic added with ID 23 and contents: ['<face_11> appears to be confident and comfortable in his own skin, suggested by his choice to not wear socks with loafers.']\n",
      "Edge added between 23 and 11\n",
      "Text node of type semantic added with ID 24 and contents: [\"<face_11> might be wealthy or value high-quality footwear, given <face_4>'s comment about 'elite' shoes.\"]\n",
      "Edge added between 24 and 11\n",
      "Edge added between 24 and 4\n",
      "Finish processing segment\n",
      "====================\n",
      "Processing clip 2: data/videos/clipped/5 Poor People vs 1 Secret Millionaire/2.mp4\n",
      "{'video_found': True, 'audio_found': True, 'metadata': {'major_brand': 'isom', 'minor_version': '512', 'compatible_brands': 'isomiso2avc1mp41', 'encoder': 'Lavf61.1.100'}, 'inputs': [{'streams': [{'input_number': 0, 'stream_number': 0, 'stream_type': 'video', 'language': None, 'default': True, 'size': [1280, 720], 'bitrate': 769, 'fps': 23.976023976023978, 'codec_name': 'h264', 'profile': '(High)', 'metadata': {'Metadata': '', 'handler_name': 'VideoHandler', 'vendor_id': '[0][0][0][0]', 'encoder': 'Lavc61.3.100 libx264'}}, {'input_number': 0, 'stream_number': 1, 'stream_type': 'audio', 'language': None, 'default': True, 'fps': 44100, 'bitrate': 128, 'metadata': {'Metadata': '', 'handler_name': 'SoundHandler', 'vendor_id': '[0][0][0][0]'}}], 'input_number': 0}], 'duration': 30.0, 'bitrate': 904, 'start': 0.0, 'default_video_input_number': 0, 'default_video_stream_number': 0, 'video_codec_name': 'h264', 'video_profile': '(High)', 'video_size': [1280, 720], 'video_bitrate': 769, 'video_fps': 23.976023976023978, 'default_audio_input_number': 0, 'default_audio_stream_number': 1, 'audio_fps': 44100, 'audio_bitrate': 128, 'video_duration': 30.0, 'video_n_frames': 719}\n",
      "/usr/local/lib/python3.9/dist-packages/imageio_ffmpeg/binaries/ffmpeg-linux-x86_64-v7.0.2 -i data/videos/clipped/5 Poor People vs 1 Secret Millionaire/2.mp4 -loglevel error -f image2pipe -vf scale=1280:720 -sws_flags bicubic -pix_fmt rgb24 -vcodec rawvideo -\n",
      "{'video_found': True, 'audio_found': True, 'metadata': {'major_brand': 'isom', 'minor_version': '512', 'compatible_brands': 'isomiso2avc1mp41', 'encoder': 'Lavf61.1.100'}, 'inputs': [{'streams': [{'input_number': 0, 'stream_number': 0, 'stream_type': 'video', 'language': None, 'default': True, 'size': [1280, 720], 'bitrate': 769, 'fps': 23.976023976023978, 'codec_name': 'h264', 'profile': '(High)', 'metadata': {'Metadata': '', 'handler_name': 'VideoHandler', 'vendor_id': '[0][0][0][0]', 'encoder': 'Lavc61.3.100 libx264'}}, {'input_number': 0, 'stream_number': 1, 'stream_type': 'audio', 'language': None, 'default': True, 'fps': 44100, 'bitrate': 128, 'metadata': {'Metadata': '', 'handler_name': 'SoundHandler', 'vendor_id': '[0][0][0][0]'}}], 'input_number': 0}], 'duration': 30.0, 'bitrate': 904, 'start': 0.0, 'default_video_input_number': 0, 'default_video_stream_number': 0, 'video_codec_name': 'h264', 'video_profile': '(High)', 'video_size': [1280, 720], 'video_bitrate': 769, 'video_fps': 23.976023976023978, 'default_audio_input_number': 0, 'default_audio_stream_number': 1, 'audio_fps': 44100, 'audio_bitrate': 128, 'video_duration': 30.0, 'video_n_frames': 719}\n",
      "/usr/local/lib/python3.9/dist-packages/imageio_ffmpeg/binaries/ffmpeg-linux-x86_64-v7.0.2 -i data/videos/clipped/5 Poor People vs 1 Secret Millionaire/2.mp4 -loglevel error -f image2pipe -vf scale=1280:720 -sws_flags bicubic -pix_fmt rgb24 -vcodec rawvideo -\n",
      "Diarizing audio 0 times\n"
     ]
    },
    {
     "name": "stderr",
     "output_type": "stream",
     "text": [
      "2025-03-31 09:35:05,867 - httpx - INFO - HTTP Request: POST https://search-va.byteintl.net/gpt/openapi/online/multimodal/crawl/openai/deployments/gemini-1.5-pro-002/chat/completions?api-version=2024-03-01-preview \"HTTP/1.1 200 OK\"\n"
     ]
    },
    {
     "name": "stdout",
     "output_type": "stream",
     "text": [
      "Voice node added with ID 25\n",
      "Node 3 updated with 1 embeddings\n",
      "Node 25 updated with 1 embeddings\n",
      "Node 25 updated with 1 embeddings\n",
      "Node 0 updated with 1 embeddings\n",
      "Node 0 updated with 1 embeddings\n",
      "Node 0 updated with 1 embeddings\n",
      "Finish processing voices\n",
      "processing 150 frames...\n"
     ]
    },
    {
     "name": "stderr",
     "output_type": "stream",
     "text": [
      "100%|██████████| 38/38 [00:13<00:00,  2.86it/s]\n"
     ]
    },
    {
     "name": "stdout",
     "output_type": "stream",
     "text": [
      "Node 11 updated with 3 embeddings\n",
      "Node 7 updated with 3 embeddings\n",
      "Node 5 updated with 3 embeddings\n",
      "Node 6 updated with 3 embeddings\n",
      "Node 4 updated with 3 embeddings\n",
      "Image node added with ID 26\n",
      "Node 10 updated with 3 embeddings\n",
      "Node 9 updated with 3 embeddings\n",
      "Finish processing faces\n",
      "8 faces detected\n",
      "Generating captions 0 times\n"
     ]
    },
    {
     "name": "stderr",
     "output_type": "stream",
     "text": [
      "2025-03-31 09:35:32,315 - httpx - INFO - HTTP Request: POST https://search-va.byteintl.net/gpt/openapi/online/multimodal/crawl/openai/deployments/gemini-1.5-pro-002/chat/completions?api-version=2024-03-01-preview \"HTTP/1.1 200 OK\"\n"
     ]
    },
    {
     "name": "stdout",
     "output_type": "stream",
     "text": [
      "Generating thinkings 0 times\n"
     ]
    },
    {
     "name": "stderr",
     "output_type": "stream",
     "text": [
      "2025-03-31 09:35:37,661 - httpx - INFO - HTTP Request: POST https://search-va.byteintl.net/gpt/openapi/online/multimodal/crawl/openai/deployments/gemini-1.5-pro-002/chat/completions?api-version=2024-03-01-preview \"HTTP/1.1 200 OK\"\n"
     ]
    },
    {
     "name": "stdout",
     "output_type": "stream",
     "text": [
      "Text node of type episodic added with ID 27 and contents: [\"In a studio setting, four commentators, <face_7>, <face_26>, <face_4>, and <face_5>, sit at a table facing five individuals, <face_10>, <face_8>, <face_9>, <face_11>, and <face_12>. The table has an 'ON AIR' sign, water bottles, and note-taking materials. <face_7> wears a black hoodie. <face_26> wears a dark blue Drexel hoodie and glasses. <face_4> wears a baseball-style shirt. <face_5> wears a white t-shirt with tattoos on his arms.\"]\n",
      "Edge added between 27 and 7\n",
      "Edge added between 27 and 26\n",
      "Edge added between 27 and 4\n",
      "Edge added between 27 and 5\n",
      "Edge added between 27 and 10\n",
      "Edge added between 27 and 8\n",
      "Edge added between 27 and 9\n",
      "Edge added between 27 and 11\n",
      "Edge added between 27 and 7\n",
      "Edge added between 27 and 26\n",
      "Edge added between 27 and 4\n",
      "Edge added between 27 and 5\n",
      "Text node of type episodic added with ID 28 and contents: ['<face_10> is wearing a black bomber jacket, plaid shirt, and jeans. <face_8>, a woman, wears a purple velvet blazer over a sparkly crop top, and black pants. <face_9> wears a white long-sleeved shirt and khaki pants. <face_11> wears a blue button-down shirt, gray pants, and a camo jacket. <face_12> wears an orange baseball cap.']\n",
      "Edge added between 28 and 10\n",
      "Edge added between 28 and 8\n",
      "Edge added between 28 and 9\n",
      "Edge added between 28 and 11\n",
      "Text node of type episodic added with ID 29 and contents: ['<voice_25> discusses <face_11>’s shoes, mentioning penny loafers and commenting on <face_11>’s supposed wealth. <voice_25> also questions how <face_11> acquired their outfit, and describes the attire of presumed millionaires. <voice_3> remarks on what millionaires choose to wear.']\n",
      "Edge added between 29 and 25\n",
      "Edge added between 29 and 11\n",
      "Edge added between 29 and 11\n",
      "Edge added between 29 and 25\n",
      "Edge added between 29 and 11\n",
      "Edge added between 29 and 3\n",
      "Text node of type episodic added with ID 30 and contents: [\"<voice_0> states that one of the five individuals standing is a millionaire and the commentators are trying to determine who. <voice_0> states their belief that <face_11> looks 'too well put together,' and is 'pretending' to have money.  <voice_0> comments on <face_8>'s appearance, calling her beautiful.\"]\n",
      "Edge added between 30 and 0\n",
      "Edge added between 30 and 0\n",
      "Edge added between 30 and 11\n",
      "Edge added between 30 and 0\n",
      "Edge added between 30 and 8\n",
      "Text node of type episodic added with ID 31 and contents: ['<face_26> gestures with his hands while talking, engaging in the discussion with the other commentators. <face_7> listens intently and speaks. <face_4> leans in, actively participating. <face_5> smiles and watches the others. The individuals they are commenting on, <face_10> through <face_12>, stand passively and react with occasional laughter or smiles to the commentary.']\n",
      "Edge added between 31 and 26\n",
      "Edge added between 31 and 7\n",
      "Edge added between 31 and 4\n",
      "Edge added between 31 and 5\n",
      "Edge added between 31 and 10\n",
      "Text node of type semantic added with ID 32 and contents: ['Equivalence: <face_7>, <voice_25>']\n",
      "Edge added between 32 and 7\n",
      "Edge added between 32 and 25\n",
      "Text node of type semantic added with ID 33 and contents: ['Equivalence: <face_11>, <voice_0>']\n",
      "Edge added between 33 and 11\n",
      "Edge added between 33 and 0\n",
      "Text node of type semantic added with ID 34 and contents: ['<face_11> is being judged on their appearance and perceived wealth.']\n",
      "Edge added between 34 and 11\n",
      "Text node of type semantic added with ID 35 and contents: [\"The commentators are analyzing the individuals' clothing and demeanor to guess which one is a millionaire.\"]\n",
      "Text node of type semantic added with ID 36 and contents: [\"The video likely revolves around social status and how it's portrayed through appearance.\"]\n",
      "Text node of type semantic added with ID 37 and contents: ['<face_26> and <face_4> appear to be engaged and leading the discussion, while <face_5> seems more observant.']\n",
      "Edge added between 37 and 26\n",
      "Edge added between 37 and 4\n",
      "Edge added between 37 and 5\n",
      "Finish processing segment\n",
      "====================\n",
      "Processing clip 3: data/videos/clipped/5 Poor People vs 1 Secret Millionaire/3.mp4\n",
      "{'video_found': True, 'audio_found': True, 'metadata': {'major_brand': 'isom', 'minor_version': '512', 'compatible_brands': 'isomiso2avc1mp41', 'encoder': 'Lavf61.1.100'}, 'inputs': [{'streams': [{'input_number': 0, 'stream_number': 0, 'stream_type': 'video', 'language': None, 'default': True, 'size': [1280, 720], 'bitrate': 966, 'fps': 23.976023976023978, 'codec_name': 'h264', 'profile': '(High)', 'metadata': {'Metadata': '', 'handler_name': 'VideoHandler', 'vendor_id': '[0][0][0][0]', 'encoder': 'Lavc61.3.100 libx264'}}, {'input_number': 0, 'stream_number': 1, 'stream_type': 'audio', 'language': None, 'default': True, 'fps': 44100, 'bitrate': 128, 'metadata': {'Metadata': '', 'handler_name': 'SoundHandler', 'vendor_id': '[0][0][0][0]'}}], 'input_number': 0}], 'duration': 30.0, 'bitrate': 1101, 'start': 0.0, 'default_video_input_number': 0, 'default_video_stream_number': 0, 'video_codec_name': 'h264', 'video_profile': '(High)', 'video_size': [1280, 720], 'video_bitrate': 966, 'video_fps': 23.976023976023978, 'default_audio_input_number': 0, 'default_audio_stream_number': 1, 'audio_fps': 44100, 'audio_bitrate': 128, 'video_duration': 30.0, 'video_n_frames': 719}\n",
      "/usr/local/lib/python3.9/dist-packages/imageio_ffmpeg/binaries/ffmpeg-linux-x86_64-v7.0.2 -i data/videos/clipped/5 Poor People vs 1 Secret Millionaire/3.mp4 -loglevel error -f image2pipe -vf scale=1280:720 -sws_flags bicubic -pix_fmt rgb24 -vcodec rawvideo -\n",
      "{'video_found': True, 'audio_found': True, 'metadata': {'major_brand': 'isom', 'minor_version': '512', 'compatible_brands': 'isomiso2avc1mp41', 'encoder': 'Lavf61.1.100'}, 'inputs': [{'streams': [{'input_number': 0, 'stream_number': 0, 'stream_type': 'video', 'language': None, 'default': True, 'size': [1280, 720], 'bitrate': 966, 'fps': 23.976023976023978, 'codec_name': 'h264', 'profile': '(High)', 'metadata': {'Metadata': '', 'handler_name': 'VideoHandler', 'vendor_id': '[0][0][0][0]', 'encoder': 'Lavc61.3.100 libx264'}}, {'input_number': 0, 'stream_number': 1, 'stream_type': 'audio', 'language': None, 'default': True, 'fps': 44100, 'bitrate': 128, 'metadata': {'Metadata': '', 'handler_name': 'SoundHandler', 'vendor_id': '[0][0][0][0]'}}], 'input_number': 0}], 'duration': 30.0, 'bitrate': 1101, 'start': 0.0, 'default_video_input_number': 0, 'default_video_stream_number': 0, 'video_codec_name': 'h264', 'video_profile': '(High)', 'video_size': [1280, 720], 'video_bitrate': 966, 'video_fps': 23.976023976023978, 'default_audio_input_number': 0, 'default_audio_stream_number': 1, 'audio_fps': 44100, 'audio_bitrate': 128, 'video_duration': 30.0, 'video_n_frames': 719}\n",
      "/usr/local/lib/python3.9/dist-packages/imageio_ffmpeg/binaries/ffmpeg-linux-x86_64-v7.0.2 -i data/videos/clipped/5 Poor People vs 1 Secret Millionaire/3.mp4 -loglevel error -f image2pipe -vf scale=1280:720 -sws_flags bicubic -pix_fmt rgb24 -vcodec rawvideo -\n",
      "Diarizing audio 0 times\n"
     ]
    },
    {
     "name": "stderr",
     "output_type": "stream",
     "text": [
      "2025-03-31 09:35:50,614 - httpx - INFO - HTTP Request: POST https://search-va.byteintl.net/gpt/openapi/online/multimodal/crawl/openai/deployments/gemini-1.5-pro-002/chat/completions?api-version=2024-03-01-preview \"HTTP/1.1 200 OK\"\n"
     ]
    },
    {
     "name": "stdout",
     "output_type": "stream",
     "text": [
      "Voice node added with ID 38\n",
      "Voice node added with ID 39\n",
      "Node 3 updated with 1 embeddings\n",
      "Voice node added with ID 40\n",
      "Node 0 updated with 1 embeddings\n",
      "Node 0 updated with 1 embeddings\n",
      "Node 3 updated with 1 embeddings\n",
      "Voice node added with ID 41\n",
      "Finish processing voices\n",
      "processing 150 frames...\n"
     ]
    },
    {
     "name": "stderr",
     "output_type": "stream",
     "text": [
      "100%|██████████| 38/38 [00:17<00:00,  2.13it/s]\n"
     ]
    },
    {
     "name": "stdout",
     "output_type": "stream",
     "text": [
      "Node 9 updated with 3 embeddings\n",
      "Node 11 updated with 3 embeddings\n",
      "Node 26 updated with 3 embeddings\n",
      "Node 4 updated with 3 embeddings\n",
      "Node 6 updated with 3 embeddings\n",
      "Node 5 updated with 3 embeddings\n",
      "Node 7 updated with 1 embeddings\n",
      "Node 10 updated with 3 embeddings\n",
      "Finish processing faces\n",
      "8 faces detected\n",
      "Generating captions 0 times\n"
     ]
    },
    {
     "name": "stderr",
     "output_type": "stream",
     "text": [
      "2025-03-31 09:36:19,870 - httpx - INFO - HTTP Request: POST https://search-va.byteintl.net/gpt/openapi/online/multimodal/crawl/openai/deployments/gemini-1.5-pro-002/chat/completions?api-version=2024-03-01-preview \"HTTP/1.1 200 OK\"\n"
     ]
    },
    {
     "name": "stdout",
     "output_type": "stream",
     "text": [
      "Generating thinkings 0 times\n"
     ]
    },
    {
     "name": "stderr",
     "output_type": "stream",
     "text": [
      "2025-03-31 09:36:25,586 - httpx - INFO - HTTP Request: POST https://search-va.byteintl.net/gpt/openapi/online/multimodal/crawl/openai/deployments/gemini-1.5-pro-002/chat/completions?api-version=2024-03-01-preview \"HTTP/1.1 200 OK\"\n"
     ]
    },
    {
     "name": "stdout",
     "output_type": "stream",
     "text": [
      "Text node of type episodic added with ID 42 and contents: [\"In a studio setting, <face_7>, <face_26>, <face_4>, and <face_5> sit at a table covered with a black tablecloth, facing five standing individuals. On the table are water bottles, paper, pens, and an 'ON AIR' sign.\"]\n",
      "Edge added between 42 and 7\n",
      "Edge added between 42 and 26\n",
      "Edge added between 42 and 4\n",
      "Edge added between 42 and 5\n",
      "Text node of type episodic added with ID 43 and contents: ['<face_26> wears a dark blue Drexel University hoodie. <face_4> wears a black and white baseball-style jersey. <face_5> wears a light beige t-shirt and has noticeable tattoos on his arms.']\n",
      "Edge added between 43 and 26\n",
      "Edge added between 43 and 4\n",
      "Edge added between 43 and 5\n",
      "Text node of type episodic added with ID 44 and contents: ['<face_7> wears a dark-colored hoodie. <face_4> raises his hands, gesturing to <face_10>. <face_6> looks at and gestures to <face_10> as well. <face_26> crosses his arms and leans back in his chair. <face_5> appears relaxed, watching the others.']\n",
      "Edge added between 44 and 7\n",
      "Edge added between 44 and 4\n",
      "Edge added between 44 and 10\n",
      "Edge added between 44 and 6\n",
      "Edge added between 44 and 10\n",
      "Edge added between 44 and 26\n",
      "Edge added between 44 and 5\n",
      "Text node of type episodic added with ID 45 and contents: [\"<voice_3> asks <face_4> about the word for not paying attention. <face_4> explains that he meant 'overlooking'.\"]\n",
      "Edge added between 45 and 3\n",
      "Edge added between 45 and 4\n",
      "Edge added between 45 and 4\n",
      "Text node of type episodic added with ID 46 and contents: ['<face_10> wears a black bomber jacket with a plaid shirt underneath and jeans. <face_8> wears a purple velvet blazer with black pants. <face_9> wears a white, long-sleeved button-down shirt and khaki pants.']\n",
      "Edge added between 46 and 10\n",
      "Edge added between 46 and 8\n",
      "Edge added between 46 and 9\n",
      "Text node of type episodic added with ID 47 and contents: ['<face_10>, introduces himself as Demar Randy. <face_11> wears a light blue button-down shirt, gray pants, and a camo jacket. <face_12> wears a light beige t-shirt and an orange and white baseball cap.']\n",
      "Edge added between 47 and 10\n",
      "Edge added between 47 and 11\n",
      "Text node of type episodic added with ID 48 and contents: [\"<voice_0> compliments <face_8>, stating that she looks 'well put together' and that they 'like the sparkles.' <voice_0> speculates that <face_8> 'may have new money.'\"]\n",
      "Edge added between 48 and 0\n",
      "Edge added between 48 and 8\n",
      "Edge added between 48 and 0\n",
      "Edge added between 48 and 8\n",
      "Text node of type episodic added with ID 49 and contents: [\"<voice_3> suggests they 'dive into' getting to know each of the five standing individuals, and asks for <face_10>'s name and occupation.\"]\n",
      "Edge added between 49 and 3\n",
      "Edge added between 49 and 10\n",
      "Text node of type semantic added with ID 50 and contents: ['Equivalence: <face_26>, <voice_0>']\n",
      "Edge added between 50 and 26\n",
      "Edge added between 50 and 0\n",
      "4 edges reinforced for node 18\n",
      "Text node of type semantic added with ID 51 and contents: ['Equivalence: <face_10>, <voice_41>']\n",
      "Edge added between 51 and 10\n",
      "Edge added between 51 and 41\n",
      "Text node of type semantic added with ID 52 and contents: ['<face_4> appears to be the leader or moderator of the discussion.']\n",
      "Edge added between 52 and 4\n",
      "Text node of type semantic added with ID 53 and contents: ['<face_26> seems to be focused on evaluating the appearance and financial status of the individuals standing.']\n",
      "Edge added between 53 and 26\n",
      "Text node of type semantic added with ID 54 and contents: ['<face_10> is the first individual to introduce himself to the commentators.']\n",
      "Edge added between 54 and 10\n",
      "Text node of type semantic added with ID 55 and contents: ['The video appears to be part of a show where commentators assess individuals based on their appearance and try to guess their financial status.']\n",
      "Finish processing segment\n",
      "====================\n",
      "Processing clip 4: data/videos/clipped/5 Poor People vs 1 Secret Millionaire/4.mp4\n",
      "{'video_found': True, 'audio_found': True, 'metadata': {'major_brand': 'isom', 'minor_version': '512', 'compatible_brands': 'isomiso2avc1mp41', 'encoder': 'Lavf61.1.100'}, 'inputs': [{'streams': [{'input_number': 0, 'stream_number': 0, 'stream_type': 'video', 'language': None, 'default': True, 'size': [1280, 720], 'bitrate': 1102, 'fps': 23.976023976023978, 'codec_name': 'h264', 'profile': '(High)', 'metadata': {'Metadata': '', 'handler_name': 'VideoHandler', 'vendor_id': '[0][0][0][0]', 'encoder': 'Lavc61.3.100 libx264'}}, {'input_number': 0, 'stream_number': 1, 'stream_type': 'audio', 'language': None, 'default': True, 'fps': 44100, 'bitrate': 127, 'metadata': {'Metadata': '', 'handler_name': 'SoundHandler', 'vendor_id': '[0][0][0][0]'}}], 'input_number': 0}], 'duration': 30.0, 'bitrate': 1236, 'start': 0.0, 'default_video_input_number': 0, 'default_video_stream_number': 0, 'video_codec_name': 'h264', 'video_profile': '(High)', 'video_size': [1280, 720], 'video_bitrate': 1102, 'video_fps': 23.976023976023978, 'default_audio_input_number': 0, 'default_audio_stream_number': 1, 'audio_fps': 44100, 'audio_bitrate': 127, 'video_duration': 30.0, 'video_n_frames': 719}\n",
      "/usr/local/lib/python3.9/dist-packages/imageio_ffmpeg/binaries/ffmpeg-linux-x86_64-v7.0.2 -i data/videos/clipped/5 Poor People vs 1 Secret Millionaire/4.mp4 -loglevel error -f image2pipe -vf scale=1280:720 -sws_flags bicubic -pix_fmt rgb24 -vcodec rawvideo -\n",
      "{'video_found': True, 'audio_found': True, 'metadata': {'major_brand': 'isom', 'minor_version': '512', 'compatible_brands': 'isomiso2avc1mp41', 'encoder': 'Lavf61.1.100'}, 'inputs': [{'streams': [{'input_number': 0, 'stream_number': 0, 'stream_type': 'video', 'language': None, 'default': True, 'size': [1280, 720], 'bitrate': 1102, 'fps': 23.976023976023978, 'codec_name': 'h264', 'profile': '(High)', 'metadata': {'Metadata': '', 'handler_name': 'VideoHandler', 'vendor_id': '[0][0][0][0]', 'encoder': 'Lavc61.3.100 libx264'}}, {'input_number': 0, 'stream_number': 1, 'stream_type': 'audio', 'language': None, 'default': True, 'fps': 44100, 'bitrate': 127, 'metadata': {'Metadata': '', 'handler_name': 'SoundHandler', 'vendor_id': '[0][0][0][0]'}}], 'input_number': 0}], 'duration': 30.0, 'bitrate': 1236, 'start': 0.0, 'default_video_input_number': 0, 'default_video_stream_number': 0, 'video_codec_name': 'h264', 'video_profile': '(High)', 'video_size': [1280, 720], 'video_bitrate': 1102, 'video_fps': 23.976023976023978, 'default_audio_input_number': 0, 'default_audio_stream_number': 1, 'audio_fps': 44100, 'audio_bitrate': 127, 'video_duration': 30.0, 'video_n_frames': 719}\n",
      "/usr/local/lib/python3.9/dist-packages/imageio_ffmpeg/binaries/ffmpeg-linux-x86_64-v7.0.2 -i data/videos/clipped/5 Poor People vs 1 Secret Millionaire/4.mp4 -loglevel error -f image2pipe -vf scale=1280:720 -sws_flags bicubic -pix_fmt rgb24 -vcodec rawvideo -\n",
      "Diarizing audio 0 times\n"
     ]
    },
    {
     "name": "stderr",
     "output_type": "stream",
     "text": [
      "2025-03-31 09:36:42,081 - httpx - INFO - HTTP Request: POST https://search-va.byteintl.net/gpt/openapi/online/multimodal/crawl/openai/deployments/gemini-1.5-pro-002/chat/completions?api-version=2024-03-01-preview \"HTTP/1.1 200 OK\"\n"
     ]
    },
    {
     "name": "stdout",
     "output_type": "stream",
     "text": [
      "Voice node added with ID 56\n",
      "Voice node added with ID 57\n",
      "Voice node added with ID 58\n",
      "Voice node added with ID 59\n",
      "Finish processing voices\n",
      "processing 150 frames...\n"
     ]
    },
    {
     "name": "stderr",
     "output_type": "stream",
     "text": [
      "100%|██████████| 38/38 [00:08<00:00,  4.23it/s]\n"
     ]
    },
    {
     "name": "stdout",
     "output_type": "stream",
     "text": [
      "Node 8 updated with 3 embeddings\n",
      "Node 10 updated with 3 embeddings\n",
      "Node 5 updated with 3 embeddings\n",
      "Node 6 updated with 3 embeddings\n",
      "Node 4 updated with 3 embeddings\n",
      "Node 7 updated with 2 embeddings\n",
      "Node 26 updated with 3 embeddings\n",
      "Node 9 updated with 3 embeddings\n",
      "Finish processing faces\n",
      "8 faces detected\n",
      "Generating captions 0 times\n"
     ]
    },
    {
     "name": "stderr",
     "output_type": "stream",
     "text": [
      "2025-03-31 09:37:02,571 - httpx - INFO - HTTP Request: POST https://search-va.byteintl.net/gpt/openapi/online/multimodal/crawl/openai/deployments/gemini-1.5-pro-002/chat/completions?api-version=2024-03-01-preview \"HTTP/1.1 200 OK\"\n"
     ]
    },
    {
     "name": "stdout",
     "output_type": "stream",
     "text": [
      "Generating thinkings 0 times\n"
     ]
    },
    {
     "name": "stderr",
     "output_type": "stream",
     "text": [
      "2025-03-31 09:37:07,865 - httpx - INFO - HTTP Request: POST https://search-va.byteintl.net/gpt/openapi/online/multimodal/crawl/openai/deployments/gemini-1.5-pro-002/chat/completions?api-version=2024-03-01-preview \"HTTP/1.1 200 OK\"\n"
     ]
    },
    {
     "name": "stdout",
     "output_type": "stream",
     "text": [
      "Text node of type episodic added with ID 60 and contents: [\"In a brightly lit studio, four commentators, <face_7>, <face_26>, <face_4>, and <face_5>, sit at a table facing five standing individuals, <face_10> through <face_12>.  The table is covered in a black tablecloth and has water bottles, paper, pens, and an 'ON AIR' sign.\"]\n",
      "Edge added between 60 and 7\n",
      "Edge added between 60 and 26\n",
      "Edge added between 60 and 4\n",
      "Edge added between 60 and 5\n",
      "Edge added between 60 and 10\n",
      "Text node of type episodic added with ID 61 and contents: [\"<face_7>, wearing a dark hoodie, listens and reacts to the others' commentary. <face_26>, wearing a Drexel University hoodie, watches the standing individuals and speaks to them. <face_4>, in a black and white baseball jersey, leans in and participates actively in the discussion.\"]\n",
      "Edge added between 61 and 7\n",
      "Edge added between 61 and 26\n",
      "Edge added between 61 and 4\n",
      "Text node of type episodic added with ID 62 and contents: ['<face_5>, wearing a beige t-shirt and sporting tattoos on his arms, watches the others with a smile. <face_10>, in a black bomber jacket, plaid shirt, and jeans, stands facing the commentators.']\n",
      "Edge added between 62 and 5\n",
      "Edge added between 62 and 10\n",
      "Text node of type episodic added with ID 63 and contents: ['<face_8>, in a sparkly purple blazer, black pants, and a crop top, stands between <face_10> and <face_9>. <face_9> is dressed in a white long-sleeved shirt and khaki pants.']\n",
      "Edge added between 63 and 8\n",
      "Edge added between 63 and 10\n",
      "Edge added between 63 and 9\n",
      "Edge added between 63 and 9\n",
      "Text node of type episodic added with ID 64 and contents: ['<face_11>, in a light blue shirt, gray pants, and a camo jacket, and <face_12>, in a beige t-shirt and orange baseball cap, complete the lineup of standing individuals.']\n",
      "Edge added between 64 and 11\n",
      "Text node of type episodic added with ID 65 and contents: [\"<voice_56> identifies herself as Tori K and states, 'My family works in the oil business.'  <voice_57>, apparently a commentator, exclaims, 'She said her family!' multiple times in surprise.  <face_4> leans in and gestures emphatically, also reacting to Tori K's family's occupation.\"]\n",
      "Edge added between 65 and 56\n",
      "Edge added between 65 and 57\n",
      "Edge added between 65 and 4\n",
      "Text node of type episodic added with ID 66 and contents: [\"<voice_58> asks the standing participants, 'Who are you?' <voice_59> replies, 'My name is Labone James.'  This prompts laughter and surprise from the seated commentators, especially <face_7> and <face_26>.\"]\n",
      "Edge added between 66 and 58\n",
      "Edge added between 66 and 59\n",
      "Edge added between 66 and 7\n",
      "Edge added between 66 and 26\n",
      "Text node of type semantic added with ID 67 and contents: ['Equivalence: <face_8>, <voice_56>']\n",
      "Edge added between 67 and 8\n",
      "Edge added between 67 and 56\n",
      "Text node of type semantic added with ID 68 and contents: ['Equivalence: <face_9>, <voice_59>']\n",
      "Edge added between 68 and 9\n",
      "Edge added between 68 and 59\n",
      "Text node of type semantic added with ID 69 and contents: [\"<face_8> is likely wealthy due to her family's involvement in the oil business.\"]\n",
      "Edge added between 69 and 8\n",
      "Text node of type semantic added with ID 70 and contents: ['<face_4>, <face_5>, <face_6>, <face_7>, and <face_26> are commentators on a show that involves guessing the occupations and backgrounds of guests.']\n",
      "Edge added between 70 and 4\n",
      "Edge added between 70 and 5\n",
      "Edge added between 70 and 6\n",
      "Edge added between 70 and 7\n",
      "Edge added between 70 and 26\n",
      "Text node of type semantic added with ID 71 and contents: [\"The commentators are surprised by <face_8>'s family wealth and <face_9>'s name.\"]\n",
      "Edge added between 71 and 8\n",
      "Edge added between 71 and 9\n",
      "Finish processing segment\n",
      "====================\n",
      "Processing clip 5: data/videos/clipped/5 Poor People vs 1 Secret Millionaire/5.mp4\n",
      "{'video_found': True, 'audio_found': True, 'metadata': {'major_brand': 'isom', 'minor_version': '512', 'compatible_brands': 'isomiso2avc1mp41', 'encoder': 'Lavf61.1.100'}, 'inputs': [{'streams': [{'input_number': 0, 'stream_number': 0, 'stream_type': 'video', 'language': None, 'default': True, 'size': [1280, 720], 'bitrate': 905, 'fps': 23.976023976023978, 'codec_name': 'h264', 'profile': '(High)', 'metadata': {'Metadata': '', 'handler_name': 'VideoHandler', 'vendor_id': '[0][0][0][0]', 'encoder': 'Lavc61.3.100 libx264'}}, {'input_number': 0, 'stream_number': 1, 'stream_type': 'audio', 'language': None, 'default': True, 'fps': 44100, 'bitrate': 129, 'metadata': {'Metadata': '', 'handler_name': 'SoundHandler', 'vendor_id': '[0][0][0][0]'}}], 'input_number': 0}], 'duration': 30.0, 'bitrate': 1040, 'start': 0.0, 'default_video_input_number': 0, 'default_video_stream_number': 0, 'video_codec_name': 'h264', 'video_profile': '(High)', 'video_size': [1280, 720], 'video_bitrate': 905, 'video_fps': 23.976023976023978, 'default_audio_input_number': 0, 'default_audio_stream_number': 1, 'audio_fps': 44100, 'audio_bitrate': 129, 'video_duration': 30.0, 'video_n_frames': 719}\n",
      "/usr/local/lib/python3.9/dist-packages/imageio_ffmpeg/binaries/ffmpeg-linux-x86_64-v7.0.2 -i data/videos/clipped/5 Poor People vs 1 Secret Millionaire/5.mp4 -loglevel error -f image2pipe -vf scale=1280:720 -sws_flags bicubic -pix_fmt rgb24 -vcodec rawvideo -\n",
      "{'video_found': True, 'audio_found': True, 'metadata': {'major_brand': 'isom', 'minor_version': '512', 'compatible_brands': 'isomiso2avc1mp41', 'encoder': 'Lavf61.1.100'}, 'inputs': [{'streams': [{'input_number': 0, 'stream_number': 0, 'stream_type': 'video', 'language': None, 'default': True, 'size': [1280, 720], 'bitrate': 905, 'fps': 23.976023976023978, 'codec_name': 'h264', 'profile': '(High)', 'metadata': {'Metadata': '', 'handler_name': 'VideoHandler', 'vendor_id': '[0][0][0][0]', 'encoder': 'Lavc61.3.100 libx264'}}, {'input_number': 0, 'stream_number': 1, 'stream_type': 'audio', 'language': None, 'default': True, 'fps': 44100, 'bitrate': 129, 'metadata': {'Metadata': '', 'handler_name': 'SoundHandler', 'vendor_id': '[0][0][0][0]'}}], 'input_number': 0}], 'duration': 30.0, 'bitrate': 1040, 'start': 0.0, 'default_video_input_number': 0, 'default_video_stream_number': 0, 'video_codec_name': 'h264', 'video_profile': '(High)', 'video_size': [1280, 720], 'video_bitrate': 905, 'video_fps': 23.976023976023978, 'default_audio_input_number': 0, 'default_audio_stream_number': 1, 'audio_fps': 44100, 'audio_bitrate': 129, 'video_duration': 30.0, 'video_n_frames': 719}\n",
      "/usr/local/lib/python3.9/dist-packages/imageio_ffmpeg/binaries/ffmpeg-linux-x86_64-v7.0.2 -i data/videos/clipped/5 Poor People vs 1 Secret Millionaire/5.mp4 -loglevel error -f image2pipe -vf scale=1280:720 -sws_flags bicubic -pix_fmt rgb24 -vcodec rawvideo -\n",
      "Diarizing audio 0 times\n"
     ]
    },
    {
     "name": "stderr",
     "output_type": "stream",
     "text": [
      "2025-03-31 09:37:23,263 - httpx - INFO - HTTP Request: POST https://search-va.byteintl.net/gpt/openapi/online/multimodal/crawl/openai/deployments/gemini-1.5-pro-002/chat/completions?api-version=2024-03-01-preview \"HTTP/1.1 200 OK\"\n"
     ]
    },
    {
     "name": "stdout",
     "output_type": "stream",
     "text": [
      "Node 3 updated with 1 embeddings\n",
      "Node 59 updated with 1 embeddings\n",
      "Node 57 updated with 1 embeddings\n",
      "Node 59 updated with 1 embeddings\n",
      "Voice node added with ID 72\n",
      "Node 58 updated with 1 embeddings\n",
      "Voice node added with ID 73\n",
      "Finish processing voices\n",
      "processing 150 frames...\n"
     ]
    },
    {
     "name": "stderr",
     "output_type": "stream",
     "text": [
      "100%|██████████| 38/38 [00:12<00:00,  3.04it/s]\n"
     ]
    },
    {
     "name": "stdout",
     "output_type": "stream",
     "text": [
      "Node 5 updated with 3 embeddings\n",
      "Node 6 updated with 3 embeddings\n",
      "Node 4 updated with 3 embeddings\n",
      "Node 26 updated with 3 embeddings\n",
      "Node 7 updated with 3 embeddings\n",
      "Node 9 updated with 3 embeddings\n",
      "Node 10 updated with 3 embeddings\n",
      "Node 8 updated with 2 embeddings\n",
      "Node 11 updated with 3 embeddings\n",
      "Finish processing faces\n",
      "9 faces detected\n",
      "Generating captions 0 times\n"
     ]
    },
    {
     "name": "stderr",
     "output_type": "stream",
     "text": [
      "2025-03-31 09:37:49,490 - httpx - INFO - HTTP Request: POST https://search-va.byteintl.net/gpt/openapi/online/multimodal/crawl/openai/deployments/gemini-1.5-pro-002/chat/completions?api-version=2024-03-01-preview \"HTTP/1.1 200 OK\"\n"
     ]
    },
    {
     "name": "stdout",
     "output_type": "stream",
     "text": [
      "Generating thinkings 0 times\n"
     ]
    },
    {
     "name": "stderr",
     "output_type": "stream",
     "text": [
      "2025-03-31 09:37:55,248 - httpx - INFO - HTTP Request: POST https://search-va.byteintl.net/gpt/openapi/online/multimodal/crawl/openai/deployments/gemini-1.5-pro-002/chat/completions?api-version=2024-03-01-preview \"HTTP/1.1 200 OK\"\n"
     ]
    },
    {
     "name": "stdout",
     "output_type": "stream",
     "text": [
      "Text node of type episodic added with ID 74 and contents: [\"In a studio setting, four commentators, <face_7>, <face_26>, <face_4>, and <face_5>, sit at a table facing five standing individuals.  On the table is an 'ON AIR' sign, water bottles, paper, and pens.\"]\n",
      "Edge added between 74 and 7\n",
      "Edge added between 74 and 26\n",
      "Edge added between 74 and 4\n",
      "Edge added between 74 and 5\n",
      "Text node of type episodic added with ID 75 and contents: ['<face_26> wears a Drexel University hoodie. <face_4> sports a black and white baseball jersey.  <face_5> wears a light beige t-shirt. <face_7> is wearing a dark hoodie.']\n",
      "Edge added between 75 and 26\n",
      "Edge added between 75 and 4\n",
      "Edge added between 75 and 5\n",
      "Edge added between 75 and 7\n",
      "Text node of type episodic added with ID 76 and contents: ['<face_4> laughs heartily, throwing his head down on the table in response to a comment. <face_26> watches the standing individuals with folded arms. <face_5> covers his mouth with his hand, smiling broadly. <face_7> watches the others with a smile.']\n",
      "Edge added between 76 and 4\n",
      "Edge added between 76 and 26\n",
      "Edge added between 76 and 5\n",
      "Edge added between 76 and 7\n",
      "Text node of type episodic added with ID 77 and contents: [\"<voice_3> asks <face_9>, 'What do you do for a living?' <face_9> replies, 'I'm a creative.'\"]\n",
      "Edge added between 77 and 3\n",
      "Edge added between 77 and 9\n",
      "Edge added between 77 and 9\n",
      "Text node of type episodic added with ID 78 and contents: ['<face_10> wears a black jacket, a plaid shirt, and jeans. <face_8>, standing next to him, wears a purple sparkly jacket and a crop top with black pants. <face_9> is dressed in a white shirt and khaki pants. <face_11> wears a blue button-down shirt and gray pants with a camo jacket. <face_12> is dressed in a beige t-shirt and an orange baseball cap.']\n",
      "Edge added between 78 and 10\n",
      "Edge added between 78 and 8\n",
      "Edge added between 78 and 9\n",
      "Edge added between 78 and 11\n",
      "Text node of type episodic added with ID 79 and contents: ['<face_10> covers his face with his hand, seemingly embarrassed or amused. <face_8> looks down and smiles. <face_9> looks to the side, away from the commentators. <face_11> looks at <face_9> with a slight smile.  <face_12> leans in slightly, looking at the commentators.']\n",
      "Edge added between 79 and 10\n",
      "Edge added between 79 and 8\n",
      "Edge added between 79 and 9\n",
      "Edge added between 79 and 11\n",
      "Edge added between 79 and 9\n",
      "Text node of type episodic added with ID 80 and contents: [\"<voice_59> clarifies, 'Yeah, yeah, it's uh, my OnlyFans handle, so.'  This prompts surprise and exclamations from <face_7>, <face_26>, <face_4>, and <face_5> at the table.\"]\n",
      "Edge added between 80 and 59\n",
      "Edge added between 80 and 7\n",
      "Edge added between 80 and 26\n",
      "Edge added between 80 and 4\n",
      "Edge added between 80 and 5\n",
      "Text node of type episodic added with ID 81 and contents: [\"<voice_58> then asks another of the standing individuals, 'Number four, what is your name and what do you do for a living?' <voice_73> responds, 'Uh, my name is Stewart Thompson, and I am a professor.'\"]\n",
      "Edge added between 81 and 58\n",
      "Edge added between 81 and 73\n",
      "Text node of type episodic added with ID 82 and contents: ['<face_7> nods thoughtfully. <face_26> rests his chin on his hand, listening intently. <face_4> gestures while conversing. <face_5> listens attentively with a smile on his face.']\n",
      "Edge added between 82 and 7\n",
      "Edge added between 82 and 26\n",
      "Edge added between 82 and 4\n",
      "Edge added between 82 and 5\n",
      "4 edges reinforced for node 68\n",
      "Text node of type semantic added with ID 83 and contents: ['Equivalence: <face_11>, <voice_73>']\n",
      "Edge added between 83 and 11\n",
      "Edge added between 83 and 73\n",
      "Text node of type semantic added with ID 84 and contents: ['<face_9> is likely an OnlyFans creator, using \"creative\" as a euphemism.']\n",
      "Edge added between 84 and 9\n",
      "Text node of type semantic added with ID 85 and contents: [\"<face_7>, <face_26>, <face_4>, and <face_5> are commentators, reacting to the standing individuals' statements.\"]\n",
      "Edge added between 85 and 7\n",
      "Edge added between 85 and 26\n",
      "Edge added between 85 and 4\n",
      "Edge added between 85 and 5\n",
      "Text node of type semantic added with ID 86 and contents: [\"The commentators are surprised by <face_9>'s occupation and <face_11>'s profession as a professor.\"]\n",
      "Edge added between 86 and 9\n",
      "Edge added between 86 and 11\n",
      "Text node of type semantic added with ID 87 and contents: ['There is an implication that professors do not typically earn large sums of money.']\n",
      "Finish processing segment\n"
     ]
    },
    {
     "name": "stderr",
     "output_type": "stream",
     "text": [
      "  0%|          | 0/88 [00:00<?, ?it/s]"
     ]
    },
    {
     "name": "stdout",
     "output_type": "stream",
     "text": [
      "Generating equivalences 0 times\n"
     ]
    },
    {
     "name": "stderr",
     "output_type": "stream",
     "text": [
      "2025-03-31 09:37:56,890 - httpx - INFO - HTTP Request: POST https://search-va.byteintl.net/gpt/openapi/online/v2/crawl/openai/deployments/gpt-4o-2024-11-20/chat/completions?api-version=2024-03-01-preview \"HTTP/1.1 200 OK\"\n",
      "  1%|          | 1/88 [00:01<01:28,  1.01s/it]"
     ]
    },
    {
     "name": "stdout",
     "output_type": "stream",
     "text": [
      "Generating equivalences 0 times\n"
     ]
    },
    {
     "name": "stderr",
     "output_type": "stream",
     "text": [
      "2025-03-31 09:37:57,758 - httpx - INFO - HTTP Request: POST https://search-va.byteintl.net/gpt/openapi/online/v2/crawl/openai/deployments/gpt-4o-2024-11-20/chat/completions?api-version=2024-03-01-preview \"HTTP/1.1 200 OK\"\n",
      "  2%|▏         | 2/88 [00:01<01:19,  1.08it/s]"
     ]
    },
    {
     "name": "stdout",
     "output_type": "stream",
     "text": [
      "Generating equivalences 0 times\n"
     ]
    },
    {
     "name": "stderr",
     "output_type": "stream",
     "text": [
      "2025-03-31 09:37:58,373 - httpx - INFO - HTTP Request: POST https://search-va.byteintl.net/gpt/openapi/online/v2/crawl/openai/deployments/gpt-4o-2024-11-20/chat/completions?api-version=2024-03-01-preview \"HTTP/1.1 200 OK\"\n",
      "  5%|▍         | 4/88 [00:02<00:45,  1.86it/s]"
     ]
    },
    {
     "name": "stdout",
     "output_type": "stream",
     "text": [
      "Generating equivalences 0 times\n"
     ]
    },
    {
     "name": "stderr",
     "output_type": "stream",
     "text": [
      "2025-03-31 09:37:59,233 - httpx - INFO - HTTP Request: POST https://search-va.byteintl.net/gpt/openapi/online/v2/crawl/openai/deployments/gpt-4o-2024-11-20/chat/completions?api-version=2024-03-01-preview \"HTTP/1.1 200 OK\"\n",
      " 30%|██▉       | 26/88 [00:03<00:05, 11.75it/s]"
     ]
    },
    {
     "name": "stdout",
     "output_type": "stream",
     "text": [
      "Generating equivalences 0 times\n"
     ]
    },
    {
     "name": "stderr",
     "output_type": "stream",
     "text": [
      "2025-03-31 09:37:59,810 - httpx - INFO - HTTP Request: POST https://search-va.byteintl.net/gpt/openapi/online/v2/crawl/openai/deployments/gpt-4o-2024-11-20/chat/completions?api-version=2024-03-01-preview \"HTTP/1.1 200 OK\"\n",
      " 48%|████▊     | 42/88 [00:03<00:02, 16.31it/s]"
     ]
    },
    {
     "name": "stdout",
     "output_type": "stream",
     "text": [
      "Generating equivalences 0 times\n"
     ]
    },
    {
     "name": "stderr",
     "output_type": "stream",
     "text": [
      "2025-03-31 09:38:00,424 - httpx - INFO - HTTP Request: POST https://search-va.byteintl.net/gpt/openapi/online/v2/crawl/openai/deployments/gpt-4o-2024-11-20/chat/completions?api-version=2024-03-01-preview \"HTTP/1.1 200 OK\"\n",
      " 65%|██████▍   | 57/88 [00:04<00:01, 18.76it/s]"
     ]
    },
    {
     "name": "stdout",
     "output_type": "stream",
     "text": [
      "Generating equivalences 0 times\n"
     ]
    },
    {
     "name": "stderr",
     "output_type": "stream",
     "text": [
      "2025-03-31 09:38:01,014 - httpx - INFO - HTTP Request: POST https://search-va.byteintl.net/gpt/openapi/online/v2/crawl/openai/deployments/gpt-4o-2024-11-20/chat/completions?api-version=2024-03-01-preview \"HTTP/1.1 200 OK\"\n",
      " 68%|██████▊   | 60/88 [00:05<00:01, 14.76it/s]"
     ]
    },
    {
     "name": "stdout",
     "output_type": "stream",
     "text": [
      "Generating equivalences 0 times\n"
     ]
    },
    {
     "name": "stderr",
     "output_type": "stream",
     "text": [
      "2025-03-31 09:38:01,929 - httpx - INFO - HTTP Request: POST https://search-va.byteintl.net/gpt/openapi/online/v2/crawl/openai/deployments/gpt-4o-2024-11-20/chat/completions?api-version=2024-03-01-preview \"HTTP/1.1 200 OK\"\n",
      "100%|██████████| 88/88 [00:06<00:00, 14.54it/s]\n"
     ]
    },
    {
     "name": "stdout",
     "output_type": "stream",
     "text": [
      "Saving video graph to data/video_graphs/5-Poor-People-vs-1-Secret-Millionaire_60_5_5_10_20_0.3_0.6_0.75.pkl\n"
     ]
    }
   ],
   "source": [
    "# video paths can be paths to directories or paths to mp4 files\n",
    "video_paths = processing_config[\"video_paths\"]\n",
    "\n",
    "for video_path in video_paths:\n",
    "\n",
    "    video_graph = VideoGraph(**memory_config)\n",
    "\n",
    "    streaming_process_video(\n",
    "        video_graph,\n",
    "        video_path,\n",
    "        processing_config[\"interval_seconds\"],\n",
    "        processing_config[\"fps\"],\n",
    "        processing_config[\"segment_limit\"],\n",
    "    )\n",
    "\n",
    "    video_graph.refresh_equivalences()\n",
    "\n",
    "    save_dir = \"data/video_graphs\"\n",
    "    save_video_graph(\n",
    "        video_graph, video_path, save_dir, (processing_config, memory_config)\n",
    "    )"
   ]
  },
  {
   "cell_type": "code",
   "execution_count": 10,
   "metadata": {},
   "outputs": [
    {
     "name": "stdout",
     "output_type": "stream",
     "text": [
      "Loading video graph from data/video_graphs/5-Poor-People-vs-1-Secret-Millionaire_60_5_5_10_20_0.3_0.6_0.75.pkl\n",
      "Generating queries 0 times\n"
     ]
    },
    {
     "name": "stderr",
     "output_type": "stream",
     "text": [
      "2025-03-31 09:42:08,880 - httpx - INFO - HTTP Request: POST https://search-va.byteintl.net/gpt/openapi/online/v2/crawl/openai/deployments/gpt-4o-2024-11-20/chat/completions?api-version=2024-03-01-preview \"HTTP/1.1 200 OK\"\n"
     ]
    },
    {
     "name": "stdout",
     "output_type": "stream",
     "text": [
      "Queries: ['What actions are the individuals performing in the video?', 'Are there any group activities or interactions between the people?', 'What objects or tools are the people using in the video?', 'Are there any conversations or dialogues happening between the individuals?', 'What gestures or body language are the people displaying?', 'Are there any notable events or key moments involving the individuals?', 'How are the individuals positioned or arranged in the scene?', 'Are there any signs of collaboration or conflict among the people?', 'What is the setting or environment where the people are located?', 'Are there any specific tasks or roles assigned to the individuals in the video?']\n",
      "[\"In a brightly lit studio setting, four individuals, <face_4>, <face_7>, <face_6>, and <face_5>, are seated at a black table covered with a black tablecloth. They face five other individuals, <face_10>, <face_8>, <face_9>, <character_0>. On the table, there's an 'ON AIR' sign, water bottles, paper cups, markers, and paper.\", '<face_10> wears a black bomber jacket with a plaid shirt underneath and jeans. <face_8> wears a purple velvet blazer and black pants. <face_9> wears a white long-sleeved shirt and khaki pants. <character_0> wears a blue button-down shirt, gray pants, and a camo jacket. All individuals are standing and facing the seated commentators.', \"<face_4> addresses the group, stating that the first person he speaks to is 'broke,' and <character_1> responds with laughter. <face_6>, wearing a blue jacket, gestures to <character_1>, prompting laughter from some of the individuals at the table.\", \"In a studio setting, four commentators, <face_7>, <face_26>, <character_2>, and <face_5>, sit at a table facing five individuals, <face_10>, <face_8>, <face_9>, <face_11>, and <face_12>. The table has an 'ON AIR' sign, water bottles, and note-taking materials. <face_7> wears a black hoodie. <face_26> wears a dark blue Drexel hoodie and glasses. <character_2> wears a baseball-style shirt. <face_5> wears a white t-shirt with tattoos on his arms.\", '<face_10> is wearing a black bomber jacket, plaid shirt, and jeans. <face_8>, a woman, wears a purple velvet blazer over a sparkly crop top, and black pants. <face_9> wears a white long-sleeved shirt and khaki pants. <character_0> wears a blue button-down shirt, gray pants, and a camo jacket. <face_12> wears an orange baseball cap.', '<face_26> gestures with his hands while talking, engaging in the discussion with the other commentators. <face_7> listens intently and speaks. <face_4> leans in, actively participating. <face_5> smiles and watches the others. The individuals they are commenting on, <character_1> through <face_12>, stand passively and react with occasional laughter or smiles to the commentary.', \"The commentators are analyzing the individuals' clothing and demeanor to guess which one is a millionaire.\", \"The video likely revolves around social status and how it's portrayed through appearance.\", '<face_26> and <character_2> appear to be engaged and leading the discussion, while <face_5> seems more observant.', \"In a studio setting, <face_7>, <face_26>, <character_2>, and <face_5> sit at a table covered with a black tablecloth, facing five standing individuals. On the table are water bottles, paper, pens, and an 'ON AIR' sign.\", '<face_7> wears a dark-colored hoodie. <face_4> raises his hands, gesturing to <character_1>. <face_6> looks at and gestures to <character_1> as well. <face_26> crosses his arms and leans back in his chair. <face_5> appears relaxed, watching the others.', \"<voice_3> suggests they 'dive into' getting to know each of the five standing individuals, and asks for <character_1>'s name and occupation.\", '<character_2> appears to be the leader or moderator of the discussion.', '<face_26> seems to be focused on evaluating the appearance and financial status of the individuals standing.', 'The video appears to be part of a show where commentators assess individuals based on their appearance and try to guess their financial status.', \"In a brightly lit studio, four commentators, <face_7>, <face_26>, <face_4>, and <face_5>, sit at a table facing five standing individuals, <character_1> through <face_12>.  The table is covered in a black tablecloth and has water bottles, paper, pens, and an 'ON AIR' sign.\", \"<face_7>, wearing a dark hoodie, listens and reacts to the others' commentary. <face_26>, wearing a Drexel University hoodie, watches the standing individuals and speaks to them. <character_2>, in a black and white baseball jersey, leans in and participates actively in the discussion.\", '<face_5>, wearing a beige t-shirt and sporting tattoos on his arms, watches the others with a smile. <character_1>, in a black bomber jacket, plaid shirt, and jeans, stands facing the commentators.', '<face_8>, in a sparkly purple blazer, black pants, and a crop top, stands between <face_10> and <character_5>. <character_5> is dressed in a white long-sleeved shirt and khaki pants.', '<character_0>, in a light blue shirt, gray pants, and a camo jacket, and <face_12>, in a beige t-shirt and orange baseball cap, complete the lineup of standing individuals.', \"In a studio setting, four commentators, <face_7>, <face_26>, <character_2>, and <face_5>, sit at a table facing five standing individuals.  On the table is an 'ON AIR' sign, water bottles, paper, and pens.\", '<face_4> laughs heartily, throwing his head down on the table in response to a comment. <face_26> watches the standing individuals with folded arms. <face_5> covers his mouth with his hand, smiling broadly. <character_3> watches the others with a smile.', '<face_10> wears a black jacket, a plaid shirt, and jeans. <face_8>, standing next to him, wears a purple sparkly jacket and a crop top with black pants. <face_9> is dressed in a white shirt and khaki pants. <character_0> wears a blue button-down shirt and gray pants with a camo jacket. <face_12> is dressed in a beige t-shirt and an orange baseball cap.', '<face_10> covers his face with his hand, seemingly embarrassed or amused. <face_8> looks down and smiles. <character_5> looks to the side, away from the commentators. <face_11> looks at <character_5> with a slight smile.  <face_12> leans in slightly, looking at the commentators.', \"<voice_58> then asks another of the standing individuals, 'Number four, what is your name and what do you do for a living?' <character_0> responds, 'Uh, my name is Stewart Thompson, and I am a professor.'\", '<face_7> nods thoughtfully. <face_26> rests his chin on his hand, listening intently. <character_2> gestures while conversing. <face_5> listens attentively with a smile on his face.', \"<face_7>, <face_26>, <character_2>, and <face_5> are commentators, reacting to the standing individuals' statements.\"]\n"
     ]
    },
    {
     "name": "stderr",
     "output_type": "stream",
     "text": [
      "2025-03-31 09:42:11,527 - httpx - INFO - HTTP Request: POST https://search-va.byteintl.net/gpt/openapi/online/v2/crawl/openai/deployments/gpt-4o-2024-11-20/chat/completions?api-version=2024-03-01-preview \"HTTP/1.1 200 OK\"\n"
     ]
    },
    {
     "name": "stdout",
     "output_type": "stream",
     "text": [
      "[FINAL] The people in the video are participating in a show where four commentators—Face 7, Face 26, Character 2, and Face 5—are seated at a table analyzing and discussing the clothing, demeanor, and appearance of five standing individuals—Face 10, Face 8, Face 9, Stewart Thompson, and Face 12—to guess their financial status or social standing.\n"
     ]
    }
   ],
   "source": [
    "video_graph_path = \"data/video_graphs/5-Poor-People-vs-1-Secret-Millionaire_60_5_5_10_20_0.3_0.6_0.75.pkl\"\n",
    "video_graph = load_video_graph(video_graph_path)\n",
    "# for text_node in video_graph.text_nodes:\n",
    "#     print(video_graph.nodes[text_node].metadata['contents'])\n",
    "# for nodes, weight in video_graph.edges.items():\n",
    "#     if weight > 1:\n",
    "#         if video_graph.nodes[nodes[0]].type in [\"episodic\", \"semantic\"]:\n",
    "#            print(video_graph.nodes[nodes[0]].metadata['contents'])\n",
    "#         else:\n",
    "#            print(video_graph.nodes[nodes[1]].metadata['contents'])\n",
    "#         print(weight)\n",
    "\n",
    "video_graph.text_matching_threshold = 0.4\n",
    "# video_graph.refresh_equivalences()\n",
    "\n",
    "# question = 'What does Demar Randy wear?'\n",
    "# question = \"Who has an OnlyFans account?\"\n",
    "question = \"What are the people doing in the video?\"\n",
    "answer = answer_with_retrieval(video_graph, question, query_num=10, topk=15)\n",
    "\n",
    "# video_graph.summarize(logging=True)\n",
    "# save_dir = \"data/video_graphs\"\n",
    "# save_video_graph(\n",
    "#     video_graph, None, save_dir, None, file_name='5-Poor-People-vs-1-Secret-Millionaire_60_5_5_10_20_0.3_0.6_0.75_augmented.pkl'\n",
    "# )\n",
    "# video_graph.visualize()"
   ]
  },
  {
   "cell_type": "code",
   "execution_count": null,
   "metadata": {},
   "outputs": [],
   "source": [
    "from utils.chat_api import *\n",
    "from utils.general import plot_cosine_similarity_distribution\n",
    "\n",
    "video_graph_path = \"data/video_graphs/5-Poor-People-vs-1-Secret-Millionaire_60_5_5_10_20_0.3_0.6_0.75.pkl\"\n",
    "video_graph = load_video_graph(video_graph_path)\n",
    "\n",
    "graph_embeddings = []\n",
    "\n",
    "for id, node in video_graph.nodes.items():\n",
    "    if node.type in [\"episodic\", \"semantic\"]:\n",
    "        graph_embeddings.extend(node.embeddings)\n",
    "\n",
    "# texts = [\"Clothing style of Demar Randy\", \"<voice_44> introduces himself as Demar Randy.\"]\n",
    "texts = [\"<face_4> points at <face_9>.\"]\n",
    "embs = parallel_get_embedding(\"text-embedding-3-large\", texts)[0]\n",
    "\n",
    "plot_cosine_similarity_distribution(graph_embeddings, embs)"
   ]
  },
  {
   "cell_type": "code",
   "execution_count": 11,
   "metadata": {},
   "outputs": [
    {
     "name": "stdout",
     "output_type": "stream",
     "text": [
      "[\"In a brightly lit studio setting, four individuals, <face_4>, <face_7>, <face_6>, and <face_5>, are seated at a black table covered with a black tablecloth. They face five other individuals, <face_10>, <face_8>, <face_9>, <face_11>. On the table, there's an 'ON AIR' sign, water bottles, paper cups, markers, and paper.\"]\n",
      "['<voice_0> introduces the individuals seated at the table as Denny, Herm, Aaron, and JC, and then introduces the other five, stating that they claim to be millionaires but only one actually is.']\n",
      "['<face_10> wears a black bomber jacket with a plaid shirt underneath and jeans. <face_8> wears a purple velvet blazer and black pants. <face_9> wears a white long-sleeved shirt and khaki pants. <face_11> wears a blue button-down shirt, gray pants, and a camo jacket. All individuals are standing and facing the seated commentators.']\n",
      "[\"<face_4> addresses the group, stating that the first person he speaks to is 'broke,' and <face_10> responds with laughter. <face_6>, wearing a blue jacket, gestures to <face_10>, prompting laughter from some of the individuals at the table.\"]\n",
      "[\"<face_4> later comments on <face_11>'s shoes, observing that they are 'elite.' <face_11> is wearing black loafers.\"]\n",
      "['<face_4> comments that a white man not wearing socks indicates he is very comfortable.']\n",
      "['Equivalence: <face_4>, <voice_3>']\n",
      "['Equivalence: <face_10>, <voice_1>']\n",
      "[\"<face_4> is perceptive and observant, as demonstrated by his comment about <face_11>'s shoes and the lack of socks.\"]\n",
      "['<face_4> may be fashion-conscious, given his attention to footwear details.']\n",
      "[\"<face_10> has a good sense of humor, indicated by his laughter at <face_4>'s comments.\"]\n",
      "['<face_11> appears to be confident and comfortable in his own skin, suggested by his choice to not wear socks with loafers.']\n",
      "[\"<face_11> might be wealthy or value high-quality footwear, given <face_4>'s comment about 'elite' shoes.\"]\n",
      "[\"In a studio setting, four commentators, <face_7>, <face_26>, <face_4>, and <face_5>, sit at a table facing five individuals, <face_10>, <face_8>, <face_9>, <face_11>, and <face_12>. The table has an 'ON AIR' sign, water bottles, and note-taking materials. <face_7> wears a black hoodie. <face_26> wears a dark blue Drexel hoodie and glasses. <face_4> wears a baseball-style shirt. <face_5> wears a white t-shirt with tattoos on his arms.\"]\n",
      "['<face_10> is wearing a black bomber jacket, plaid shirt, and jeans. <face_8>, a woman, wears a purple velvet blazer over a sparkly crop top, and black pants. <face_9> wears a white long-sleeved shirt and khaki pants. <face_11> wears a blue button-down shirt, gray pants, and a camo jacket. <face_12> wears an orange baseball cap.']\n",
      "['<voice_25> discusses <face_11>’s shoes, mentioning penny loafers and commenting on <face_11>’s supposed wealth. <voice_25> also questions how <face_11> acquired their outfit, and describes the attire of presumed millionaires. <voice_3> remarks on what millionaires choose to wear.']\n",
      "[\"<voice_0> states that one of the five individuals standing is a millionaire and the commentators are trying to determine who. <voice_0> states their belief that <face_11> looks 'too well put together,' and is 'pretending' to have money.  <voice_0> comments on <face_8>'s appearance, calling her beautiful.\"]\n",
      "['<face_26> gestures with his hands while talking, engaging in the discussion with the other commentators. <face_7> listens intently and speaks. <face_4> leans in, actively participating. <face_5> smiles and watches the others. The individuals they are commenting on, <face_10> through <face_12>, stand passively and react with occasional laughter or smiles to the commentary.']\n",
      "['Equivalence: <face_7>, <voice_25>']\n",
      "['Equivalence: <face_11>, <voice_0>']\n",
      "['<face_11> is being judged on their appearance and perceived wealth.']\n",
      "[\"The commentators are analyzing the individuals' clothing and demeanor to guess which one is a millionaire.\"]\n",
      "[\"The video likely revolves around social status and how it's portrayed through appearance.\"]\n",
      "['<face_26> and <face_4> appear to be engaged and leading the discussion, while <face_5> seems more observant.']\n",
      "[\"In a studio setting, <face_7>, <face_26>, <face_4>, and <face_5> sit at a table covered with a black tablecloth, facing five standing individuals. On the table are water bottles, paper, pens, and an 'ON AIR' sign.\"]\n",
      "['<face_26> wears a dark blue Drexel University hoodie. <face_4> wears a black and white baseball-style jersey. <face_5> wears a light beige t-shirt and has noticeable tattoos on his arms.']\n",
      "['<face_7> wears a dark-colored hoodie. <face_4> raises his hands, gesturing to <face_10>. <face_6> looks at and gestures to <face_10> as well. <face_26> crosses his arms and leans back in his chair. <face_5> appears relaxed, watching the others.']\n",
      "[\"<voice_3> asks <face_4> about the word for not paying attention. <face_4> explains that he meant 'overlooking'.\"]\n",
      "['<face_10> wears a black bomber jacket with a plaid shirt underneath and jeans. <face_8> wears a purple velvet blazer with black pants. <face_9> wears a white, long-sleeved button-down shirt and khaki pants.']\n",
      "['<face_10>, introduces himself as Demar Randy. <face_11> wears a light blue button-down shirt, gray pants, and a camo jacket. <face_12> wears a light beige t-shirt and an orange and white baseball cap.']\n",
      "[\"<voice_0> compliments <face_8>, stating that she looks 'well put together' and that they 'like the sparkles.' <voice_0> speculates that <face_8> 'may have new money.'\"]\n",
      "[\"<voice_3> suggests they 'dive into' getting to know each of the five standing individuals, and asks for <face_10>'s name and occupation.\"]\n",
      "['Equivalence: <face_26>, <voice_0>']\n",
      "['Equivalence: <face_10>, <voice_41>']\n",
      "['<face_4> appears to be the leader or moderator of the discussion.']\n",
      "['<face_26> seems to be focused on evaluating the appearance and financial status of the individuals standing.']\n",
      "['<face_10> is the first individual to introduce himself to the commentators.']\n",
      "['The video appears to be part of a show where commentators assess individuals based on their appearance and try to guess their financial status.']\n",
      "[\"In a brightly lit studio, four commentators, <face_7>, <face_26>, <face_4>, and <face_5>, sit at a table facing five standing individuals, <face_10> through <face_12>.  The table is covered in a black tablecloth and has water bottles, paper, pens, and an 'ON AIR' sign.\"]\n",
      "[\"<face_7>, wearing a dark hoodie, listens and reacts to the others' commentary. <face_26>, wearing a Drexel University hoodie, watches the standing individuals and speaks to them. <face_4>, in a black and white baseball jersey, leans in and participates actively in the discussion.\"]\n",
      "['<face_5>, wearing a beige t-shirt and sporting tattoos on his arms, watches the others with a smile. <face_10>, in a black bomber jacket, plaid shirt, and jeans, stands facing the commentators.']\n",
      "['<face_8>, in a sparkly purple blazer, black pants, and a crop top, stands between <face_10> and <face_9>. <face_9> is dressed in a white long-sleeved shirt and khaki pants.']\n",
      "['<face_11>, in a light blue shirt, gray pants, and a camo jacket, and <face_12>, in a beige t-shirt and orange baseball cap, complete the lineup of standing individuals.']\n",
      "[\"<voice_56> identifies herself as Tori K and states, 'My family works in the oil business.'  <voice_57>, apparently a commentator, exclaims, 'She said her family!' multiple times in surprise.  <face_4> leans in and gestures emphatically, also reacting to Tori K's family's occupation.\"]\n",
      "[\"<voice_58> asks the standing participants, 'Who are you?' <voice_59> replies, 'My name is Labone James.'  This prompts laughter and surprise from the seated commentators, especially <face_7> and <face_26>.\"]\n",
      "['Equivalence: <face_8>, <voice_56>']\n",
      "['Equivalence: <face_9>, <voice_59>']\n",
      "[\"<face_8> is likely wealthy due to her family's involvement in the oil business.\"]\n",
      "['<face_4>, <face_5>, <face_6>, <face_7>, and <face_26> are commentators on a show that involves guessing the occupations and backgrounds of guests.']\n",
      "[\"The commentators are surprised by <face_8>'s family wealth and <face_9>'s name.\"]\n",
      "[\"In a studio setting, four commentators, <face_7>, <face_26>, <face_4>, and <face_5>, sit at a table facing five standing individuals.  On the table is an 'ON AIR' sign, water bottles, paper, and pens.\"]\n",
      "['<face_26> wears a Drexel University hoodie. <face_4> sports a black and white baseball jersey.  <face_5> wears a light beige t-shirt. <face_7> is wearing a dark hoodie.']\n",
      "['<face_4> laughs heartily, throwing his head down on the table in response to a comment. <face_26> watches the standing individuals with folded arms. <face_5> covers his mouth with his hand, smiling broadly. <face_7> watches the others with a smile.']\n",
      "[\"<voice_3> asks <face_9>, 'What do you do for a living?' <face_9> replies, 'I'm a creative.'\"]\n",
      "['<face_10> wears a black jacket, a plaid shirt, and jeans. <face_8>, standing next to him, wears a purple sparkly jacket and a crop top with black pants. <face_9> is dressed in a white shirt and khaki pants. <face_11> wears a blue button-down shirt and gray pants with a camo jacket. <face_12> is dressed in a beige t-shirt and an orange baseball cap.']\n",
      "['<face_10> covers his face with his hand, seemingly embarrassed or amused. <face_8> looks down and smiles. <face_9> looks to the side, away from the commentators. <face_11> looks at <face_9> with a slight smile.  <face_12> leans in slightly, looking at the commentators.']\n",
      "[\"<voice_59> clarifies, 'Yeah, yeah, it's uh, my OnlyFans handle, so.'  This prompts surprise and exclamations from <face_7>, <face_26>, <face_4>, and <face_5> at the table.\"]\n",
      "[\"<voice_58> then asks another of the standing individuals, 'Number four, what is your name and what do you do for a living?' <voice_73> responds, 'Uh, my name is Stewart Thompson, and I am a professor.'\"]\n",
      "['<face_7> nods thoughtfully. <face_26> rests his chin on his hand, listening intently. <face_4> gestures while conversing. <face_5> listens attentively with a smile on his face.']\n",
      "['Equivalence: <face_11>, <voice_73>']\n",
      "['<face_9> is likely an OnlyFans creator, using \"creative\" as a euphemism.']\n",
      "[\"<face_7>, <face_26>, <face_4>, and <face_5> are commentators, reacting to the standing individuals' statements.\"]\n",
      "[\"The commentators are surprised by <face_9>'s occupation and <face_11>'s profession as a professor.\"]\n",
      "['There is an implication that professors do not typically earn large sums of money.']\n"
     ]
    }
   ],
   "source": [
    "for text_node in video_graph.text_nodes:\n",
    "    print(video_graph.nodes[text_node].metadata[\"contents\"])"
   ]
  },
  {
   "cell_type": "code",
   "execution_count": null,
   "metadata": {},
   "outputs": [],
   "source": [
    "video_graph.visualize()"
   ]
  },
  {
   "cell_type": "code",
   "execution_count": null,
   "metadata": {},
   "outputs": [],
   "source": [
    "# from retrieve import retrieve_from_videograph\n",
    "# from videograph import VideoGraph\n",
    "# from utils.chat_api import (\n",
    "#     generate_messages,\n",
    "#     get_response_with_retry,\n",
    "#     parallel_get_embedding,\n",
    "# )\n",
    "# from utils.general import validate_and_fix_python_list\n",
    "# from prompts import prompt_memory_retrieval\n",
    "\n",
    "# MAX_RETRIES = 3\n",
    "\n",
    "\n",
    "# def generate_queries(question, existing_knowledge=None, query_num=1):\n",
    "#     input = [\n",
    "#         {\n",
    "#             \"type\": \"text\",\n",
    "#             \"content\": prompt_memory_retrieval.format(\n",
    "#                 question=question,\n",
    "#                 query_num=query_num,\n",
    "#                 existing_knowledge=existing_knowledge,\n",
    "#             ),\n",
    "#         }\n",
    "#     ]\n",
    "#     messages = generate_messages(input)\n",
    "#     model = \"gpt-4o-2024-11-20\"\n",
    "#     queries = None\n",
    "#     for i in range(MAX_RETRIES):\n",
    "#         print(f\"Generating queries {i} times\")\n",
    "#         queries = get_response_with_retry(model, messages)[0]\n",
    "#         queries = validate_and_fix_python_list(queries)\n",
    "#         if queries is not None:\n",
    "#             break\n",
    "#     if queries is None:\n",
    "#         raise Exception(\"Failed to generate queries\")\n",
    "#     return queries\n",
    "\n",
    "\n",
    "# def retrieve_from_videograph(videograph, question, topk=3):\n",
    "#     queries = generate_queries(question)\n",
    "#     print(f\"Queries: {queries}\")\n",
    "\n",
    "#     model = \"text-embedding-3-large\"\n",
    "#     query_embeddings = parallel_get_embedding(model, queries)[0]\n",
    "\n",
    "#     related_nodes = []\n",
    "\n",
    "#     for query_embedding in query_embeddings:\n",
    "#         nodes = videograph.search_text_nodes(query_embedding)\n",
    "#         related_nodes.extend(nodes)\n",
    "\n",
    "#     related_nodes = list(set(related_nodes))\n",
    "#     return related_nodes\n",
    "\n",
    "\n",
    "# question = \"Denny\"\n",
    "# retrieved_nodes = retrieve_from_videograph(video_graph, question)\n",
    "# print(retrieved_nodes)"
   ]
  },
  {
   "cell_type": "code",
   "execution_count": null,
   "metadata": {},
   "outputs": [],
   "source": []
  }
 ],
 "metadata": {
  "fileId": "9e153c75-6630-46b6-af1a-76d1a8277f1c",
  "filePath": "/mnt/bn/videonasi18n/longlin.kylin/tce-face-extraction/demo.ipynb",
  "kernelspec": {
   "display_name": "vlm_agent",
   "language": "python",
   "name": "python3"
  },
  "language_info": {
   "codemirror_mode": {
    "name": "ipython",
    "version": 3
   },
   "file_extension": ".py",
   "mimetype": "text/x-python",
   "name": "python",
   "nbconvert_exporter": "python",
   "pygments_lexer": "ipython3",
   "version": "3.9.2"
  }
 },
 "nbformat": 4,
 "nbformat_minor": 2
}
