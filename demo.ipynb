{
 "cells": [
  {
   "cell_type": "code",
   "execution_count": null,
   "metadata": {},
   "outputs": [],
   "source": [
    "from tqdm import tqdm\n",
    "import json\n",
    "\n",
    "from videograph import VideoGraph\n",
    "from utils.general import *\n",
    "from utils.video_processing import *\n",
    "from utils.chat_api import *\n",
    "from prompts import *\n",
    "\n",
    "from retrieve import answer_with_retrieval\n",
    "from generate_memory import streaming_process_video\n",
    "\n",
    "processing_config = json.load(open(\"configs/processing_config.json\"))\n",
    "memory_config = json.load(open(\"configs/memory_config.json\"))"
   ]
  },
  {
   "cell_type": "code",
   "execution_count": null,
   "metadata": {},
   "outputs": [],
   "source": [
    "# video paths can be paths to directories or paths to mp4 files\n",
    "video_paths = processing_config[\"video_paths\"]\n",
    "save_dir = processing_config[\"save_dir\"]\n",
    "max_workers = 1\n",
    "\n",
    "\n",
    "def process_single_video(video_path):\n",
    "    video_graph = VideoGraph(**memory_config)\n",
    "    streaming_process_video(video_graph, video_path)\n",
    "\n",
    "\n",
    "# Process videos in parallel using ThreadPoolExecutor with max_workers limit\n",
    "with ThreadPoolExecutor(max_workers=max_workers) as executor:\n",
    "    # Process videos in parallel using map\n",
    "    list(\n",
    "        tqdm(\n",
    "            executor.map(process_single_video, video_paths),\n",
    "            total=len(video_paths),\n",
    "            desc=\"Processing videos\",\n",
    "        )\n",
    "    )"
   ]
  },
  {
   "cell_type": "code",
   "execution_count": null,
   "metadata": {},
   "outputs": [],
   "source": [
    "video_graph_path = (\n",
    "    \"data/mems/5-Poor-People-vs-1-Secret-Millionaire_60_5_-1_10_20_0.3_0.6.pkl\"\n",
    ")\n",
    "video_graph = load_video_graph(video_graph_path)\n",
    "\n",
    "question = \"How might the social development of children living in military families be affected?\"\n",
    "\n",
    "answer = answer_with_retrieval(\n",
    "    video_graph,\n",
    "    question,\n",
    "    query_num=processing_config[\"query_num\"],\n",
    "    topk=processing_config[\"topk\"],\n",
    "    mode=\"argmax\",\n",
    ")"
   ]
  },
  {
   "cell_type": "code",
   "execution_count": null,
   "metadata": {},
   "outputs": [],
   "source": [
    "video_graph_path = (\n",
    "    \"data/mems/5-Poor-People-vs-1-Secret-Millionaire_60_5_-1_10_20_0.3_0.6.pkl\"\n",
    ")\n",
    "video_graph = load_video_graph(video_graph_path)\n",
    "video_graph.visualize()\n",
    "\n",
    "# print all episodic and semantic nodes\n",
    "for node_id in video_graph.text_nodes:\n",
    "    print(video_graph.nodes[node_id].metadata[\"contents\"][0])"
   ]
  }
 ],
 "metadata": {
  "fileId": "9e153c75-6630-46b6-af1a-76d1a8277f1c",
  "filePath": "/mnt/bn/videonasi18n/longlin.kylin/tce-face-extraction/demo.ipynb",
  "kernelspec": {
   "display_name": "vlm_agent",
   "language": "python",
   "name": "python3"
  },
  "language_info": {
   "codemirror_mode": {
    "name": "ipython",
    "version": 3
   },
   "file_extension": ".py",
   "mimetype": "text/x-python",
   "name": "python",
   "nbconvert_exporter": "python",
   "pygments_lexer": "ipython3",
   "version": "3.9.2"
  }
 },
 "nbformat": 4,
 "nbformat_minor": 2
}
