{
 "cells": [
  {
   "cell_type": "code",
   "execution_count": 1,
   "metadata": {},
   "outputs": [
    {
     "name": "stderr",
     "output_type": "stream",
     "text": [
      "/usr/local/lib/python3.9/dist-packages/bytedtrace/__init__.py:108: UserWarning: [bytedtrace] global tracer is already initialized.\n",
      "  warnings.warn('[bytedtrace] global tracer is already initialized.')\n"
     ]
    }
   ],
   "source": [
    "import numpy as np\n",
    "from tqdm import tqdm\n",
    "import os\n",
    "import json\n",
    "\n",
    "from videograph import VideoGraph\n",
    "from utils.general import *\n",
    "from utils.video_processing import *\n",
    "from utils.chat_api import *\n",
    "from prompts import *\n",
    "\n",
    "from face_processing import process_faces\n",
    "from voice_processing import process_voices\n",
    "from memory_processing import (\n",
    "    process_captions,\n",
    "    generate_captions_and_thinkings_with_ids,\n",
    ")\n",
    "from retrieve import answer_with_retrieval"
   ]
  },
  {
   "cell_type": "code",
   "execution_count": null,
   "metadata": {},
   "outputs": [],
   "source": [
    "def process_segment(video_graph, base64_video, base64_frames, base64_audio):\n",
    "\n",
    "    id2voices = process_voices(video_graph, base64_audio, base64_video)\n",
    "    print(\"Finish processing voices\")\n",
    "\n",
    "    print(f\"processing {len(base64_frames)} frames...\")\n",
    "\n",
    "    id2faces = process_faces(video_graph, base64_frames)\n",
    "    # print(id2faces.keys())\n",
    "    print(\"Finish processing faces\")\n",
    "\n",
    "    episodic_captions, semantic_captions = generate_captions_and_thinkings_with_ids(\n",
    "        video_graph,\n",
    "        base64_video,\n",
    "        base64_frames,\n",
    "        base64_audio,\n",
    "        id2faces,\n",
    "        id2voices,\n",
    "    )\n",
    "\n",
    "    process_captions(video_graph, episodic_captions, type=\"episodic\")\n",
    "    process_captions(video_graph, semantic_captions, type=\"semantic\")\n",
    "\n",
    "    print(\"Finish processing segment\")\n",
    "\n",
    "\n",
    "def streaming_process_video(\n",
    "    video_graph, video_path, interval_seconds, fps, segment_limit=None\n",
    "):\n",
    "    \"\"\"Process video segments at specified intervals with given fps.\n",
    "\n",
    "    Args:\n",
    "        video_graph (VideoGraph): Graph object to store video information\n",
    "        video_path (str): Path to the video file or directory containing clips\n",
    "        interval_seconds (float): Time interval between segments in seconds\n",
    "        fps (float): Frames per second to extract from each segment\n",
    "\n",
    "    Returns:\n",
    "        None: Updates video_graph in place with processed segments\n",
    "    \"\"\"\n",
    "    if os.path.isfile(video_path):\n",
    "        # Process single video file\n",
    "        video_info = get_video_info(video_path)\n",
    "        print(video_info)\n",
    "\n",
    "        # Process each interval\n",
    "        count = 0\n",
    "        for start_time in np.arange(0, video_info[\"duration\"], interval_seconds):\n",
    "            if start_time + interval_seconds > video_info[\"duration\"]:\n",
    "                break\n",
    "\n",
    "            print(\"=\" * 20)\n",
    "            count += 1\n",
    "\n",
    "            print(f\"Loading {count}-th clip starting at {start_time} seconds...\")\n",
    "            base64_video, base64_frames, base64_audio = process_video_clip(\n",
    "                video_path, start_time, interval_seconds, fps, audio_format=\"wav\"\n",
    "            )\n",
    "\n",
    "            # check dtype\n",
    "            # print(type(base64_video), type(base64_frames[0]), type(base64_audio))\n",
    "\n",
    "            # Process frames for this interval\n",
    "            if base64_frames:\n",
    "                print(\n",
    "                    f\"Starting processing {count}-th clip starting at {start_time} seconds...\"\n",
    "                )\n",
    "                process_segment(\n",
    "                    video_graph,\n",
    "                    base64_video,\n",
    "                    base64_frames,\n",
    "                    base64_audio,\n",
    "                )\n",
    "\n",
    "            if segment_limit is not None and count >= segment_limit:\n",
    "                break\n",
    "\n",
    "    elif os.path.isdir(video_path):\n",
    "        # Process directory of numbered clips\n",
    "        files = os.listdir(video_path)\n",
    "        # Filter for video files and sort by numeric value in filename\n",
    "        video_files = [\n",
    "            f for f in files if any(f.endswith(ext) for ext in [\".mp4\", \".avi\", \".mov\"])\n",
    "        ]\n",
    "        video_files.sort(key=lambda x: int(\"\".join(filter(str.isdigit, x))))\n",
    "\n",
    "        for count, video_file in enumerate(video_files, 1):\n",
    "            print(\"=\" * 20)\n",
    "            full_path = os.path.join(video_path, video_file)\n",
    "            print(f\"Processing clip {count}: {full_path}\")\n",
    "\n",
    "            base64_video, base64_frames, base64_audio = process_video_clip(\n",
    "                full_path, 0, None, fps, audio_format=\"wav\"\n",
    "            )\n",
    "\n",
    "            if base64_frames:\n",
    "                process_segment(\n",
    "                    video_graph,\n",
    "                    base64_video,\n",
    "                    base64_frames,\n",
    "                    base64_audio,\n",
    "                )\n",
    "\n",
    "            if segment_limit is not None and count >= segment_limit:\n",
    "                break"
   ]
  },
  {
   "cell_type": "code",
   "execution_count": null,
   "metadata": {},
   "outputs": [],
   "source": [
    "processing_config = json.load(open(\"configs/processing_config.json\"))\n",
    "memory_config = json.load(open(\"configs/memory_config.json\"))\n",
    "# video paths can be paths to directories or paths to mp4 files\n",
    "video_paths = processing_config[\"video_paths\"]\n",
    "\n",
    "for video_path in video_paths:\n",
    "\n",
    "    video_graph = VideoGraph(**memory_config)\n",
    "\n",
    "    streaming_process_video(\n",
    "        video_graph,\n",
    "        video_path,\n",
    "        processing_config[\"interval_seconds\"],\n",
    "        processing_config[\"fps\"],\n",
    "        processing_config[\"segment_limit\"],\n",
    "    )\n",
    "\n",
    "    video_graph.refresh_equivalences()\n",
    "\n",
    "    save_dir = \"data/video_graphs\"\n",
    "    save_video_graph(\n",
    "        video_graph, video_path, save_dir, (processing_config, memory_config)\n",
    "    )"
   ]
  },
  {
   "cell_type": "code",
   "execution_count": 2,
   "metadata": {},
   "outputs": [
    {
     "name": "stdout",
     "output_type": "stream",
     "text": [
      "Loading video graph from data/video_graphs/5-Poor-People-vs-1-Secret-Millionaire_60_5_5_10_20_0.3_0.6_0.75.pkl\n"
     ]
    },
    {
     "name": "stderr",
     "output_type": "stream",
     "text": [
      "  0%|          | 0/128 [00:00<?, ?it/s]"
     ]
    },
    {
     "name": "stdout",
     "output_type": "stream",
     "text": [
      "Generating equivalences 0 times\n"
     ]
    },
    {
     "name": "stderr",
     "output_type": "stream",
     "text": [
      "2025-03-31 05:45:53,333 - httpx - INFO - HTTP Request: POST https://search-va.byteintl.net/gpt/openapi/online/v2/crawl/openai/deployments/gpt-4o-2024-11-20/chat/completions?api-version=2024-03-01-preview \"HTTP/1.1 200 OK\"\n",
      "  2%|▏         | 2/128 [00:00<00:35,  3.55it/s]"
     ]
    },
    {
     "name": "stdout",
     "output_type": "stream",
     "text": [
      "Generating equivalences 0 times\n"
     ]
    },
    {
     "name": "stderr",
     "output_type": "stream",
     "text": [
      "2025-03-31 05:45:54,076 - httpx - INFO - HTTP Request: POST https://search-va.byteintl.net/gpt/openapi/online/v2/crawl/openai/deployments/gpt-4o-2024-11-20/chat/completions?api-version=2024-03-01-preview \"HTTP/1.1 200 OK\"\n",
      "  2%|▏         | 3/128 [00:01<00:59,  2.12it/s]"
     ]
    },
    {
     "name": "stdout",
     "output_type": "stream",
     "text": [
      "Generating equivalences 0 times\n"
     ]
    },
    {
     "name": "stderr",
     "output_type": "stream",
     "text": [
      "2025-03-31 05:45:55,334 - httpx - INFO - HTTP Request: POST https://search-va.byteintl.net/gpt/openapi/online/v2/crawl/openai/deployments/gpt-4o-2024-11-20/chat/completions?api-version=2024-03-01-preview \"HTTP/1.1 200 OK\"\n",
      " 20%|██        | 26/128 [00:02<00:08, 12.03it/s]"
     ]
    },
    {
     "name": "stdout",
     "output_type": "stream",
     "text": [
      "Generating equivalences 0 times\n"
     ]
    },
    {
     "name": "stderr",
     "output_type": "stream",
     "text": [
      "2025-03-31 05:45:56,691 - httpx - INFO - HTTP Request: POST https://search-va.byteintl.net/gpt/openapi/online/v2/crawl/openai/deployments/gpt-4o-2024-11-20/chat/completions?api-version=2024-03-01-preview \"HTTP/1.1 200 OK\"\n",
      " 42%|████▏     | 54/128 [00:03<00:04, 16.21it/s]"
     ]
    },
    {
     "name": "stdout",
     "output_type": "stream",
     "text": [
      "Generating equivalences 0 times\n"
     ]
    },
    {
     "name": "stderr",
     "output_type": "stream",
     "text": [
      "2025-03-31 05:45:57,376 - httpx - INFO - HTTP Request: POST https://search-va.byteintl.net/gpt/openapi/online/v2/crawl/openai/deployments/gpt-4o-2024-11-20/chat/completions?api-version=2024-03-01-preview \"HTTP/1.1 200 OK\"\n",
      " 44%|████▍     | 56/128 [00:04<00:05, 12.76it/s]"
     ]
    },
    {
     "name": "stdout",
     "output_type": "stream",
     "text": [
      "Generating equivalences 0 times\n"
     ]
    },
    {
     "name": "stderr",
     "output_type": "stream",
     "text": [
      "2025-03-31 05:45:57,887 - httpx - INFO - HTTP Request: POST https://search-va.byteintl.net/gpt/openapi/online/v2/crawl/openai/deployments/gpt-4o-2024-11-20/chat/completions?api-version=2024-03-01-preview \"HTTP/1.1 200 OK\"\n",
      " 45%|████▍     | 57/128 [00:05<00:06, 10.42it/s]"
     ]
    },
    {
     "name": "stdout",
     "output_type": "stream",
     "text": [
      "Generating equivalences 0 times\n"
     ]
    },
    {
     "name": "stderr",
     "output_type": "stream",
     "text": [
      "2025-03-31 05:45:58,568 - httpx - INFO - HTTP Request: POST https://search-va.byteintl.net/gpt/openapi/online/v2/crawl/openai/deployments/gpt-4o-2024-11-20/chat/completions?api-version=2024-03-01-preview \"HTTP/1.1 200 OK\"\n",
      " 63%|██████▎   | 81/128 [00:05<00:02, 17.67it/s]"
     ]
    },
    {
     "name": "stdout",
     "output_type": "stream",
     "text": [
      "Generating equivalences 0 times\n"
     ]
    },
    {
     "name": "stderr",
     "output_type": "stream",
     "text": [
      "2025-03-31 05:45:59,073 - httpx - INFO - HTTP Request: POST https://search-va.byteintl.net/gpt/openapi/online/v2/crawl/openai/deployments/gpt-4o-2024-11-20/chat/completions?api-version=2024-03-01-preview \"HTTP/1.1 200 OK\"\n",
      " 65%|██████▍   | 83/128 [00:06<00:03, 14.43it/s]"
     ]
    },
    {
     "name": "stdout",
     "output_type": "stream",
     "text": [
      "Generating equivalences 0 times\n"
     ]
    },
    {
     "name": "stderr",
     "output_type": "stream",
     "text": [
      "2025-03-31 05:45:59,446 - httpx - INFO - HTTP Request: POST https://search-va.byteintl.net/gpt/openapi/online/v2/crawl/openai/deployments/gpt-4o-2024-11-20/chat/completions?api-version=2024-03-01-preview \"HTTP/1.1 200 OK\"\n",
      " 84%|████████▍ | 108/128 [00:06<00:00, 24.93it/s]"
     ]
    },
    {
     "name": "stdout",
     "output_type": "stream",
     "text": [
      "Generating equivalences 0 times\n"
     ]
    },
    {
     "name": "stderr",
     "output_type": "stream",
     "text": [
      "2025-03-31 05:45:59,975 - httpx - INFO - HTTP Request: POST https://search-va.byteintl.net/gpt/openapi/online/v2/crawl/openai/deployments/gpt-4o-2024-11-20/chat/completions?api-version=2024-03-01-preview \"HTTP/1.1 200 OK\"\n"
     ]
    },
    {
     "name": "stdout",
     "output_type": "stream",
     "text": [
      "Generating equivalences 0 times\n"
     ]
    },
    {
     "name": "stderr",
     "output_type": "stream",
     "text": [
      "2025-03-31 05:46:00,327 - httpx - INFO - HTTP Request: POST https://search-va.byteintl.net/gpt/openapi/online/v2/crawl/openai/deployments/gpt-4o-2024-11-20/chat/completions?api-version=2024-03-01-preview \"HTTP/1.1 200 OK\"\n",
      "100%|██████████| 128/128 [00:07<00:00, 16.95it/s]\n"
     ]
    },
    {
     "name": "stdout",
     "output_type": "stream",
     "text": [
      "Generating queries 0 times\n"
     ]
    },
    {
     "name": "stderr",
     "output_type": "stream",
     "text": [
      "2025-03-31 05:46:02,397 - httpx - INFO - HTTP Request: POST https://search-va.byteintl.net/gpt/openapi/online/v2/crawl/openai/deployments/gpt-4o-2024-11-20/chat/completions?api-version=2024-03-01-preview \"HTTP/1.1 200 OK\"\n"
     ]
    },
    {
     "name": "stdout",
     "output_type": "stream",
     "text": [
      "Queries: ['Names of all characters mentioned in the story.', 'Which character is associated with social media platforms?', 'Which character is described as having an online presence?', \"Details about characters' professions or hobbies.\", 'Which character is involved in content creation or online activities?', 'Which character is described as having a subscription-based account?', 'Which character is linked to monetized online platforms?', 'Which character is described as engaging with fans or followers?', 'Which character is associated with adult content or similar platforms?', 'Which character has been mentioned in connection with OnlyFans or similar services?']\n",
      "['<voice_0> introduces four individuals named Denny, Herm, Aaron, and JC, along with five other unnamed individuals.', '<character_4> is later revealed to have an OnlyFans account.', \"<voice_55> expresses surprise at the revelation of <character_4>'s OnlyFans involvement, stating that they 'might have a million dollars.'\"]\n"
     ]
    },
    {
     "name": "stderr",
     "output_type": "stream",
     "text": [
      "2025-03-31 05:46:05,398 - httpx - INFO - HTTP Request: POST https://search-va.byteintl.net/gpt/openapi/online/v2/crawl/openai/deployments/gpt-4o-2024-11-20/chat/completions?api-version=2024-03-01-preview \"HTTP/1.1 200 OK\"\n"
     ]
    },
    {
     "name": "stdout",
     "output_type": "stream",
     "text": [
      "[INTERMEDIATE] <character_4> is revealed to have an OnlyFans account. Next, I need to identify the name of <character_4> to provide the final answer.\n",
      "Generating queries 0 times\n"
     ]
    },
    {
     "name": "stderr",
     "output_type": "stream",
     "text": [
      "2025-03-31 05:46:10,899 - httpx - INFO - HTTP Request: POST https://search-va.byteintl.net/gpt/openapi/online/v2/crawl/openai/deployments/gpt-4o-2024-11-20/chat/completions?api-version=2024-03-01-preview \"HTTP/1.1 200 OK\"\n"
     ]
    },
    {
     "name": "stdout",
     "output_type": "stream",
     "text": [
      "Entities parsing error: invalid literal for int() with base 10: 'X'\n",
      "Entities parsing error: invalid literal for int() with base 10: 'Y'\n",
      "Queries: ['What is the name of <face_8>?', 'What is the name of <voice_82>?', 'Who are the five unnamed individuals introduced by <voice_0>?', \"Which character is associated with <voice_55>'s surprise about an OnlyFans account?\", \"Does <voice_55> mention any specific names when reacting to <face_8>'s OnlyFans account?\", \"Does <voice_55> mention any specific names when reacting to <voice_82>'s OnlyFans account?\", 'Are there any connections between <face_8> and the named individuals Denny, Herm, Aaron, or JC?', 'Are there any connections between <voice_82> and the named individuals Denny, Herm, Aaron, or JC?', \"Which character is linked to the statement about 'having a million dollars'?\", 'Does <voice_0> provide any additional details about the unnamed individuals?', 'Are there any visual descriptions or actions associated with <face_8> in the memory bank?', 'Are there any visual descriptions or actions associated with <voice_82> in the memory bank?', 'Is <face_8> mentioned in any other context or dialogue in the memory bank?', 'Is <voice_82> mentioned in any other context or dialogue in the memory bank?', 'Are there any equivalences or mappings (e.g., <face_X>, <voice_Y>) that involve <face_8>?', 'Are there any equivalences or mappings (e.g., <face_X>, <voice_Y>) that involve <voice_82>?']\n",
      "['<voice_0> explains the premise of the video: only one of the five unnamed people is a millionaire, while the other four are not.', '<face_3> points at <character_0> while laughing.', '<face_4> points at <character_0>.', '<character_4> wears a white, long-sleeved, collared shirt and khaki pants.', 'Equivalence: <face_3>, <character_1>', 'Equivalence: <face_9>, <character_0>', '<character_5> is considered to be well-off financially based on the observation about his shoes.', '<character_4> wears a white long-sleeved collared shirt and khaki pants.', '<face_4> points at <character_0>.', \"<character_2> says: 'means he got a lot of money. And he got penny loafers on with no penny in it. So it's like, y'all don't even know how much I got. You know what I'm saying? So'\", \"<character_1> says: 'millionaires don't dress up.'\", \"<character_2> says: 'We're gazing over number two, our beautiful lady here.'\", '<face_9>, <face_7>, <face_8>, and <character_5> stand and listen to the commentary from the individuals at the table.', 'Equivalence: <face_6>, <character_2>', \"<face_9> is perceived as wealthy due to his penny loafers, but <character_2> questions his financial status, suggesting he's pretending.\", \"<face_6> believes <character_0>'s attire is too put-together for a millionaire, implying millionaires dress more casually.\", 'The group at the table, including <face_6>, <face_26>, <face_3>, <face_5>, and <face_4>, are analyzing and commenting on the group standing, which includes <face_9>, <face_7>, <face_8>, and <character_5>.', '<character_4> wears gold-rimmed sunglasses.', '<character_2> asks if someone is gazing.', '<voice_54> explains their intention.', \"<voice_25> comments on <character_3>'s appearance and speculates about her financial status.\", '<voice_25> directs the conversation to the standing group and prompts <character_0> to introduce himself.', '<character_0> states his name and occupation.', '<face_9> looks towards <character_1> while introducing himself.', 'Equivalence: <face_9>, <character_0>', \"<character_0> is likely a participant in a show or interview, given the 'ON AIR' sign and the structured format of introductions.\", '<character_2>, <face_26>, <face_5>, and <face_4> are commentators or judges, observing and providing feedback on the standing group.', '<face_7>, <face_8>, and <character_5> are likely contestants or guests being evaluated, based on their positioning and the comments directed at them.', '<face_9> smiles while <character_3> is talking.', '<face_4> points his finger while talking to <face_5>.', '<character_4> wears a white long-sleeved shirt and brown pants.', '<character_4> wears tinted aviator sunglasses.', '<character_2> places his hand near his chin as if in thought.', 'Equivalence: <face_7>, <character_3>', 'Equivalence: <face_8>, <character_4>', 'Equivalence: <face_3>, <character_1>', 'Equivalence: <face_6>, <character_2>', \"<character_4>'s name, Labone, is unusual and memorable.\", 'The group at the table (<face_3>, <face_4>, <face_5>, <character_2>) are reacting to the interviewees, suggesting a dynamic similar to a talk show or audition.', '<voice_81> asks <character_4> what he does for a living.', \"<voice_107> suggests that <character_4> may be financially struggling based on his initial answer of 'creative.'\", '<voice_81> then asks <character_5> for their name and occupation.', 'Equivalence: <face_10>, <character_5>', '<character_4> initially misleads the others about his profession, perhaps due to embarrassment or a desire to appear more conventionally successful.', '<voice_107>, <face_6>, <character_1>, <face_5>, and <face_26> are likely comedians or entertainers, given their reactions and the humorous nature of the video.']\n"
     ]
    },
    {
     "name": "stderr",
     "output_type": "stream",
     "text": [
      "2025-03-31 05:46:12,891 - httpx - INFO - HTTP Request: POST https://search-va.byteintl.net/gpt/openapi/online/v2/crawl/openai/deployments/gpt-4o-2024-11-20/chat/completions?api-version=2024-03-01-preview \"HTTP/1.1 200 OK\"\n"
     ]
    },
    {
     "name": "stdout",
     "output_type": "stream",
     "text": [
      "[FINAL] Labone has an OnlyFans account.\n"
     ]
    }
   ],
   "source": [
    "video_graph_path = \"data/video_graphs/5-Poor-People-vs-1-Secret-Millionaire_60_5_5_10_20_0.3_0.6_0.75.pkl\"\n",
    "video_graph = load_video_graph(video_graph_path)\n",
    "# for text_node in video_graph.text_nodes:\n",
    "#     print(video_graph.nodes[text_node].metadata['contents'])\n",
    "# for nodes, weight in video_graph.edges.items():\n",
    "#     if weight > 1:\n",
    "#         if video_graph.nodes[nodes[0]].type in [\"episodic\", \"semantic\"]:\n",
    "#            print(video_graph.nodes[nodes[0]].metadata['contents'])\n",
    "#         else:\n",
    "#            print(video_graph.nodes[nodes[1]].metadata['contents'])\n",
    "#         print(weight)\n",
    "\n",
    "video_graph.text_matching_threshold = 0.4\n",
    "video_graph.refresh_equivalences()\n",
    "\n",
    "# question = 'What does Demar Randy wear?'\n",
    "question = \"Who has an OnlyFans account?\"\n",
    "answer = answer_with_retrieval(video_graph, question, query_num=10, topk=15)\n",
    "\n",
    "# video_graph.summarize(logging=True)\n",
    "# save_dir = \"data/video_graphs\"\n",
    "# save_video_graph(\n",
    "#     video_graph, None, save_dir, None, file_name='5-Poor-People-vs-1-Secret-Millionaire_60_5_5_10_20_0.3_0.6_0.75_augmented.pkl'\n",
    "# )\n",
    "# video_graph.visualize()"
   ]
  },
  {
   "cell_type": "code",
   "execution_count": 12,
   "metadata": {},
   "outputs": [
    {
     "name": "stdout",
     "output_type": "stream",
     "text": [
      "Loading video graph from data/video_graphs/5-Poor-People-vs-1-Secret-Millionaire_60_5_5_10_20_0.3_0.6_0.75.pkl\n"
     ]
    },
    {
     "data": {
      "image/png": "[encoded data removed]",
      "text/plain": [
       "<Figure size 800x500 with 1 Axes>"
      ]
     },
     "metadata": {},
     "output_type": "display_data"
    }
   ],
   "source": [
    "from utils.chat_api import *\n",
    "from utils.general import plot_cosine_similarity_distribution\n",
    "\n",
    "video_graph_path = \"data/video_graphs/5-Poor-People-vs-1-Secret-Millionaire_60_5_5_10_20_0.3_0.6_0.75.pkl\"\n",
    "video_graph = load_video_graph(video_graph_path)\n",
    "\n",
    "graph_embeddings = []\n",
    "\n",
    "for id, node in video_graph.nodes.items():\n",
    "    if node.type in ['episodic', 'semantic']:\n",
    "        graph_embeddings.extend(node.embeddings)\n",
    "\n",
    "# texts = [\"Clothing style of Demar Randy\", \"<voice_44> introduces himself as Demar Randy.\"]\n",
    "texts = [\"<face_4> points at <face_9>.\"]\n",
    "embs = parallel_get_embedding('text-embedding-3-large', texts)[0]\n",
    "\n",
    "plot_cosine_similarity_distribution(graph_embeddings, embs)\n"
   ]
  },
  {
   "cell_type": "code",
   "execution_count": 3,
   "metadata": {},
   "outputs": [
    {
     "name": "stdout",
     "output_type": "stream",
     "text": [
      "['<voice_0> introduces four individuals named Denny, Herm, Aaron, and JC, along with five other unnamed individuals.']\n",
      "['<voice_0> explains the premise of the video: only one of the five unnamed people is a millionaire, while the other four are not.']\n",
      "['<face_9> wears a black jacket, a plaid shirt, and jeans.']\n",
      "['<face_7> wears a purple jacket and black pants.']\n",
      "['<face_3> points at <face_9> while laughing.']\n",
      "['<face_4> points at <face_9>.']\n",
      "[\"<voice_1> states, 'Got bills.'\"]\n",
      "[\"<face_3> says, 'Cuz you was in the guest of Black Privilege, and I think we had to pay him.'\"]\n",
      "['<face_8> wears a white, long-sleeved, collared shirt and khaki pants.']\n",
      "['<face_10> wears no socks with his loafers.']\n",
      "['Equivalence: <face_3>, <voice_2>']\n",
      "['Equivalence: <face_9>, <voice_1>']\n",
      "['<face_9> is being accused of not being a millionaire because he was previously a guest on Black Privilege and needed to be paid for his appearance.']\n",
      "['<face_10> is considered to be well-off financially based on the observation about his shoes.']\n",
      "['<face_6> wears a black hoodie.']\n",
      "['<face_26> wears a blue Drexel hoodie.']\n",
      "['<face_5> wears a blue jacket and a white beanie.']\n",
      "[\"<face_4> wears a cream-colored t-shirt with the word 'Dude' visible.\"]\n",
      "['<face_9> wears a black bomber jacket and light wash jeans.']\n",
      "['<face_7> wears a purple jacket and black pants.']\n",
      "['<face_8> wears a white long-sleeved collared shirt and khaki pants.']\n",
      "['<face_10> wears a dark blue jacket, gray pants, and loafers.']\n",
      "['<face_3> points at <face_9> while laughing.']\n",
      "['<face_4> points at <face_9>.']\n",
      "['<face_26> gestures with his hands while speaking.']\n",
      "['<face_3> rests his chin in his hand thoughtfully.']\n",
      "['<face_5> holds a water bottle.']\n",
      "[\"<voice_25> says: 'means he got a lot of money. And he got penny loafers on with no penny in it. So it's like, y'all don't even know how much I got. You know what I'm saying? So'\"]\n",
      "[\"<voice_2> says: 'millionaires don't dress up.'\"]\n",
      "[\"<voice_25> says: 'They really wear like like four, three and four very like calm, cuz they don't make, you know, they'\"]\n",
      "[\"<voice_25> says: 'He looks a little bit too well put together, I would say.'\"]\n",
      "[\"<voice_25> says: 'You look like you're pretending that you have money, but you work at Gelsons.'\"]\n",
      "[\"<voice_25> says: 'We're gazing over number two, our beautiful lady here.'\"]\n",
      "[\"<face_6>, <face_26>, <face_5>, and <face_4> sit at a table with an 'ON AIR' sign.\"]\n",
      "['<face_9>, <face_7>, <face_8>, and <face_10> stand and listen to the commentary from the individuals at the table.']\n",
      "['Equivalence: <face_6>, <voice_25>']\n",
      "[\"<face_9> is perceived as wealthy due to his penny loafers, but <face_6> questions his financial status, suggesting he's pretending.\"]\n",
      "[\"<face_6> believes <face_9>'s attire is too put-together for a millionaire, implying millionaires dress more casually.\"]\n",
      "['<face_6> humorously suggests <face_9> works at Gelsons, a grocery store chain, contrasting with the perceived wealth.']\n",
      "['The group at the table, including <face_6>, <face_26>, <face_3>, <face_5>, and <face_4>, are analyzing and commenting on the group standing, which includes <face_9>, <face_7>, <face_8>, and <face_10>.']\n",
      "['<face_8> wears gold-rimmed sunglasses.']\n",
      "['<face_10> wears a camouflage jacket and an orange baseball cap.']\n",
      "['<face_26> wears a Drexel sweatshirt.']\n",
      "['<face_3> wears a black and white baseball-style shirt.']\n",
      "['<face_5> wears a denim jacket and a beanie.']\n",
      "['<face_4> wears a white t-shirt and a baseball cap.']\n",
      "['<face_6> wears a black hoodie.']\n",
      "['<face_9> wears a black jacket, a collared shirt, and a beanie.']\n",
      "['<voice_53> asks if someone is gazing.']\n",
      "['<voice_54> explains their intention.']\n",
      "['<voice_2> asks for the English word for not paying attention.']\n",
      "[\"<voice_55> says the word is 'overlooking.'\"]\n",
      "[\"<voice_25> comments on <face_7>'s appearance and speculates about her financial status.\"]\n",
      "['<voice_25> directs the conversation to the standing group and prompts <face_9> to introduce himself.']\n",
      "['<voice_56> states his name and occupation.']\n",
      "['<face_3> gestures with his hands while speaking.']\n",
      "['<face_5> raises his hand for a high five with <face_3>.']\n",
      "['<face_9> looks towards <face_3> while introducing himself.']\n",
      "['Equivalence: <face_9>, <voice_56>']\n",
      "['<face_3> and <face_5> appear to be friends, based on their high five.']\n",
      "[\"<face_9> is likely a participant in a show or interview, given the 'ON AIR' sign and the structured format of introductions.\"]\n",
      "['<face_6>, <face_26>, <face_5>, and <face_4> are commentators or judges, observing and providing feedback on the standing group.']\n",
      "['<face_7>, <face_8>, and <face_10> are likely contestants or guests being evaluated, based on their positioning and the comments directed at them.']\n",
      "['<face_9> is wearing a black bomber jacket and a plaid shirt.']\n",
      "['<face_7> wears a purple velvet blazer and black pants.']\n",
      "[\"<face_7> says: 'Uh, I'm Tori K., and uh, my family works in the oil business.'\"]\n",
      "['<face_7> appears nervous while being interviewed.']\n",
      "['<face_9> smiles while <face_7> is talking.']\n",
      "['<face_3> leans back slightly and puts his hand to his mouth.']\n",
      "[\"<face_3> says: 'She said her family. She said her family. She said her family.'\"]\n",
      "['<face_3> leans forward and puts his hands on the table.']\n",
      "['<face_5> raises his thumbs while making a comment.']\n",
      "[\"<face_5> says: 'She said her family. She said her family. She said her family.'\"]\n",
      "['<face_4> points his finger while talking to <face_5>.']\n",
      "['<face_4> places both hands on the table.']\n",
      "['<face_8> wears a white long-sleeved shirt and brown pants.']\n",
      "['<face_8> wears tinted aviator sunglasses.']\n",
      "[\"<face_8> says: 'My name is Labone James.'\"]\n",
      "['<face_6> places his hand near his chin as if in thought.']\n",
      "[\"<face_6> says: 'Hey, no, this broke. This need a Labone.'\"]\n",
      "['Equivalence: <face_7>, <voice_80>']\n",
      "['Equivalence: <face_8>, <voice_82>']\n",
      "['Equivalence: <face_3>, <voice_55>']\n",
      "['Equivalence: <face_6>, <voice_53>']\n",
      "[\"<face_7> is likely from a wealthy background due to her family's involvement in the oil business.\"]\n",
      "[\"<face_8>'s name, Labone, is unusual and memorable.\"]\n",
      "['The group at the table (<face_3>, <face_4>, <face_5>, <face_6>) are reacting to the interviewees, suggesting a dynamic similar to a talk show or audition.']\n",
      "['<face_4> laughs while seated at a table alongside other individuals.']\n",
      "['<face_5> raises his thumbs up while making a comment at a table.']\n",
      "['<voice_81> asks <face_8> what he does for a living.']\n",
      "['<face_3> laughs and points at himself while seated at a table with others.']\n",
      "['<face_26> places his hand on his chin thoughtfully during a conversation at a table.']\n",
      "['<face_6> gestures with his hands while talking to others at the table.']\n",
      "[\"<face_8> states that he works as a 'creative.'\"]\n",
      "['<face_8> is later revealed to have an OnlyFans account.']\n",
      "[\"<voice_107> suggests that <face_8> may be financially struggling based on his initial answer of 'creative.'\"]\n",
      "[\"<voice_55> expresses surprise at the revelation of <face_8>'s OnlyFans involvement, stating that they 'might have a million dollars.'\"]\n",
      "['<voice_81> then asks <face_10> for their name and occupation.']\n",
      "['<face_10> introduces himself as Stewart Thompson and identifies as a professor.']\n",
      "['<voice_109> states their skepticism that professors earn a substantial amount of money.']\n",
      "['Equivalence: <face_10>, <voice_108>']\n",
      "['<face_8> initially misleads the others about his profession, perhaps due to embarrassment or a desire to appear more conventionally successful.']\n",
      "['<voice_107>, <face_6>, <face_3>, <face_5>, and <face_26> are likely comedians or entertainers, given their reactions and the humorous nature of the video.']\n",
      "[\"<voice_109> appears to hold a stereotypical view about professors' salaries.\"]\n",
      "['The video likely takes place on a set or in a studio, given the plain white background.']\n"
     ]
    }
   ],
   "source": [
    "for text_node in video_graph.text_nodes:\n",
    "    print(video_graph.nodes[text_node].metadata[\"contents\"])"
   ]
  },
  {
   "cell_type": "code",
   "execution_count": null,
   "metadata": {},
   "outputs": [],
   "source": [
    "video_graph.visualize()"
   ]
  },
  {
   "cell_type": "code",
   "execution_count": null,
   "metadata": {},
   "outputs": [],
   "source": [
    "# from retrieve import retrieve_from_videograph\n",
    "# from videograph import VideoGraph\n",
    "# from utils.chat_api import (\n",
    "#     generate_messages,\n",
    "#     get_response_with_retry,\n",
    "#     parallel_get_embedding,\n",
    "# )\n",
    "# from utils.general import validate_and_fix_python_list\n",
    "# from prompts import prompt_memory_retrieval\n",
    "\n",
    "# MAX_RETRIES = 3\n",
    "\n",
    "\n",
    "# def generate_queries(question, existing_knowledge=None, query_num=1):\n",
    "#     input = [\n",
    "#         {\n",
    "#             \"type\": \"text\",\n",
    "#             \"content\": prompt_memory_retrieval.format(\n",
    "#                 question=question,\n",
    "#                 query_num=query_num,\n",
    "#                 existing_knowledge=existing_knowledge,\n",
    "#             ),\n",
    "#         }\n",
    "#     ]\n",
    "#     messages = generate_messages(input)\n",
    "#     model = \"gpt-4o-2024-11-20\"\n",
    "#     queries = None\n",
    "#     for i in range(MAX_RETRIES):\n",
    "#         print(f\"Generating queries {i} times\")\n",
    "#         queries = get_response_with_retry(model, messages)[0]\n",
    "#         queries = validate_and_fix_python_list(queries)\n",
    "#         if queries is not None:\n",
    "#             break\n",
    "#     if queries is None:\n",
    "#         raise Exception(\"Failed to generate queries\")\n",
    "#     return queries\n",
    "\n",
    "\n",
    "# def retrieve_from_videograph(videograph, question, topk=3):\n",
    "#     queries = generate_queries(question)\n",
    "#     print(f\"Queries: {queries}\")\n",
    "\n",
    "#     model = \"text-embedding-3-large\"\n",
    "#     query_embeddings = parallel_get_embedding(model, queries)[0]\n",
    "\n",
    "#     related_nodes = []\n",
    "\n",
    "#     for query_embedding in query_embeddings:\n",
    "#         nodes = videograph.search_text_nodes(query_embedding)\n",
    "#         related_nodes.extend(nodes)\n",
    "\n",
    "#     related_nodes = list(set(related_nodes))\n",
    "#     return related_nodes\n",
    "\n",
    "\n",
    "# question = \"Denny\"\n",
    "# retrieved_nodes = retrieve_from_videograph(video_graph, question)\n",
    "# print(retrieved_nodes)"
   ]
  },
  {
   "cell_type": "code",
   "execution_count": null,
   "metadata": {},
   "outputs": [],
   "source": []
  }
 ],
 "metadata": {
  "fileId": "9e153c75-6630-46b6-af1a-76d1a8277f1c",
  "filePath": "/mnt/bn/videonasi18n/longlin.kylin/tce-face-extraction/demo.ipynb",
  "kernelspec": {
   "display_name": "vlm_agent",
   "language": "python",
   "name": "python3"
  },
  "language_info": {
   "codemirror_mode": {
    "name": "ipython",
    "version": 3
   },
   "file_extension": ".py",
   "mimetype": "text/x-python",
   "name": "python",
   "nbconvert_exporter": "python",
   "pygments_lexer": "ipython3",
   "version": "3.9.2"
  }
 },
 "nbformat": 4,
 "nbformat_minor": 2
}
