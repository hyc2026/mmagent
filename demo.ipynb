{
 "cells": [
  {
   "cell_type": "code",
   "execution_count": null,
   "metadata": {},
   "outputs": [],
   "source": [
    "from tqdm import tqdm\n",
    "import json\n",
    "\n",
    "from mmagent.videograph import VideoGraph\n",
    "from mmagent.utils.general import *\n",
    "from mmagent.utils.video_processing import *\n",
    "from mmagent.utils.chat_api import *\n",
    "from mmagent.prompts import *\n",
    "\n",
    "from mmagent.retrieve import answer_with_retrieval\n",
    "from data_preparation.generate_memory import streaming_process_video\n",
    "\n",
    "processing_config = json.load(open(\"configs/processing_config.json\"))\n",
    "memory_config = json.load(open(\"configs/memory_config.json\"))"
   ]
  },
  {
   "cell_type": "code",
   "execution_count": null,
   "metadata": {},
   "outputs": [],
   "source": [
    "# video paths can be paths to directories or paths to mp4 files\n",
    "video_paths = [\"path/to/clips/files\"]\n",
    "save_dir = processing_config[\"save_dir\"]\n",
    "max_workers = 1\n",
    "\n",
    "\n",
    "def process_single_video(video_path):\n",
    "    video_graph = VideoGraph(**memory_config)\n",
    "    streaming_process_video(video_graph, video_path)\n",
    "\n",
    "\n",
    "# Process videos in parallel using ThreadPoolExecutor with max_workers limit\n",
    "with ThreadPoolExecutor(max_workers=max_workers) as executor:\n",
    "    # Process videos in parallel using map\n",
    "    list(\n",
    "        tqdm(\n",
    "            executor.map(process_single_video, video_paths),\n",
    "            total=len(video_paths),\n",
    "            desc=\"Processing videos\",\n",
    "        )\n",
    "    )"
   ]
  },
  {
   "cell_type": "code",
   "execution_count": null,
   "metadata": {},
   "outputs": [],
   "source": [
    "video_graph_path = (\n",
    "    \"path/to/mem/pkls\"\n",
    ")\n",
    "video_graph = load_video_graph(video_graph_path)\n",
    "\n",
    "question = \"How might the social development of children living in military families be affected?\"\n",
    "\n",
    "answer = answer_with_retrieval(\n",
    "    video_graph,\n",
    "    question,\n",
    "    query_num=processing_config[\"query_num\"],\n",
    "    topk=processing_config[\"topk\"],\n",
    "    mode=\"argmax\",\n",
    ")"
   ]
  },
  {
   "cell_type": "code",
   "execution_count": null,
   "metadata": {},
   "outputs": [],
   "source": [
    "video_graph_path = \"path/to/mem/pkls\"\n",
    "video_graph = load_video_graph(video_graph_path)\n",
    "video_graph.visualize()\n",
    "\n",
    "# print all episodic and semantic nodes\n",
    "for node_id in video_graph.text_nodes:\n",
    "    print(video_graph.nodes[node_id].metadata[\"contents\"][0])"
   ]
  },
  {
   "cell_type": "code",
   "execution_count": null,
   "metadata": {},
   "outputs": [],
   "source": [
    "import numpy as np\n",
    "from tqdm import tqdm\n",
    "import os\n",
    "import json\n",
    "from concurrent.futures import ProcessPoolExecutor\n",
    "import multiprocessing\n",
    "\n",
    "from mmagent.videograph import VideoGraph\n",
    "from mmagent.utils.general import *\n",
    "from mmagent.utils.video_processing import *\n",
    "from mmagent.utils.chat_api import *\n",
    "from mmagent.prompts import *\n",
    "\n",
    "from mmagent.face_processing import process_faces\n",
    "from mmagent.voice_processing import process_voices\n",
    "from mmagent.memory_processing import (\n",
    "    process_captions,\n",
    "    generate_captions_and_thinkings_with_ids,\n",
    ")\n",
    "from data_preparation.generate_memory import streaming_process_video\n",
    "\n",
    "processing_config = json.load(open(\"configs/processing_config.json\"))\n",
    "memory_config = json.load(open(\"configs/memory_config.json\"))\n",
    "\n",
    "video_paths = [\n",
    "    \"path/to/clips/files\"\n",
    "]\n",
    "\n",
    "save_dir = processing_config[\"save_dir\"]\n",
    "generated_memories = os.listdir(save_dir)\n",
    "generated_memories = [\n",
    "    generated_memory\n",
    "    for generated_memory in generated_memories\n",
    "    if generated_memory.endswith(\".pkl\")\n",
    "]\n",
    "video_paths = [\n",
    "    video_path\n",
    "    for video_path in video_paths\n",
    "    if generate_file_name(video_path) + \".pkl\" not in generated_memories\n",
    "]\n",
    "\n",
    "cpu_count = multiprocessing.cpu_count()\n",
    "max_workers = min(cpu_count, processing_config.get(\"max_parallel_videos\", 4))\n",
    "\n",
    "print(f\"Using {max_workers} processes (CPU cores: {cpu_count})\")\n",
    "\n",
    "preprocessing = []\n",
    "\n",
    "\n",
    "def process_single_video(video_path):\n",
    "    video_graph = VideoGraph(**memory_config)\n",
    "    try:\n",
    "        streaming_process_video(video_graph, video_path, preprocessing=preprocessing)\n",
    "    except Exception as e:\n",
    "        log_dir = processing_config[\"log_dir\"]\n",
    "        os.makedirs(log_dir, exist_ok=True)\n",
    "        with open(os.path.join(log_dir, f\"generate_memory_error.log\"), \"a\") as f:\n",
    "            f.write(f\"Error processing video {video_path}: {e}\\n\")\n",
    "\n",
    "\n",
    "with ProcessPoolExecutor(max_workers=max_workers) as executor:\n",
    "    list(\n",
    "        tqdm(\n",
    "            executor.map(process_single_video, video_paths),\n",
    "            total=len(video_paths),\n",
    "            desc=\"Processing videos\",\n",
    "        )\n",
    "    )"
   ]
  },
  {
   "cell_type": "code",
   "execution_count": 11,
   "metadata": {},
   "outputs": [
    {
     "name": "stderr",
     "output_type": "stream",
     "text": [
      "100%|██████████| 1467/1467 [00:00<00:00, 19829.53it/s]\n"
     ]
    },
    {
     "name": "stdout",
     "output_type": "stream",
     "text": [
      "[[], [{'clip_id': 'CLIP_14', 'memory': ['<character_1> speaks into a microphone on a stage with blue background and white vertical bars of light.', '<character_1> stands next to <character_1>, smiling.', '<character_1> says that SMS voting is available on all wireless carriers, and message and data rates may apply.', '<character_1> directs viewers to fox.com/dance for voting details, but asks them not to vote until the end of the show.', '<character_1> says that the judges have given their feedback, but some other people have something to say to <character_1>.', '<character_1> tells <character_1> to take a look.', 'A video of <character_1> at the beach is shown.', '<character_1>, wearing a light blue two-piece outfit, dances on the beach.', \"<character_1>'s parents appear in a video, sitting on a couch in front of a piano.\", \"<character_1>'s mother says that <character_1> was a very shy child.\", \"<character_1>'s parents are supportive of her dance career.\", '<character_2> encourages viewers to vote for their favorite dancer via SMS.', 'The show uses audience voting to determine the outcome of the competition.', 'The video shown by <character_2> is a personal message for <character_1>.', 'The setting is a television studio, likely for a live broadcast.', 'The overall tone is positive and encouraging.']}, {'clip_id': 'CLIP_15', 'memory': ['A man and a woman dance on a stage with a blue umbrella.', 'A man and a woman dance on a stage with yellow and green outfits and gloves.', '<character_6> and a woman sit together.', '<character_6> is wearing a pale yellow polo shirt.', 'The woman next to <character_6> wears an off-the-shoulder teal top.', 'A woman dances in a pale blue dress with sparkling embellishments.', '<character_6> says, \"But when she goes out in stage, she becomes alive. I often tell myself and go, \\'Stop, my daughter.\\'\"', 'A man lifts the woman in the blue dress above his head.', 'A man and a woman perform a tango on stage.', 'The woman wears a floral top and skirt.', '<character_6> says, \"She makes me feel very proud. I always cry when you\\'re on stage.\"', \"<character_6>'s companion speaks to Hannahlei, laughing as she does.\", 'Hannahlei and a man dance on stage. Hannahlei wears an orange gown.', '<character_6> says, \"Hannahlei, we wish you the best of luck. Like what I said when you were little, do it big.\"', '<character_6> and his companion sit together, smiling.', '<character_6> says, \"We love you, Hannahlei. Win it all the way.\"', 'Hannahlei hugs <character_6> and his companion.', \"<character_6>'s companion wears a coral dress.\", 'Hannahlei wears a white jumpsuit.', 'Hannahlei is shown on a stage with a microphone.', 'She wears large hoop earrings and an olive green jacket with white stripes across the chest and back.', '<character_6> and his companion are seen in the audience, clapping for Hannahlei.', '<character_2> says, \"And I think that\\'s how everybody feels here as well. It was so sweet.\"', 'Hannahlei speaks with a blond woman holding a microphone.', \"<character_6>'s name is Tony Cabanilla.\", \"Hannahlei is <character_6>'s daughter.\", '<character_6> and his companion are supportive and proud of Hannahlei.', \"<character_6>'s companion is emotionally moved by Hannahlei's performances.\", 'Hannahlei is a dancer.', 'Hannahlei is competing on a televised dance competition show.', \"The video showcases Hannahlei's dance journey and her parents' unwavering support.\", \"The setting is a television studio and the Cabanilla's home.\"]}, {'clip_id': 'CLIP_30', 'memory': [\"<character_1> says: 'She makes me very proud of saying that I've done something right.'\", 'A woman dances with a man on a stage.', 'The woman wears a green fringed top and skirt.', 'The man wears a blue long-sleeved shirt and blue pants.', 'The background features blue and white lights.', 'On a different stage with red vertical lights and a red couch, the same woman, now wearing a black top and black shorts, dances with a man in a white suit and black pants.', '<character_8> and a woman with long blonde hair sit in a kitchen and talk.', 'A woman dances with a man wearing an apron and ripped jeans, on a stage with an orange background.', \"<character_8> says: 'Jensen, good luck. Go out and give it your all.'\", '<character_8> stands outside with the woman and a younger woman, both with long blonde hair.', '<character_8> hugs the younger woman.', \"<character_8> says: 'Be happy with who you are, work hard, and good things will happen to you.'\", 'The three of them hug one another.', 'On a stage with blue vertical lights, the younger woman stands next to a woman in a long-sleeved purple sequined dress.', 'The younger woman wears a beige off-the-shoulder top.', 'The younger woman smiles and starts to cry.', \"<character_2> asks: 'How does it feel being part of the top four and standing here and hearing those messages from your family?'\", \"<character_2> says: 'This is such an amazing thing, experience, and I am so grateful to be here and'\", '<character_8> is the father of the younger woman.', '<character_8> is the mother of the younger woman.', 'The younger woman is a dancer who has made it to the top four of a competition.', \"The parents are supportive and proud of their daughter's accomplishments.\", 'The younger woman is grateful and emotional about her success.', 'The video is a clip from a reality television competition show, likely So You Think You Can Dance.', \"The scene depicts the announcement of the top four finalists and their families' reactions.\"]}, {'clip_id': 'CLIP_37', 'memory': ['On a stage, Hannahlei performs a contemporary dance routine.', 'Hannahlei wears a dark pink leotard.', 'A woman in a sparkly rainbow dress claps for Hannahlei from the audience.', 'Hannahlei kicks her leg high into the air.', 'Hannahlei performs a series of gymnastic moves and contemporary dance poses.', 'The video showcases a dance performance by Hannahlei on a stage.', 'A woman in a sparkly rainbow dress in the audience appears to be a supporter of Hannahlei.', 'The video is likely from a televised dance competition or show.', \"The overall tone of the video is celebratory and focused on Hannahlei's talent.\"]}, {'clip_id': 'CLIP_39', 'memory': ['A woman introduces two dancers, <character_12> and Hannahlei.', '<character_12> and Hannahlei stand on a stage, smiling at the camera.', '<character_12> wears a blue sports bra and black bottoms.', 'Hannahlei wears a light blue sports bra and black bottoms.', 'In a dance studio, <character_12> says that she and Hannahlei are dancing a contemporary piece choreographed by <character_36>.', '<character_12>, Hannahlei, and <character_36> rehearse the dance routine.', 'Hannahlei says that she is excited to work with <character_12> because they are roommates and have helped each other through the competition process.', '<character_12> says that they talk all the time and have an instant connection.', '<character_36> explains that the idea behind the routine is to show two girls who rely on each other having to fend for themselves.', \"<character_36>'s name is Talia Favia.\", '<character_12> and Hannahlei are roommates and support each other.', '<character_12> and Hannahlei have a close bond and good communication.', '<character_36> choreographed a contemporary dance for <character_12> and Hannahlei.', 'The dance explores the theme of two individuals who usually rely on each other suddenly having to become independent.', 'The video is a clip from a dance competition show.', 'The setting includes a stage, a judging panel, and a dance studio.']}]]\n"
     ]
    }
   ],
   "source": [
    "from mmagent.utils.general import load_video_graph\n",
    "from mmagent.retrieve import answer_with_retrieval\n",
    "import sys\n",
    "import mmagent.videograph\n",
    "\n",
    "sys.modules[\"videograph\"] = mmagent.videograph\n",
    "\n",
    "video_graph_path = \"path/to/mem/pkls\"\n",
    "video_graph = load_video_graph(video_graph_path)\n",
    "# video_graph.visualize()\n",
    "\n",
    "video_graph.refresh_equivalences()\n",
    "question = \"Do Hannahlei's parents support her dancing?\"\n",
    "answer, session = answer_with_retrieval(video_graph, question)\n",
    "print(session[0])"
   ]
  },
  {
   "cell_type": "code",
   "execution_count": null,
   "metadata": {},
   "outputs": [],
   "source": []
  }
 ],
 "metadata": {
  "fileId": "9e153c75-6630-46b6-af1a-76d1a8277f1c",
  "filePath": "/mnt/bn/videonasi18n/longlin.kylin/tce-face-extraction/demo.ipynb",
  "kernelspec": {
   "display_name": "vlm_agent",
   "language": "python",
   "name": "python3"
  },
  "language_info": {
   "codemirror_mode": {
    "name": "ipython",
    "version": 3
   },
   "file_extension": ".py",
   "mimetype": "text/x-python",
   "name": "python",
   "nbconvert_exporter": "python",
   "pygments_lexer": "ipython3",
   "version": "3.9.2"
  }
 },
 "nbformat": 4,
 "nbformat_minor": 2
}
