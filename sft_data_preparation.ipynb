{
 "cells": [
  {
   "cell_type": "code",
   "execution_count": 1,
   "metadata": {},
   "outputs": [],
   "source": [
    "import json"
   ]
  },
  {
   "cell_type": "code",
   "execution_count": 7,
   "metadata": {},
   "outputs": [
    {
     "name": "stdout",
     "output_type": "stream",
     "text": [
      "Valid video ids: 500\n",
      "Selected 482 samples\n"
     ]
    }
   ],
   "source": [
    "data = []\n",
    "with open(\"data/annotations/sft/sft_from_small_train_verified_full.jsonl\", \"r\") as f:\n",
    "    for line in f:\n",
    "        data.append(json.loads(line))\n",
    "\n",
    "valid_video_ids = []\n",
    "with open(\"data/annotations/train_500.jsonl\", \"r\") as f:\n",
    "    for line in f:\n",
    "        d = json.loads(line)\n",
    "        valid_video_ids.append(d[\"video_id\"])\n",
    "valid_video_ids = list(set(valid_video_ids))\n",
    "\n",
    "print(f\"Valid video ids: {len(valid_video_ids)}\")\n",
    "\n",
    "video_ids = list(set([d[\"video_id\"] for d in data if d[\"video_id\"] in valid_video_ids]))\n",
    "max_samples_per_video = 1\n",
    "\n",
    "selected_data = []\n",
    "\n",
    "for video_id in video_ids:\n",
    "    video_data = [\n",
    "        d\n",
    "        for d in data\n",
    "        if d[\"video_id\"] == video_id and d[\"verify_result\"].lower().startswith(\"yes\")\n",
    "    ]\n",
    "    video_data = video_data[:max_samples_per_video]\n",
    "    for d in video_data:\n",
    "        d[\"session\"][1][-1][\"action_content\"] = d[\"answer\"]\n",
    "    selected_data.extend(video_data)\n",
    "\n",
    "with open(\"data/annotations/sft/small_train_selected.jsonl\", \"w\") as f:\n",
    "    for d in selected_data:\n",
    "        f.write(json.dumps(d) + \"\\n\")\n",
    "\n",
    "print(f\"Selected {len(selected_data)} samples\")"
   ]
  },
  {
   "cell_type": "code",
   "execution_count": null,
   "metadata": {},
   "outputs": [],
   "source": []
  }
 ],
 "metadata": {
  "kernelspec": {
   "display_name": "vlm_agent",
   "language": "python",
   "name": "python3"
  },
  "language_info": {
   "codemirror_mode": {
    "name": "ipython",
    "version": 3
   },
   "file_extension": ".py",
   "mimetype": "text/x-python",
   "name": "python",
   "nbconvert_exporter": "python",
   "pygments_lexer": "ipython3",
   "version": "3.11.11"
  }
 },
 "nbformat": 4,
 "nbformat_minor": 2
}
